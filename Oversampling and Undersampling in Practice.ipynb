{
 "cells": [
  {
   "cell_type": "code",
   "execution_count": null,
   "id": "f78fce1f",
   "metadata": {
    "ExecuteTime": {
     "end_time": "2021-10-15T18:45:31.216805Z",
     "start_time": "2021-10-15T18:45:30.425870Z"
    }
   },
   "outputs": [],
   "source": [
    "# import the imbalanced-learn library\n",
    "# install it with ! pip install imbalanced-learn\n",
    "import imblearn"
   ]
  },
  {
   "cell_type": "code",
   "execution_count": 2,
   "id": "111ec9c2",
   "metadata": {
    "ExecuteTime": {
     "end_time": "2021-10-15T18:45:31.263627Z",
     "start_time": "2021-10-15T18:45:31.218537Z"
    }
   },
   "outputs": [],
   "source": [
    "# import the scikit-learn library\n",
    "# install it with ! pip install scikit-learn\n",
    "import sklearn\n",
    "from sklearn.datasets import make_classification\n",
    "from sklearn.model_selection import StratifiedKFold, cross_validate"
   ]
  },
  {
   "cell_type": "code",
   "execution_count": null,
   "id": "47f0f25f",
   "metadata": {
    "ExecuteTime": {
     "end_time": "2021-10-15T18:45:31.563960Z",
     "start_time": "2021-10-15T18:45:31.265467Z"
    }
   },
   "outputs": [],
   "source": [
    "# import other necessary libraries\n",
    "import numpy as np\n",
    "import pandas as pd\n",
    "from collections import Counter\n",
    "import seed_utils"
   ]
  },
  {
   "cell_type": "code",
   "execution_count": 4,
   "id": "d754cb9e",
   "metadata": {
    "ExecuteTime": {
     "end_time": "2021-10-15T18:45:31.568990Z",
     "start_time": "2021-10-15T18:45:31.565461Z"
    }
   },
   "outputs": [],
   "source": [
    "# function to append the averages and\n",
    "# standard deviations of scores,\n",
    "# row 11 are the averages and\n",
    "# row 12 are the stds\n",
    "def append_avgs(dict):\n",
    "    avgs = []\n",
    "    stds = []\n",
    "    for i in dict:\n",
    "        avg = np.average(dict[i])\n",
    "        std = np.std(dict[i])\n",
    "        avgs.append(avg)\n",
    "        stds.append(std)\n",
    "    df = pd.DataFrame(dict)\n",
    "    df.loc[11] = avgs\n",
    "    df.loc[12] = stds\n",
    "    return df"
   ]
  },
  {
   "cell_type": "code",
   "execution_count": 5,
   "id": "36b29aca",
   "metadata": {
    "ExecuteTime": {
     "end_time": "2021-10-15T18:45:31.578977Z",
     "start_time": "2021-10-15T18:45:31.570344Z"
    }
   },
   "outputs": [],
   "source": [
    "# create an imbalaced toy dataset with 10000 samples and 10 features\n",
    "# class 0: 7500 samples, class 1: 2500 samples \n",
    "X, y = make_classification(n_samples=10000, weights=[0.75], n_features = 10,\n",
    "                           flip_y=0, random_state=42)\n",
    "\n",
    "# define the Decision Tree Classifier model\n",
    "model = sklearn.tree.DecisionTreeClassifier()\n",
    "\n",
    "# define crossvalidation strategy\n",
    "# this will perform a stratified 10-fold crossvalidation\n",
    "# parameter n_splits defines the number of folds\n",
    "cv = StratifiedKFold(n_splits=10)\n",
    "\n",
    "# define the scoring dictionary to evaluate the crossvalidation\n",
    "scoring = {'f1': 'f1', 'precision': 'precision', 'accuracy': 'accuracy',\n",
    "           'recall': 'recall', 'roc_auc': 'roc_auc'}"
   ]
  },
  {
   "cell_type": "markdown",
   "id": "d636172f",
   "metadata": {},
   "source": [
    "# Cross-validation without sampling"
   ]
  },
  {
   "cell_type": "code",
   "execution_count": 7,
   "id": "de032a8c",
   "metadata": {
    "ExecuteTime": {
     "end_time": "2021-10-15T18:45:33.029570Z",
     "start_time": "2021-10-15T18:45:31.585492Z"
    }
   },
   "outputs": [],
   "source": [
    "# crossvalidate on original data set\n",
    "scores = cross_validate(model, X, y, scoring=scoring, cv=cv, n_jobs=-1)"
   ]
  },
  {
   "cell_type": "markdown",
   "id": "6014b0e2",
   "metadata": {},
   "source": [
    "**Row 11 contains average scores and 12 contains the standard deviation**"
   ]
  },
  {
   "cell_type": "code",
   "execution_count": 8,
   "id": "655d10c8",
   "metadata": {
    "ExecuteTime": {
     "end_time": "2021-10-15T18:45:33.058833Z",
     "start_time": "2021-10-15T18:45:33.032761Z"
    }
   },
   "outputs": [
    {
     "data": {
      "text/html": [
       "<div>\n",
       "<style scoped>\n",
       "    .dataframe tbody tr th:only-of-type {\n",
       "        vertical-align: middle;\n",
       "    }\n",
       "\n",
       "    .dataframe tbody tr th {\n",
       "        vertical-align: top;\n",
       "    }\n",
       "\n",
       "    .dataframe thead th {\n",
       "        text-align: right;\n",
       "    }\n",
       "</style>\n",
       "<table border=\"1\" class=\"dataframe\">\n",
       "  <thead>\n",
       "    <tr style=\"text-align: right;\">\n",
       "      <th></th>\n",
       "      <th>fit_time</th>\n",
       "      <th>score_time</th>\n",
       "      <th>test_f1</th>\n",
       "      <th>test_precision</th>\n",
       "      <th>test_accuracy</th>\n",
       "      <th>test_recall</th>\n",
       "      <th>test_roc_auc</th>\n",
       "    </tr>\n",
       "  </thead>\n",
       "  <tbody>\n",
       "    <tr>\n",
       "      <th>0</th>\n",
       "      <td>0.108466</td>\n",
       "      <td>0.007195</td>\n",
       "      <td>0.820408</td>\n",
       "      <td>0.837500</td>\n",
       "      <td>0.912000</td>\n",
       "      <td>0.804000</td>\n",
       "      <td>0.876000</td>\n",
       "    </tr>\n",
       "    <tr>\n",
       "      <th>1</th>\n",
       "      <td>0.103974</td>\n",
       "      <td>0.005416</td>\n",
       "      <td>0.827586</td>\n",
       "      <td>0.839506</td>\n",
       "      <td>0.915000</td>\n",
       "      <td>0.816000</td>\n",
       "      <td>0.882000</td>\n",
       "    </tr>\n",
       "    <tr>\n",
       "      <th>2</th>\n",
       "      <td>0.102305</td>\n",
       "      <td>0.005039</td>\n",
       "      <td>0.831068</td>\n",
       "      <td>0.807547</td>\n",
       "      <td>0.913000</td>\n",
       "      <td>0.856000</td>\n",
       "      <td>0.894000</td>\n",
       "    </tr>\n",
       "    <tr>\n",
       "      <th>3</th>\n",
       "      <td>0.095506</td>\n",
       "      <td>0.005006</td>\n",
       "      <td>0.843327</td>\n",
       "      <td>0.816479</td>\n",
       "      <td>0.919000</td>\n",
       "      <td>0.872000</td>\n",
       "      <td>0.903333</td>\n",
       "    </tr>\n",
       "    <tr>\n",
       "      <th>4</th>\n",
       "      <td>0.088152</td>\n",
       "      <td>0.005148</td>\n",
       "      <td>0.823062</td>\n",
       "      <td>0.818182</td>\n",
       "      <td>0.911000</td>\n",
       "      <td>0.828000</td>\n",
       "      <td>0.883333</td>\n",
       "    </tr>\n",
       "    <tr>\n",
       "      <th>5</th>\n",
       "      <td>0.094373</td>\n",
       "      <td>0.004866</td>\n",
       "      <td>0.827586</td>\n",
       "      <td>0.839506</td>\n",
       "      <td>0.915000</td>\n",
       "      <td>0.816000</td>\n",
       "      <td>0.882000</td>\n",
       "    </tr>\n",
       "    <tr>\n",
       "      <th>6</th>\n",
       "      <td>0.089898</td>\n",
       "      <td>0.005041</td>\n",
       "      <td>0.847390</td>\n",
       "      <td>0.850806</td>\n",
       "      <td>0.924000</td>\n",
       "      <td>0.844000</td>\n",
       "      <td>0.897333</td>\n",
       "    </tr>\n",
       "    <tr>\n",
       "      <th>7</th>\n",
       "      <td>0.085832</td>\n",
       "      <td>0.004910</td>\n",
       "      <td>0.837573</td>\n",
       "      <td>0.819923</td>\n",
       "      <td>0.917000</td>\n",
       "      <td>0.856000</td>\n",
       "      <td>0.896667</td>\n",
       "    </tr>\n",
       "    <tr>\n",
       "      <th>8</th>\n",
       "      <td>0.074820</td>\n",
       "      <td>0.004948</td>\n",
       "      <td>0.808679</td>\n",
       "      <td>0.797665</td>\n",
       "      <td>0.903000</td>\n",
       "      <td>0.820000</td>\n",
       "      <td>0.875333</td>\n",
       "    </tr>\n",
       "    <tr>\n",
       "      <th>9</th>\n",
       "      <td>0.081238</td>\n",
       "      <td>0.004822</td>\n",
       "      <td>0.835759</td>\n",
       "      <td>0.870130</td>\n",
       "      <td>0.921000</td>\n",
       "      <td>0.804000</td>\n",
       "      <td>0.882000</td>\n",
       "    </tr>\n",
       "    <tr>\n",
       "      <th>11</th>\n",
       "      <td>0.092456</td>\n",
       "      <td>0.005239</td>\n",
       "      <td>0.830244</td>\n",
       "      <td>0.829725</td>\n",
       "      <td>0.915000</td>\n",
       "      <td>0.831600</td>\n",
       "      <td>0.887200</td>\n",
       "    </tr>\n",
       "    <tr>\n",
       "      <th>12</th>\n",
       "      <td>0.010024</td>\n",
       "      <td>0.000671</td>\n",
       "      <td>0.010851</td>\n",
       "      <td>0.020623</td>\n",
       "      <td>0.005568</td>\n",
       "      <td>0.022659</td>\n",
       "      <td>0.009280</td>\n",
       "    </tr>\n",
       "  </tbody>\n",
       "</table>\n",
       "</div>"
      ],
      "text/plain": [
       "    fit_time  score_time   test_f1  test_precision  test_accuracy  \\\n",
       "0   0.108466    0.007195  0.820408        0.837500       0.912000   \n",
       "1   0.103974    0.005416  0.827586        0.839506       0.915000   \n",
       "2   0.102305    0.005039  0.831068        0.807547       0.913000   \n",
       "3   0.095506    0.005006  0.843327        0.816479       0.919000   \n",
       "4   0.088152    0.005148  0.823062        0.818182       0.911000   \n",
       "5   0.094373    0.004866  0.827586        0.839506       0.915000   \n",
       "6   0.089898    0.005041  0.847390        0.850806       0.924000   \n",
       "7   0.085832    0.004910  0.837573        0.819923       0.917000   \n",
       "8   0.074820    0.004948  0.808679        0.797665       0.903000   \n",
       "9   0.081238    0.004822  0.835759        0.870130       0.921000   \n",
       "11  0.092456    0.005239  0.830244        0.829725       0.915000   \n",
       "12  0.010024    0.000671  0.010851        0.020623       0.005568   \n",
       "\n",
       "    test_recall  test_roc_auc  \n",
       "0      0.804000      0.876000  \n",
       "1      0.816000      0.882000  \n",
       "2      0.856000      0.894000  \n",
       "3      0.872000      0.903333  \n",
       "4      0.828000      0.883333  \n",
       "5      0.816000      0.882000  \n",
       "6      0.844000      0.897333  \n",
       "7      0.856000      0.896667  \n",
       "8      0.820000      0.875333  \n",
       "9      0.804000      0.882000  \n",
       "11     0.831600      0.887200  \n",
       "12     0.022659      0.009280  "
      ]
     },
     "execution_count": 8,
     "metadata": {},
     "output_type": "execute_result"
    }
   ],
   "source": [
    "# use previously defined function \"append_avgs\" to append averages and stds\n",
    "scores = append_avgs(scores)\n",
    "scores"
   ]
  },
  {
   "cell_type": "markdown",
   "id": "22811a3e",
   "metadata": {},
   "source": [
    "# Cross-validation with sampling"
   ]
  },
  {
   "cell_type": "markdown",
   "id": "2fecbbe5",
   "metadata": {},
   "source": [
    "**We will use _SMOTE_ and _Random Undersampling_ as sampling techniques**"
   ]
  },
  {
   "cell_type": "code",
   "execution_count": 9,
   "id": "6ebcd883",
   "metadata": {
    "ExecuteTime": {
     "end_time": "2021-10-15T18:45:33.063651Z",
     "start_time": "2021-10-15T18:45:33.060507Z"
    }
   },
   "outputs": [],
   "source": [
    "# define SMOTE to oversample minority class to contain\n",
    "# half the amount of samples in the majority class\n",
    "# by setting sampling_strategy to 0.5\n",
    "smote = imblearn.over_sampling.SMOTE(sampling_strategy = 0.5)\n",
    "\n",
    "# define RandomUnderSampler to undersample majority class\n",
    "# to contain twice the amount of samples in the minority class\n",
    "# by setting sampling_strategy to 0.5\n",
    "under = imblearn.under_sampling.RandomUnderSampler(sampling_strategy = 0.5)"
   ]
  },
  {
   "cell_type": "markdown",
   "id": "eaddc41d",
   "metadata": {},
   "source": [
    "## Cross validation with sampling -- DONE WRONG"
   ]
  },
  {
   "cell_type": "markdown",
   "id": "98e6b8eb",
   "metadata": {},
   "source": [
    "### Cross-validation with oversampling -- DONE WRONG"
   ]
  },
  {
   "cell_type": "code",
   "execution_count": 10,
   "id": "5a8469d1",
   "metadata": {
    "ExecuteTime": {
     "end_time": "2021-10-15T18:45:33.136038Z",
     "start_time": "2021-10-15T18:45:33.065317Z"
    }
   },
   "outputs": [],
   "source": [
    "# oversample minority class\n",
    "X_smote, y_smote = smote.fit_resample(X, y)"
   ]
  },
  {
   "cell_type": "code",
   "execution_count": 11,
   "id": "5e18e7f8",
   "metadata": {
    "ExecuteTime": {
     "end_time": "2021-10-15T18:45:33.144393Z",
     "start_time": "2021-10-15T18:45:33.137575Z"
    }
   },
   "outputs": [
    {
     "name": "stdout",
     "output_type": "stream",
     "text": [
      "Distribution in original data set Counter({0: 7500, 1: 2500})\n",
      "Distribution in data set after SMOTE Counter({0: 7500, 1: 3750})\n"
     ]
    }
   ],
   "source": [
    "print(\"Distribution in original data set\", Counter(y))\n",
    "print(\"Distribution in data set after SMOTE\", Counter(y_smote))"
   ]
  },
  {
   "cell_type": "code",
   "execution_count": 12,
   "id": "a0028f85",
   "metadata": {
    "ExecuteTime": {
     "end_time": "2021-10-15T18:45:33.770699Z",
     "start_time": "2021-10-15T18:45:33.146156Z"
    }
   },
   "outputs": [],
   "source": [
    "# crossvalidate on oversampled data set using the crossvalidation technique defined in \"cv\"\n",
    "wrong_scores_o = cross_validate(model, X_smote, y_smote, scoring=scoring, cv=cv, n_jobs=-1)"
   ]
  },
  {
   "cell_type": "code",
   "execution_count": 13,
   "id": "654c7821",
   "metadata": {
    "ExecuteTime": {
     "end_time": "2021-10-15T18:45:33.786193Z",
     "start_time": "2021-10-15T18:45:33.772140Z"
    },
    "scrolled": false
   },
   "outputs": [
    {
     "data": {
      "text/html": [
       "<div>\n",
       "<style scoped>\n",
       "    .dataframe tbody tr th:only-of-type {\n",
       "        vertical-align: middle;\n",
       "    }\n",
       "\n",
       "    .dataframe tbody tr th {\n",
       "        vertical-align: top;\n",
       "    }\n",
       "\n",
       "    .dataframe thead th {\n",
       "        text-align: right;\n",
       "    }\n",
       "</style>\n",
       "<table border=\"1\" class=\"dataframe\">\n",
       "  <thead>\n",
       "    <tr style=\"text-align: right;\">\n",
       "      <th></th>\n",
       "      <th>fit_time</th>\n",
       "      <th>score_time</th>\n",
       "      <th>test_f1</th>\n",
       "      <th>test_precision</th>\n",
       "      <th>test_accuracy</th>\n",
       "      <th>test_recall</th>\n",
       "      <th>test_roc_auc</th>\n",
       "    </tr>\n",
       "  </thead>\n",
       "  <tbody>\n",
       "    <tr>\n",
       "      <th>0</th>\n",
       "      <td>0.089884</td>\n",
       "      <td>0.004451</td>\n",
       "      <td>0.864430</td>\n",
       "      <td>0.870270</td>\n",
       "      <td>0.910222</td>\n",
       "      <td>0.858667</td>\n",
       "      <td>0.897333</td>\n",
       "    </tr>\n",
       "    <tr>\n",
       "      <th>1</th>\n",
       "      <td>0.124148</td>\n",
       "      <td>0.007586</td>\n",
       "      <td>0.873656</td>\n",
       "      <td>0.880759</td>\n",
       "      <td>0.916444</td>\n",
       "      <td>0.866667</td>\n",
       "      <td>0.904000</td>\n",
       "    </tr>\n",
       "    <tr>\n",
       "      <th>2</th>\n",
       "      <td>0.132073</td>\n",
       "      <td>0.006117</td>\n",
       "      <td>0.889182</td>\n",
       "      <td>0.879896</td>\n",
       "      <td>0.925333</td>\n",
       "      <td>0.898667</td>\n",
       "      <td>0.918667</td>\n",
       "    </tr>\n",
       "    <tr>\n",
       "      <th>3</th>\n",
       "      <td>0.138672</td>\n",
       "      <td>0.007800</td>\n",
       "      <td>0.861789</td>\n",
       "      <td>0.876033</td>\n",
       "      <td>0.909333</td>\n",
       "      <td>0.848000</td>\n",
       "      <td>0.894000</td>\n",
       "    </tr>\n",
       "    <tr>\n",
       "      <th>4</th>\n",
       "      <td>0.080333</td>\n",
       "      <td>0.004428</td>\n",
       "      <td>0.880319</td>\n",
       "      <td>0.877984</td>\n",
       "      <td>0.920000</td>\n",
       "      <td>0.882667</td>\n",
       "      <td>0.910667</td>\n",
       "    </tr>\n",
       "    <tr>\n",
       "      <th>5</th>\n",
       "      <td>0.081005</td>\n",
       "      <td>0.005078</td>\n",
       "      <td>0.884097</td>\n",
       "      <td>0.893733</td>\n",
       "      <td>0.923556</td>\n",
       "      <td>0.874667</td>\n",
       "      <td>0.911333</td>\n",
       "    </tr>\n",
       "    <tr>\n",
       "      <th>6</th>\n",
       "      <td>0.087266</td>\n",
       "      <td>0.005098</td>\n",
       "      <td>0.885333</td>\n",
       "      <td>0.885333</td>\n",
       "      <td>0.923556</td>\n",
       "      <td>0.885333</td>\n",
       "      <td>0.914000</td>\n",
       "    </tr>\n",
       "    <tr>\n",
       "      <th>7</th>\n",
       "      <td>0.135069</td>\n",
       "      <td>0.006123</td>\n",
       "      <td>0.908150</td>\n",
       "      <td>0.881910</td>\n",
       "      <td>0.936889</td>\n",
       "      <td>0.936000</td>\n",
       "      <td>0.936667</td>\n",
       "    </tr>\n",
       "    <tr>\n",
       "      <th>8</th>\n",
       "      <td>0.128185</td>\n",
       "      <td>0.005452</td>\n",
       "      <td>0.905318</td>\n",
       "      <td>0.881313</td>\n",
       "      <td>0.935111</td>\n",
       "      <td>0.930667</td>\n",
       "      <td>0.934000</td>\n",
       "    </tr>\n",
       "    <tr>\n",
       "      <th>9</th>\n",
       "      <td>0.128115</td>\n",
       "      <td>0.005909</td>\n",
       "      <td>0.923684</td>\n",
       "      <td>0.911688</td>\n",
       "      <td>0.948444</td>\n",
       "      <td>0.936000</td>\n",
       "      <td>0.945333</td>\n",
       "    </tr>\n",
       "    <tr>\n",
       "      <th>11</th>\n",
       "      <td>0.112475</td>\n",
       "      <td>0.005804</td>\n",
       "      <td>0.887596</td>\n",
       "      <td>0.883892</td>\n",
       "      <td>0.924889</td>\n",
       "      <td>0.891733</td>\n",
       "      <td>0.916600</td>\n",
       "    </tr>\n",
       "    <tr>\n",
       "      <th>12</th>\n",
       "      <td>0.023190</td>\n",
       "      <td>0.001107</td>\n",
       "      <td>0.018732</td>\n",
       "      <td>0.010909</td>\n",
       "      <td>0.011659</td>\n",
       "      <td>0.030874</td>\n",
       "      <td>0.016266</td>\n",
       "    </tr>\n",
       "  </tbody>\n",
       "</table>\n",
       "</div>"
      ],
      "text/plain": [
       "    fit_time  score_time   test_f1  test_precision  test_accuracy  \\\n",
       "0   0.089884    0.004451  0.864430        0.870270       0.910222   \n",
       "1   0.124148    0.007586  0.873656        0.880759       0.916444   \n",
       "2   0.132073    0.006117  0.889182        0.879896       0.925333   \n",
       "3   0.138672    0.007800  0.861789        0.876033       0.909333   \n",
       "4   0.080333    0.004428  0.880319        0.877984       0.920000   \n",
       "5   0.081005    0.005078  0.884097        0.893733       0.923556   \n",
       "6   0.087266    0.005098  0.885333        0.885333       0.923556   \n",
       "7   0.135069    0.006123  0.908150        0.881910       0.936889   \n",
       "8   0.128185    0.005452  0.905318        0.881313       0.935111   \n",
       "9   0.128115    0.005909  0.923684        0.911688       0.948444   \n",
       "11  0.112475    0.005804  0.887596        0.883892       0.924889   \n",
       "12  0.023190    0.001107  0.018732        0.010909       0.011659   \n",
       "\n",
       "    test_recall  test_roc_auc  \n",
       "0      0.858667      0.897333  \n",
       "1      0.866667      0.904000  \n",
       "2      0.898667      0.918667  \n",
       "3      0.848000      0.894000  \n",
       "4      0.882667      0.910667  \n",
       "5      0.874667      0.911333  \n",
       "6      0.885333      0.914000  \n",
       "7      0.936000      0.936667  \n",
       "8      0.930667      0.934000  \n",
       "9      0.936000      0.945333  \n",
       "11     0.891733      0.916600  \n",
       "12     0.030874      0.016266  "
      ]
     },
     "execution_count": 13,
     "metadata": {},
     "output_type": "execute_result"
    }
   ],
   "source": [
    "# use previously defined function \"append_avgs\" to append averages and stds\n",
    "wrong_scores_o = append_avgs(wrong_scores_o)\n",
    "wrong_scores_o"
   ]
  },
  {
   "cell_type": "markdown",
   "id": "77b27987",
   "metadata": {},
   "source": [
    "### Cross-validation with undersampling -- DONE WRONG"
   ]
  },
  {
   "cell_type": "code",
   "execution_count": 14,
   "id": "9d6e7bb8",
   "metadata": {
    "ExecuteTime": {
     "end_time": "2021-10-15T18:45:33.793251Z",
     "start_time": "2021-10-15T18:45:33.787568Z"
    }
   },
   "outputs": [],
   "source": [
    "# undersample majority class\n",
    "X_under, y_under = under.fit_resample(X, y)"
   ]
  },
  {
   "cell_type": "code",
   "execution_count": 15,
   "id": "30c61fc3",
   "metadata": {
    "ExecuteTime": {
     "end_time": "2021-10-15T18:45:33.800288Z",
     "start_time": "2021-10-15T18:45:33.794493Z"
    }
   },
   "outputs": [
    {
     "name": "stdout",
     "output_type": "stream",
     "text": [
      "Distribution in original data set Counter({0: 7500, 1: 2500})\n",
      "Distribution in data set after undersampling Counter({0: 5000, 1: 2500})\n"
     ]
    }
   ],
   "source": [
    "print(\"Distribution in original data set\", Counter(y))\n",
    "print(\"Distribution in data set after undersampling\", Counter(y_under))"
   ]
  },
  {
   "cell_type": "code",
   "execution_count": 16,
   "id": "95490b7e",
   "metadata": {
    "ExecuteTime": {
     "end_time": "2021-10-15T18:45:34.342500Z",
     "start_time": "2021-10-15T18:45:33.801932Z"
    }
   },
   "outputs": [],
   "source": [
    "# crossvalidate on undersampled data set using the crossvalidation technique defined in \"cv\"\n",
    "wrong_scores_u = cross_validate(model, X_under, y_under, scoring=scoring, cv=cv, n_jobs=-1)"
   ]
  },
  {
   "cell_type": "code",
   "execution_count": 17,
   "id": "21bf1913",
   "metadata": {
    "ExecuteTime": {
     "end_time": "2021-10-15T18:45:34.359585Z",
     "start_time": "2021-10-15T18:45:34.343925Z"
    },
    "scrolled": false
   },
   "outputs": [
    {
     "data": {
      "text/html": [
       "<div>\n",
       "<style scoped>\n",
       "    .dataframe tbody tr th:only-of-type {\n",
       "        vertical-align: middle;\n",
       "    }\n",
       "\n",
       "    .dataframe tbody tr th {\n",
       "        vertical-align: top;\n",
       "    }\n",
       "\n",
       "    .dataframe thead th {\n",
       "        text-align: right;\n",
       "    }\n",
       "</style>\n",
       "<table border=\"1\" class=\"dataframe\">\n",
       "  <thead>\n",
       "    <tr style=\"text-align: right;\">\n",
       "      <th></th>\n",
       "      <th>fit_time</th>\n",
       "      <th>score_time</th>\n",
       "      <th>test_f1</th>\n",
       "      <th>test_precision</th>\n",
       "      <th>test_accuracy</th>\n",
       "      <th>test_recall</th>\n",
       "      <th>test_roc_auc</th>\n",
       "    </tr>\n",
       "  </thead>\n",
       "  <tbody>\n",
       "    <tr>\n",
       "      <th>0</th>\n",
       "      <td>0.069667</td>\n",
       "      <td>0.006610</td>\n",
       "      <td>0.884848</td>\n",
       "      <td>0.893878</td>\n",
       "      <td>0.924000</td>\n",
       "      <td>0.876000</td>\n",
       "      <td>0.912000</td>\n",
       "    </tr>\n",
       "    <tr>\n",
       "      <th>1</th>\n",
       "      <td>0.072461</td>\n",
       "      <td>0.007538</td>\n",
       "      <td>0.869048</td>\n",
       "      <td>0.862205</td>\n",
       "      <td>0.912000</td>\n",
       "      <td>0.876000</td>\n",
       "      <td>0.903000</td>\n",
       "    </tr>\n",
       "    <tr>\n",
       "      <th>2</th>\n",
       "      <td>0.071862</td>\n",
       "      <td>0.007442</td>\n",
       "      <td>0.880952</td>\n",
       "      <td>0.874016</td>\n",
       "      <td>0.920000</td>\n",
       "      <td>0.888000</td>\n",
       "      <td>0.912000</td>\n",
       "    </tr>\n",
       "    <tr>\n",
       "      <th>3</th>\n",
       "      <td>0.073257</td>\n",
       "      <td>0.007837</td>\n",
       "      <td>0.884462</td>\n",
       "      <td>0.880952</td>\n",
       "      <td>0.922667</td>\n",
       "      <td>0.888000</td>\n",
       "      <td>0.914000</td>\n",
       "    </tr>\n",
       "    <tr>\n",
       "      <th>4</th>\n",
       "      <td>0.072965</td>\n",
       "      <td>0.006358</td>\n",
       "      <td>0.867470</td>\n",
       "      <td>0.870968</td>\n",
       "      <td>0.912000</td>\n",
       "      <td>0.864000</td>\n",
       "      <td>0.900000</td>\n",
       "    </tr>\n",
       "    <tr>\n",
       "      <th>5</th>\n",
       "      <td>0.074656</td>\n",
       "      <td>0.005146</td>\n",
       "      <td>0.851927</td>\n",
       "      <td>0.864198</td>\n",
       "      <td>0.902667</td>\n",
       "      <td>0.840000</td>\n",
       "      <td>0.887000</td>\n",
       "    </tr>\n",
       "    <tr>\n",
       "      <th>6</th>\n",
       "      <td>0.074196</td>\n",
       "      <td>0.004138</td>\n",
       "      <td>0.902584</td>\n",
       "      <td>0.897233</td>\n",
       "      <td>0.934667</td>\n",
       "      <td>0.908000</td>\n",
       "      <td>0.928000</td>\n",
       "    </tr>\n",
       "    <tr>\n",
       "      <th>7</th>\n",
       "      <td>0.073489</td>\n",
       "      <td>0.004388</td>\n",
       "      <td>0.863544</td>\n",
       "      <td>0.879668</td>\n",
       "      <td>0.910667</td>\n",
       "      <td>0.848000</td>\n",
       "      <td>0.895000</td>\n",
       "    </tr>\n",
       "    <tr>\n",
       "      <th>8</th>\n",
       "      <td>0.059434</td>\n",
       "      <td>0.004732</td>\n",
       "      <td>0.874751</td>\n",
       "      <td>0.869565</td>\n",
       "      <td>0.916000</td>\n",
       "      <td>0.880000</td>\n",
       "      <td>0.907000</td>\n",
       "    </tr>\n",
       "    <tr>\n",
       "      <th>9</th>\n",
       "      <td>0.076630</td>\n",
       "      <td>0.004319</td>\n",
       "      <td>0.843373</td>\n",
       "      <td>0.846774</td>\n",
       "      <td>0.896000</td>\n",
       "      <td>0.840000</td>\n",
       "      <td>0.882000</td>\n",
       "    </tr>\n",
       "    <tr>\n",
       "      <th>11</th>\n",
       "      <td>0.071862</td>\n",
       "      <td>0.005851</td>\n",
       "      <td>0.872296</td>\n",
       "      <td>0.873946</td>\n",
       "      <td>0.915067</td>\n",
       "      <td>0.870800</td>\n",
       "      <td>0.904000</td>\n",
       "    </tr>\n",
       "    <tr>\n",
       "      <th>12</th>\n",
       "      <td>0.004488</td>\n",
       "      <td>0.001390</td>\n",
       "      <td>0.016327</td>\n",
       "      <td>0.014215</td>\n",
       "      <td>0.010500</td>\n",
       "      <td>0.021395</td>\n",
       "      <td>0.012977</td>\n",
       "    </tr>\n",
       "  </tbody>\n",
       "</table>\n",
       "</div>"
      ],
      "text/plain": [
       "    fit_time  score_time   test_f1  test_precision  test_accuracy  \\\n",
       "0   0.069667    0.006610  0.884848        0.893878       0.924000   \n",
       "1   0.072461    0.007538  0.869048        0.862205       0.912000   \n",
       "2   0.071862    0.007442  0.880952        0.874016       0.920000   \n",
       "3   0.073257    0.007837  0.884462        0.880952       0.922667   \n",
       "4   0.072965    0.006358  0.867470        0.870968       0.912000   \n",
       "5   0.074656    0.005146  0.851927        0.864198       0.902667   \n",
       "6   0.074196    0.004138  0.902584        0.897233       0.934667   \n",
       "7   0.073489    0.004388  0.863544        0.879668       0.910667   \n",
       "8   0.059434    0.004732  0.874751        0.869565       0.916000   \n",
       "9   0.076630    0.004319  0.843373        0.846774       0.896000   \n",
       "11  0.071862    0.005851  0.872296        0.873946       0.915067   \n",
       "12  0.004488    0.001390  0.016327        0.014215       0.010500   \n",
       "\n",
       "    test_recall  test_roc_auc  \n",
       "0      0.876000      0.912000  \n",
       "1      0.876000      0.903000  \n",
       "2      0.888000      0.912000  \n",
       "3      0.888000      0.914000  \n",
       "4      0.864000      0.900000  \n",
       "5      0.840000      0.887000  \n",
       "6      0.908000      0.928000  \n",
       "7      0.848000      0.895000  \n",
       "8      0.880000      0.907000  \n",
       "9      0.840000      0.882000  \n",
       "11     0.870800      0.904000  \n",
       "12     0.021395      0.012977  "
      ]
     },
     "execution_count": 17,
     "metadata": {},
     "output_type": "execute_result"
    }
   ],
   "source": [
    "# use previously defined function \"append_avgs\" to append averages and stds\n",
    "wrong_scores_u = append_avgs(wrong_scores_u)\n",
    "wrong_scores_u"
   ]
  },
  {
   "cell_type": "markdown",
   "id": "dfd484b4",
   "metadata": {},
   "source": [
    "## Cross validation with sampling -- DONE RIGHT"
   ]
  },
  {
   "cell_type": "markdown",
   "id": "5c54043a",
   "metadata": {},
   "source": [
    "### Cross-validation with oversampling -- DONE RIGHT"
   ]
  },
  {
   "cell_type": "code",
   "execution_count": 18,
   "id": "ed499564",
   "metadata": {
    "ExecuteTime": {
     "end_time": "2021-10-15T18:45:34.365128Z",
     "start_time": "2021-10-15T18:45:34.361797Z"
    }
   },
   "outputs": [],
   "source": [
    "# define the SMOTE oversampling pipeline\n",
    "smote_steps = [('over', smote), ('model', model)]\n",
    "smote_pipeline = imblearn.pipeline.Pipeline(steps=smote_steps)"
   ]
  },
  {
   "cell_type": "markdown",
   "id": "46b185ce",
   "metadata": {},
   "source": [
    "This Pipeline first oversamples the training dataset with SMOTE then fits the model."
   ]
  },
  {
   "cell_type": "code",
   "execution_count": 19,
   "id": "7517dac0",
   "metadata": {
    "ExecuteTime": {
     "end_time": "2021-10-15T18:45:34.372317Z",
     "start_time": "2021-10-15T18:45:34.366971Z"
    }
   },
   "outputs": [
    {
     "name": "stdout",
     "output_type": "stream",
     "text": [
      "Pipeline(steps=[('over', SMOTE(sampling_strategy=0.5)),\n",
      "                ('model', DecisionTreeClassifier())])\n"
     ]
    }
   ],
   "source": [
    "# show the SMOTE pipeline\n",
    "print(smote_pipeline)"
   ]
  },
  {
   "cell_type": "code",
   "execution_count": 20,
   "id": "d396fed2",
   "metadata": {
    "ExecuteTime": {
     "end_time": "2021-10-15T18:45:35.108782Z",
     "start_time": "2021-10-15T18:45:34.374098Z"
    }
   },
   "outputs": [],
   "source": [
    "# evaluate the SMOTE pipeline using the crossvalidation technique defined in cv\n",
    "smote_scores = cross_validate(smote_pipeline, X, y, scoring=scoring, cv=cv, n_jobs=-1)"
   ]
  },
  {
   "cell_type": "code",
   "execution_count": 21,
   "id": "194c0b21",
   "metadata": {
    "ExecuteTime": {
     "end_time": "2021-10-15T18:45:35.124904Z",
     "start_time": "2021-10-15T18:45:35.110634Z"
    }
   },
   "outputs": [
    {
     "data": {
      "text/html": [
       "<div>\n",
       "<style scoped>\n",
       "    .dataframe tbody tr th:only-of-type {\n",
       "        vertical-align: middle;\n",
       "    }\n",
       "\n",
       "    .dataframe tbody tr th {\n",
       "        vertical-align: top;\n",
       "    }\n",
       "\n",
       "    .dataframe thead th {\n",
       "        text-align: right;\n",
       "    }\n",
       "</style>\n",
       "<table border=\"1\" class=\"dataframe\">\n",
       "  <thead>\n",
       "    <tr style=\"text-align: right;\">\n",
       "      <th></th>\n",
       "      <th>fit_time</th>\n",
       "      <th>score_time</th>\n",
       "      <th>test_f1</th>\n",
       "      <th>test_precision</th>\n",
       "      <th>test_accuracy</th>\n",
       "      <th>test_recall</th>\n",
       "      <th>test_roc_auc</th>\n",
       "    </tr>\n",
       "  </thead>\n",
       "  <tbody>\n",
       "    <tr>\n",
       "      <th>0</th>\n",
       "      <td>0.194384</td>\n",
       "      <td>0.005174</td>\n",
       "      <td>0.847059</td>\n",
       "      <td>0.830769</td>\n",
       "      <td>0.92200</td>\n",
       "      <td>0.864000</td>\n",
       "      <td>0.902667</td>\n",
       "    </tr>\n",
       "    <tr>\n",
       "      <th>1</th>\n",
       "      <td>0.187998</td>\n",
       "      <td>0.004536</td>\n",
       "      <td>0.852140</td>\n",
       "      <td>0.829545</td>\n",
       "      <td>0.92400</td>\n",
       "      <td>0.876000</td>\n",
       "      <td>0.908000</td>\n",
       "    </tr>\n",
       "    <tr>\n",
       "      <th>2</th>\n",
       "      <td>0.152889</td>\n",
       "      <td>0.004180</td>\n",
       "      <td>0.842912</td>\n",
       "      <td>0.808824</td>\n",
       "      <td>0.91800</td>\n",
       "      <td>0.880000</td>\n",
       "      <td>0.905333</td>\n",
       "    </tr>\n",
       "    <tr>\n",
       "      <th>3</th>\n",
       "      <td>0.206151</td>\n",
       "      <td>0.004577</td>\n",
       "      <td>0.849802</td>\n",
       "      <td>0.839844</td>\n",
       "      <td>0.92400</td>\n",
       "      <td>0.860000</td>\n",
       "      <td>0.902667</td>\n",
       "    </tr>\n",
       "    <tr>\n",
       "      <th>4</th>\n",
       "      <td>0.195976</td>\n",
       "      <td>0.005112</td>\n",
       "      <td>0.815686</td>\n",
       "      <td>0.800000</td>\n",
       "      <td>0.90600</td>\n",
       "      <td>0.832000</td>\n",
       "      <td>0.881333</td>\n",
       "    </tr>\n",
       "    <tr>\n",
       "      <th>5</th>\n",
       "      <td>0.204993</td>\n",
       "      <td>0.005073</td>\n",
       "      <td>0.839357</td>\n",
       "      <td>0.842742</td>\n",
       "      <td>0.92000</td>\n",
       "      <td>0.836000</td>\n",
       "      <td>0.892000</td>\n",
       "    </tr>\n",
       "    <tr>\n",
       "      <th>6</th>\n",
       "      <td>0.191301</td>\n",
       "      <td>0.004694</td>\n",
       "      <td>0.828125</td>\n",
       "      <td>0.809160</td>\n",
       "      <td>0.91200</td>\n",
       "      <td>0.848000</td>\n",
       "      <td>0.890667</td>\n",
       "    </tr>\n",
       "    <tr>\n",
       "      <th>7</th>\n",
       "      <td>0.189942</td>\n",
       "      <td>0.004753</td>\n",
       "      <td>0.820000</td>\n",
       "      <td>0.820000</td>\n",
       "      <td>0.91000</td>\n",
       "      <td>0.820000</td>\n",
       "      <td>0.880000</td>\n",
       "    </tr>\n",
       "    <tr>\n",
       "      <th>8</th>\n",
       "      <td>0.192600</td>\n",
       "      <td>0.004889</td>\n",
       "      <td>0.827184</td>\n",
       "      <td>0.803774</td>\n",
       "      <td>0.91100</td>\n",
       "      <td>0.852000</td>\n",
       "      <td>0.891333</td>\n",
       "    </tr>\n",
       "    <tr>\n",
       "      <th>9</th>\n",
       "      <td>0.185301</td>\n",
       "      <td>0.004841</td>\n",
       "      <td>0.862823</td>\n",
       "      <td>0.857708</td>\n",
       "      <td>0.93100</td>\n",
       "      <td>0.868000</td>\n",
       "      <td>0.910000</td>\n",
       "    </tr>\n",
       "    <tr>\n",
       "      <th>11</th>\n",
       "      <td>0.190154</td>\n",
       "      <td>0.004783</td>\n",
       "      <td>0.838509</td>\n",
       "      <td>0.824237</td>\n",
       "      <td>0.91780</td>\n",
       "      <td>0.853600</td>\n",
       "      <td>0.896400</td>\n",
       "    </tr>\n",
       "    <tr>\n",
       "      <th>12</th>\n",
       "      <td>0.013972</td>\n",
       "      <td>0.000289</td>\n",
       "      <td>0.014482</td>\n",
       "      <td>0.018072</td>\n",
       "      <td>0.00744</td>\n",
       "      <td>0.018693</td>\n",
       "      <td>0.010255</td>\n",
       "    </tr>\n",
       "  </tbody>\n",
       "</table>\n",
       "</div>"
      ],
      "text/plain": [
       "    fit_time  score_time   test_f1  test_precision  test_accuracy  \\\n",
       "0   0.194384    0.005174  0.847059        0.830769        0.92200   \n",
       "1   0.187998    0.004536  0.852140        0.829545        0.92400   \n",
       "2   0.152889    0.004180  0.842912        0.808824        0.91800   \n",
       "3   0.206151    0.004577  0.849802        0.839844        0.92400   \n",
       "4   0.195976    0.005112  0.815686        0.800000        0.90600   \n",
       "5   0.204993    0.005073  0.839357        0.842742        0.92000   \n",
       "6   0.191301    0.004694  0.828125        0.809160        0.91200   \n",
       "7   0.189942    0.004753  0.820000        0.820000        0.91000   \n",
       "8   0.192600    0.004889  0.827184        0.803774        0.91100   \n",
       "9   0.185301    0.004841  0.862823        0.857708        0.93100   \n",
       "11  0.190154    0.004783  0.838509        0.824237        0.91780   \n",
       "12  0.013972    0.000289  0.014482        0.018072        0.00744   \n",
       "\n",
       "    test_recall  test_roc_auc  \n",
       "0      0.864000      0.902667  \n",
       "1      0.876000      0.908000  \n",
       "2      0.880000      0.905333  \n",
       "3      0.860000      0.902667  \n",
       "4      0.832000      0.881333  \n",
       "5      0.836000      0.892000  \n",
       "6      0.848000      0.890667  \n",
       "7      0.820000      0.880000  \n",
       "8      0.852000      0.891333  \n",
       "9      0.868000      0.910000  \n",
       "11     0.853600      0.896400  \n",
       "12     0.018693      0.010255  "
      ]
     },
     "execution_count": 21,
     "metadata": {},
     "output_type": "execute_result"
    }
   ],
   "source": [
    "# use previously defined function \"append_avgs\" to append averages and stds\n",
    "smote_scores = append_avgs(smote_scores)\n",
    "smote_scores"
   ]
  },
  {
   "cell_type": "markdown",
   "id": "ba084e79",
   "metadata": {},
   "source": [
    "### Cross-validation with undersampling -- DONE RIGHT"
   ]
  },
  {
   "cell_type": "code",
   "execution_count": 22,
   "id": "53c1d498",
   "metadata": {
    "ExecuteTime": {
     "end_time": "2021-10-15T18:45:35.132424Z",
     "start_time": "2021-10-15T18:45:35.129980Z"
    }
   },
   "outputs": [],
   "source": [
    "# define RandomUnderSampler undersampling pipeline\n",
    "under_steps = [('under', under), ('model', model)]\n",
    "under_pipeline = imblearn.pipeline.Pipeline(steps=under_steps)"
   ]
  },
  {
   "cell_type": "markdown",
   "id": "0eeaaaa1",
   "metadata": {},
   "source": [
    "This Pipeline first undersamples the training dataset with RandomUnderSampler then fits the model."
   ]
  },
  {
   "cell_type": "code",
   "execution_count": 23,
   "id": "9428485f",
   "metadata": {
    "ExecuteTime": {
     "end_time": "2021-10-15T18:45:35.137828Z",
     "start_time": "2021-10-15T18:45:35.134277Z"
    }
   },
   "outputs": [
    {
     "name": "stdout",
     "output_type": "stream",
     "text": [
      "Pipeline(steps=[('under', RandomUnderSampler(sampling_strategy=0.5)),\n",
      "                ('model', DecisionTreeClassifier())])\n"
     ]
    }
   ],
   "source": [
    "# show outher RandomUnderSampler pipeline\n",
    "print(under_pipeline)"
   ]
  },
  {
   "cell_type": "code",
   "execution_count": 24,
   "id": "14660782",
   "metadata": {
    "ExecuteTime": {
     "end_time": "2021-10-15T18:45:35.328074Z",
     "start_time": "2021-10-15T18:45:35.139224Z"
    }
   },
   "outputs": [],
   "source": [
    "# evaluate the RandomUnderSampler pipeline using the crossvalidation technique defined in cv\n",
    "under_scores = cross_validate(under_pipeline, X, y, scoring=scoring, cv=cv, n_jobs=-1)"
   ]
  },
  {
   "cell_type": "code",
   "execution_count": 25,
   "id": "366eadbf",
   "metadata": {
    "ExecuteTime": {
     "end_time": "2021-10-15T18:45:35.349670Z",
     "start_time": "2021-10-15T18:45:35.330179Z"
    }
   },
   "outputs": [
    {
     "data": {
      "text/html": [
       "<div>\n",
       "<style scoped>\n",
       "    .dataframe tbody tr th:only-of-type {\n",
       "        vertical-align: middle;\n",
       "    }\n",
       "\n",
       "    .dataframe tbody tr th {\n",
       "        vertical-align: top;\n",
       "    }\n",
       "\n",
       "    .dataframe thead th {\n",
       "        text-align: right;\n",
       "    }\n",
       "</style>\n",
       "<table border=\"1\" class=\"dataframe\">\n",
       "  <thead>\n",
       "    <tr style=\"text-align: right;\">\n",
       "      <th></th>\n",
       "      <th>fit_time</th>\n",
       "      <th>score_time</th>\n",
       "      <th>test_f1</th>\n",
       "      <th>test_precision</th>\n",
       "      <th>test_accuracy</th>\n",
       "      <th>test_recall</th>\n",
       "      <th>test_roc_auc</th>\n",
       "    </tr>\n",
       "  </thead>\n",
       "  <tbody>\n",
       "    <tr>\n",
       "      <th>0</th>\n",
       "      <td>0.080154</td>\n",
       "      <td>0.005063</td>\n",
       "      <td>0.861538</td>\n",
       "      <td>0.829630</td>\n",
       "      <td>0.92800</td>\n",
       "      <td>0.896000</td>\n",
       "      <td>0.917333</td>\n",
       "    </tr>\n",
       "    <tr>\n",
       "      <th>1</th>\n",
       "      <td>0.084976</td>\n",
       "      <td>0.008919</td>\n",
       "      <td>0.844961</td>\n",
       "      <td>0.819549</td>\n",
       "      <td>0.92000</td>\n",
       "      <td>0.872000</td>\n",
       "      <td>0.904000</td>\n",
       "    </tr>\n",
       "    <tr>\n",
       "      <th>2</th>\n",
       "      <td>0.080933</td>\n",
       "      <td>0.008015</td>\n",
       "      <td>0.828794</td>\n",
       "      <td>0.806818</td>\n",
       "      <td>0.91200</td>\n",
       "      <td>0.852000</td>\n",
       "      <td>0.892000</td>\n",
       "    </tr>\n",
       "    <tr>\n",
       "      <th>3</th>\n",
       "      <td>0.084340</td>\n",
       "      <td>0.007915</td>\n",
       "      <td>0.833006</td>\n",
       "      <td>0.818533</td>\n",
       "      <td>0.91500</td>\n",
       "      <td>0.848000</td>\n",
       "      <td>0.892667</td>\n",
       "    </tr>\n",
       "    <tr>\n",
       "      <th>4</th>\n",
       "      <td>0.079821</td>\n",
       "      <td>0.007884</td>\n",
       "      <td>0.816000</td>\n",
       "      <td>0.816000</td>\n",
       "      <td>0.90800</td>\n",
       "      <td>0.816000</td>\n",
       "      <td>0.877333</td>\n",
       "    </tr>\n",
       "    <tr>\n",
       "      <th>5</th>\n",
       "      <td>0.071391</td>\n",
       "      <td>0.004895</td>\n",
       "      <td>0.823529</td>\n",
       "      <td>0.807692</td>\n",
       "      <td>0.91000</td>\n",
       "      <td>0.840000</td>\n",
       "      <td>0.886667</td>\n",
       "    </tr>\n",
       "    <tr>\n",
       "      <th>6</th>\n",
       "      <td>0.083737</td>\n",
       "      <td>0.007761</td>\n",
       "      <td>0.857692</td>\n",
       "      <td>0.825926</td>\n",
       "      <td>0.92600</td>\n",
       "      <td>0.892000</td>\n",
       "      <td>0.914667</td>\n",
       "    </tr>\n",
       "    <tr>\n",
       "      <th>7</th>\n",
       "      <td>0.068670</td>\n",
       "      <td>0.004894</td>\n",
       "      <td>0.833652</td>\n",
       "      <td>0.798535</td>\n",
       "      <td>0.91300</td>\n",
       "      <td>0.872000</td>\n",
       "      <td>0.899333</td>\n",
       "    </tr>\n",
       "    <tr>\n",
       "      <th>8</th>\n",
       "      <td>0.065845</td>\n",
       "      <td>0.004958</td>\n",
       "      <td>0.852336</td>\n",
       "      <td>0.800000</td>\n",
       "      <td>0.92100</td>\n",
       "      <td>0.912000</td>\n",
       "      <td>0.918000</td>\n",
       "    </tr>\n",
       "    <tr>\n",
       "      <th>9</th>\n",
       "      <td>0.083408</td>\n",
       "      <td>0.005175</td>\n",
       "      <td>0.836292</td>\n",
       "      <td>0.824903</td>\n",
       "      <td>0.91700</td>\n",
       "      <td>0.848000</td>\n",
       "      <td>0.894000</td>\n",
       "    </tr>\n",
       "    <tr>\n",
       "      <th>11</th>\n",
       "      <td>0.078327</td>\n",
       "      <td>0.006548</td>\n",
       "      <td>0.838780</td>\n",
       "      <td>0.814759</td>\n",
       "      <td>0.91700</td>\n",
       "      <td>0.864800</td>\n",
       "      <td>0.899600</td>\n",
       "    </tr>\n",
       "    <tr>\n",
       "      <th>12</th>\n",
       "      <td>0.006671</td>\n",
       "      <td>0.001581</td>\n",
       "      <td>0.014194</td>\n",
       "      <td>0.010400</td>\n",
       "      <td>0.00634</td>\n",
       "      <td>0.027874</td>\n",
       "      <td>0.013037</td>\n",
       "    </tr>\n",
       "  </tbody>\n",
       "</table>\n",
       "</div>"
      ],
      "text/plain": [
       "    fit_time  score_time   test_f1  test_precision  test_accuracy  \\\n",
       "0   0.080154    0.005063  0.861538        0.829630        0.92800   \n",
       "1   0.084976    0.008919  0.844961        0.819549        0.92000   \n",
       "2   0.080933    0.008015  0.828794        0.806818        0.91200   \n",
       "3   0.084340    0.007915  0.833006        0.818533        0.91500   \n",
       "4   0.079821    0.007884  0.816000        0.816000        0.90800   \n",
       "5   0.071391    0.004895  0.823529        0.807692        0.91000   \n",
       "6   0.083737    0.007761  0.857692        0.825926        0.92600   \n",
       "7   0.068670    0.004894  0.833652        0.798535        0.91300   \n",
       "8   0.065845    0.004958  0.852336        0.800000        0.92100   \n",
       "9   0.083408    0.005175  0.836292        0.824903        0.91700   \n",
       "11  0.078327    0.006548  0.838780        0.814759        0.91700   \n",
       "12  0.006671    0.001581  0.014194        0.010400        0.00634   \n",
       "\n",
       "    test_recall  test_roc_auc  \n",
       "0      0.896000      0.917333  \n",
       "1      0.872000      0.904000  \n",
       "2      0.852000      0.892000  \n",
       "3      0.848000      0.892667  \n",
       "4      0.816000      0.877333  \n",
       "5      0.840000      0.886667  \n",
       "6      0.892000      0.914667  \n",
       "7      0.872000      0.899333  \n",
       "8      0.912000      0.918000  \n",
       "9      0.848000      0.894000  \n",
       "11     0.864800      0.899600  \n",
       "12     0.027874      0.013037  "
      ]
     },
     "execution_count": 25,
     "metadata": {},
     "output_type": "execute_result"
    }
   ],
   "source": [
    "# use previously defined function \"append_avgs\" to append averages and stds\n",
    "under_scores = append_avgs(under_scores)\n",
    "under_scores"
   ]
  },
  {
   "cell_type": "markdown",
   "id": "70293301",
   "metadata": {},
   "source": [
    "# Compare scores"
   ]
  },
  {
   "cell_type": "code",
   "execution_count": 26,
   "id": "04cfb36c",
   "metadata": {
    "ExecuteTime": {
     "end_time": "2021-10-15T18:45:35.372468Z",
     "start_time": "2021-10-15T18:45:35.351738Z"
    }
   },
   "outputs": [
    {
     "data": {
      "text/html": [
       "<div>\n",
       "<style scoped>\n",
       "    .dataframe tbody tr th:only-of-type {\n",
       "        vertical-align: middle;\n",
       "    }\n",
       "\n",
       "    .dataframe tbody tr th {\n",
       "        vertical-align: top;\n",
       "    }\n",
       "\n",
       "    .dataframe thead th {\n",
       "        text-align: right;\n",
       "    }\n",
       "</style>\n",
       "<table border=\"1\" class=\"dataframe\">\n",
       "  <thead>\n",
       "    <tr style=\"text-align: right;\">\n",
       "      <th></th>\n",
       "      <th>fit_time</th>\n",
       "      <th>score_time</th>\n",
       "      <th>test_f1</th>\n",
       "      <th>test_precision</th>\n",
       "      <th>test_accuracy</th>\n",
       "      <th>test_recall</th>\n",
       "      <th>test_roc_auc</th>\n",
       "    </tr>\n",
       "  </thead>\n",
       "  <tbody>\n",
       "    <tr>\n",
       "      <th>NO SAMPLING</th>\n",
       "      <td>0.092456</td>\n",
       "      <td>0.005239</td>\n",
       "      <td>0.830244</td>\n",
       "      <td>0.829725</td>\n",
       "      <td>0.915000</td>\n",
       "      <td>0.831600</td>\n",
       "      <td>0.8872</td>\n",
       "    </tr>\n",
       "    <tr>\n",
       "      <th>WRONG SMOTE</th>\n",
       "      <td>0.112475</td>\n",
       "      <td>0.005804</td>\n",
       "      <td>0.887596</td>\n",
       "      <td>0.883892</td>\n",
       "      <td>0.924889</td>\n",
       "      <td>0.891733</td>\n",
       "      <td>0.9166</td>\n",
       "    </tr>\n",
       "    <tr>\n",
       "      <th>WRONG UNDERSAMPLING</th>\n",
       "      <td>0.071862</td>\n",
       "      <td>0.005851</td>\n",
       "      <td>0.872296</td>\n",
       "      <td>0.873946</td>\n",
       "      <td>0.915067</td>\n",
       "      <td>0.870800</td>\n",
       "      <td>0.9040</td>\n",
       "    </tr>\n",
       "    <tr>\n",
       "      <th>RIGHT SMOTE</th>\n",
       "      <td>0.190154</td>\n",
       "      <td>0.004783</td>\n",
       "      <td>0.838509</td>\n",
       "      <td>0.824237</td>\n",
       "      <td>0.917800</td>\n",
       "      <td>0.853600</td>\n",
       "      <td>0.8964</td>\n",
       "    </tr>\n",
       "    <tr>\n",
       "      <th>RIGHT UNDERSAMPLING</th>\n",
       "      <td>0.078327</td>\n",
       "      <td>0.006548</td>\n",
       "      <td>0.838780</td>\n",
       "      <td>0.814759</td>\n",
       "      <td>0.917000</td>\n",
       "      <td>0.864800</td>\n",
       "      <td>0.8996</td>\n",
       "    </tr>\n",
       "  </tbody>\n",
       "</table>\n",
       "</div>"
      ],
      "text/plain": [
       "                     fit_time  score_time   test_f1  test_precision  \\\n",
       "NO SAMPLING          0.092456    0.005239  0.830244        0.829725   \n",
       "WRONG SMOTE          0.112475    0.005804  0.887596        0.883892   \n",
       "WRONG UNDERSAMPLING  0.071862    0.005851  0.872296        0.873946   \n",
       "RIGHT SMOTE          0.190154    0.004783  0.838509        0.824237   \n",
       "RIGHT UNDERSAMPLING  0.078327    0.006548  0.838780        0.814759   \n",
       "\n",
       "                     test_accuracy  test_recall  test_roc_auc  \n",
       "NO SAMPLING               0.915000     0.831600        0.8872  \n",
       "WRONG SMOTE               0.924889     0.891733        0.9166  \n",
       "WRONG UNDERSAMPLING       0.915067     0.870800        0.9040  \n",
       "RIGHT SMOTE               0.917800     0.853600        0.8964  \n",
       "RIGHT UNDERSAMPLING       0.917000     0.864800        0.8996  "
      ]
     },
     "execution_count": 26,
     "metadata": {},
     "output_type": "execute_result"
    }
   ],
   "source": [
    "# create an empty dataframe to compare the scores\n",
    "df = pd.DataFrame()\n",
    "\n",
    "# add the average scores of each sampling strategy\n",
    "# to the empty dataframe\n",
    "df = df.append([scores.loc[11], wrong_scores_o.loc[11], wrong_scores_u.loc[11],\n",
    "           smote_scores.loc[11], under_scores.loc[11]]).reset_index(drop=True)\n",
    "\n",
    "# rename the indices\n",
    "df = df.rename(index={0:'NO SAMPLING', 1:'WRONG SMOTE', 2:'WRONG UNDERSAMPLING',\n",
    "                 3: 'RIGHT SMOTE', 4:'RIGHT UNDERSAMPLING'})\n",
    "\n",
    "df"
   ]
  },
  {
   "cell_type": "code",
   "execution_count": null,
   "id": "dfea2436",
   "metadata": {},
   "outputs": [],
   "source": []
  }
 ],
 "metadata": {
  "kernelspec": {
   "display_name": "Python 3",
   "language": "python",
   "name": "python3"
  },
  "language_info": {
   "codemirror_mode": {
    "name": "ipython",
    "version": 3
   },
   "file_extension": ".py",
   "mimetype": "text/x-python",
   "name": "python",
   "nbconvert_exporter": "python",
   "pygments_lexer": "ipython3",
   "version": "3.6.13"
  },
  "toc": {
   "base_numbering": 1,
   "nav_menu": {},
   "number_sections": true,
   "sideBar": true,
   "skip_h1_title": false,
   "title_cell": "Table of Contents",
   "title_sidebar": "Contents",
   "toc_cell": false,
   "toc_position": {},
   "toc_section_display": true,
   "toc_window_display": true
  }
 },
 "nbformat": 4,
 "nbformat_minor": 5
}
