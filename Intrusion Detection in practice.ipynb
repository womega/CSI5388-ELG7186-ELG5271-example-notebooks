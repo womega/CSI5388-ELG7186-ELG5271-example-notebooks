{
 "cells": [
  {
   "cell_type": "markdown",
   "id": "b92400ab",
   "metadata": {},
   "source": [
    "These experiments are carried out on the [CSE-CIC-IDS2018](https://www.unb.ca/cic/datasets/ids-2018.html) data set.\n",
    "\n",
    "To download it, install the [AWS CLI](https://aws.amazon.com/cli/), then,\n",
    "\n",
    "#### Run: aws s3 sync --no-sign-request --region ca-central-1 \"s3://cse-cic-ids2018/\" Desktop\n",
    "\n",
    "This will download the entire data set to your Desktop folder.\n",
    "\n",
    "Then install CICFlowMeter for feature extraction,\n",
    "\n",
    "#### Run: pip install cicflowmeter (Requires python>=3.7.0)\n",
    "\n",
    "Then, to convert pcap file to python using cicflowmeter,\n",
    "\n",
    "#### Run: cicflowmeter -f example.pcap -c flows.csv\n",
    "\n",
    "Here we will demonstrate using the data collected on 23-02-2018, 22-02-2018,21-02-2018, 15-02-2018 and 14-02-2018"
   ]
  },
  {
   "cell_type": "code",
   "execution_count": 1,
   "id": "5d7a3536",
   "metadata": {
    "ExecuteTime": {
     "end_time": "2021-11-01T09:21:58.672045Z",
     "start_time": "2021-11-01T09:21:56.999892Z"
    }
   },
   "outputs": [],
   "source": [
    "import pandas as pd\n",
    "import numpy as np\n",
    "import seaborn as sns\n",
    "import matplotlib.pyplot as plt\n",
    "from matplotlib.ticker import NullFormatter\n",
    "from collections import Counter\n",
    "from sklearn.preprocessing import StandardScaler, OneHotEncoder\n",
    "from sklearn.compose import ColumnTransformer\n",
    "from sklearn.pipeline import make_pipeline\n",
    "from sklearn.compose import make_column_selector\n",
    "from sklearn.model_selection import StratifiedKFold, cross_validate\n",
    "from sklearn.ensemble import ExtraTreesClassifier, IsolationForest\n",
    "from sklearn.metrics import mean_absolute_error\n",
    "from sklearn import set_config\n",
    "from sklearn.feature_selection import RFECV, SelectFromModel\n",
    "from sklearn import manifold\n",
    "from imblearn.under_sampling import RandomUnderSampler\n",
    "from itertools import compress\n",
    "\n",
    "from xgboost import XGBClassifier\n",
    "\n",
    "%matplotlib inline\n",
    "np.random.seed(42)\n",
    "pd.set_option(\"display.max_columns\", None)\n",
    "set_config(display='diagram') #interactive diagram"
   ]
  },
  {
   "cell_type": "markdown",
   "id": "ded60d33",
   "metadata": {},
   "source": [
    "# Preprocessing"
   ]
  },
  {
   "cell_type": "code",
   "execution_count": 2,
   "id": "133c3c84",
   "metadata": {
    "ExecuteTime": {
     "end_time": "2021-11-01T09:21:58.684218Z",
     "start_time": "2021-11-01T09:21:58.674408Z"
    }
   },
   "outputs": [],
   "source": [
    "ids_datatypes = {\n",
    "    'Dst Port': np.int32,\n",
    "    'Protocol': np.int8,\n",
    "    'Timestamp': object,\n",
    "    'Flow Duration': np.int64,\n",
    "    'Tot Fwd Pkts': np.int16,\n",
    "    'Tot Bwd Pkts': np.int16,\n",
    "    'TotLen Fwd Pkts': np.int32,\n",
    "    'TotLen Bwd Pkts': np.int32,\n",
    "    'Fwd Pkt Len Max': np.int32,\n",
    "    'Fwd Pkt Len Min': np.int32,\n",
    "    'Fwd Pkt Len Mean': np.float64,\n",
    "    'Fwd Pkt Len Std': np.float64,\n",
    "    'Bwd Pkt Len Max': np.int16,\n",
    "    'Bwd Pkt Len Min': np.int16,\n",
    "    'Bwd Pkt Len Mean': np.float64,\n",
    "    'Bwd Pkt Len Std': np.float64,\n",
    "    'Flow Byts/s': np.float64,\n",
    "    'Flow Pkts/s': np.float64,\n",
    "    'Flow IAT Mean': np.float64,\n",
    "    'Flow IAT Std': np.float64,\n",
    "    'Flow IAT Max': np.int64,\n",
    "    'Flow IAT Min': np.int32,\n",
    "    'Fwd IAT Tot': np.int32,\n",
    "    'Fwd IAT Mean': np.float32,\n",
    "    'Fwd IAT Std': np.float64,\n",
    "    'Fwd IAT Max': np.int32, \n",
    "    'Fwd IAT Min': np.int32,\n",
    "    'Bwd IAT Tot': np.int32,\n",
    "    'Bwd IAT Mean': np.float64,\n",
    "    'Bwd IAT Std': np.float64,\n",
    "    'Bwd IAT Max': np.int64,\n",
    "    'Bwd IAT Min': np.int64,\n",
    "    'Fwd PSH Flags': np.int8,\n",
    "    'Bwd PSH Flags': np.int8,\n",
    "    'Fwd URG Flags': np.int8,\n",
    "    'Bwd URG Flags': np.int8,\n",
    "    'Fwd Header Len': np.int32,\n",
    "    'Bwd Header Len': np.int32,\n",
    "    'Fwd Pkts/s' : np.float64,\n",
    "    'Bwd Pkts/s': np.float64,\n",
    "    'Pkt Len Min': np.int16,\n",
    "    'Pkt Len Max': np.int32,\n",
    "    'Pkt Len Mean': np.float64,\n",
    "    'Pkt Len Std': np.float64,\n",
    "    'Pkt Len Var': np.float64,\n",
    "    'FIN Flag Cnt': np.int8,\n",
    "    'SYN Flag Cnt': np.int8,\n",
    "    'RST Flag Cnt': np.int8,\n",
    "    'PSH Flag Cnt': np.int8,\n",
    "    'ACK Flag Cnt': np.int8,\n",
    "    'URG Flag Cnt': np.int8,\n",
    "    'CWE Flag Count': np.int8,\n",
    "    'ECE Flag Cnt': np.int8,\n",
    "    'Down/Up Ratio': np.int64,\n",
    "    'Pkt Size Avg': np.float32,\n",
    "    'Fwd Seg Size Avg': np.float32,\n",
    "    'Bwd Seg Size Avg': np.float32,\n",
    "    'Fwd Byts/b Avg': np.int8,\n",
    "    'Fwd Pkts/b Avg': np.int8,\n",
    "    'Fwd Blk Rate Avg': np.int8,\n",
    "    'Bwd Byts/b Avg': np.int8,\n",
    "    'Bwd Pkts/b Avg': np.int8,\n",
    "    'Bwd Blk Rate Avg': np.int8,\n",
    "    'Subflow Fwd Pkts': np.int16,\n",
    "    'Subflow Fwd Byts': np.int32,\n",
    "    'Subflow Bwd Pkts': np.int16,\n",
    "    'Subflow Bwd Byts': np.int32,\n",
    "    'Init Fwd Win Byts': np.int32, \n",
    "    'Init Bwd Win Byts': np.int32,\n",
    "    'Fwd Act Data Pkts': np.int16,\n",
    "    'Fwd Seg Size Min': np.int8,\n",
    "    'Active Mean': np.float64,\n",
    "    'Active Std': np.float64,\n",
    "    'Active Max': np.int32,\n",
    "    'Active Min': np.int32,\n",
    "    'Idle Mean': np.float64,\n",
    "    'Idle Std': np.float64,\n",
    "    'Idle Max': np.int64,\n",
    "    'Idle Min': np.int64,\n",
    "    'Label': object\n",
    "}\n",
    "used_cols = (ids_datatypes.keys())"
   ]
  },
  {
   "cell_type": "code",
   "execution_count": 3,
   "id": "b47fa277",
   "metadata": {
    "ExecuteTime": {
     "end_time": "2021-11-01T09:22:51.783871Z",
     "start_time": "2021-11-01T09:21:58.686397Z"
    }
   },
   "outputs": [],
   "source": [
    "d1 = pd.read_csv('../../../../../Desktop/CSE-CIC-IDS2018/23-02-2018.csv',\n",
    "                 dtype=ids_datatypes, usecols=used_cols, low_memory=False)\n",
    "\n",
    "d2 = pd.read_csv('../../../../../Desktop/CSE-CIC-IDS2018/22-02-2018.csv',\n",
    "                 dtype=ids_datatypes, usecols=used_cols, low_memory=False)\n",
    "\n",
    "d3 = pd.read_csv('../../../../../Desktop/CSE-CIC-IDS2018/21-02-2018.csv',\n",
    "                 dtype=ids_datatypes, usecols=used_cols, low_memory=False)\n",
    "\n",
    "d4 = pd.read_csv('../../../../../Desktop/CSE-CIC-IDS2018/15-02-2018.csv',\n",
    "                 dtype=ids_datatypes, usecols=used_cols, low_memory=False)\n",
    "\n",
    "d5 = pd.read_csv('../../../../../Desktop/CSE-CIC-IDS2018/14-02-2018.csv',\n",
    "                 dtype=ids_datatypes, usecols=used_cols, low_memory=False)"
   ]
  },
  {
   "cell_type": "code",
   "execution_count": 4,
   "id": "1b3343d7",
   "metadata": {
    "ExecuteTime": {
     "end_time": "2021-11-01T09:23:02.434788Z",
     "start_time": "2021-11-01T09:22:51.785578Z"
    }
   },
   "outputs": [],
   "source": [
    "dfs = [\n",
    "    d1, \n",
    "    d2,\n",
    "    d3,\n",
    "    d4, \n",
    "    d5\n",
    "]\n",
    "ds = pd.concat(dfs)\n",
    "ds = ds.sample(frac=1).reset_index(drop=True)\n",
    "del dfs"
   ]
  },
  {
   "cell_type": "code",
   "execution_count": 5,
   "id": "c2395abd",
   "metadata": {
    "ExecuteTime": {
     "end_time": "2021-11-01T09:23:02.458077Z",
     "start_time": "2021-11-01T09:23:02.436776Z"
    }
   },
   "outputs": [
    {
     "name": "stdout",
     "output_type": "stream",
     "text": [
      "<class 'pandas.core.frame.DataFrame'>\n",
      "RangeIndex: 5242875 entries, 0 to 5242874\n",
      "Data columns (total 80 columns):\n",
      " #   Column             Dtype  \n",
      "---  ------             -----  \n",
      " 0   Dst Port           int32  \n",
      " 1   Protocol           int8   \n",
      " 2   Timestamp          object \n",
      " 3   Flow Duration      int64  \n",
      " 4   Tot Fwd Pkts       int16  \n",
      " 5   Tot Bwd Pkts       int16  \n",
      " 6   TotLen Fwd Pkts    int32  \n",
      " 7   TotLen Bwd Pkts    int32  \n",
      " 8   Fwd Pkt Len Max    int32  \n",
      " 9   Fwd Pkt Len Min    int32  \n",
      " 10  Fwd Pkt Len Mean   float64\n",
      " 11  Fwd Pkt Len Std    float64\n",
      " 12  Bwd Pkt Len Max    int16  \n",
      " 13  Bwd Pkt Len Min    int16  \n",
      " 14  Bwd Pkt Len Mean   float64\n",
      " 15  Bwd Pkt Len Std    float64\n",
      " 16  Flow Byts/s        float64\n",
      " 17  Flow Pkts/s        float64\n",
      " 18  Flow IAT Mean      float64\n",
      " 19  Flow IAT Std       float64\n",
      " 20  Flow IAT Max       int64  \n",
      " 21  Flow IAT Min       int32  \n",
      " 22  Fwd IAT Tot        int32  \n",
      " 23  Fwd IAT Mean       float32\n",
      " 24  Fwd IAT Std        float64\n",
      " 25  Fwd IAT Max        int32  \n",
      " 26  Fwd IAT Min        int32  \n",
      " 27  Bwd IAT Tot        int32  \n",
      " 28  Bwd IAT Mean       float64\n",
      " 29  Bwd IAT Std        float64\n",
      " 30  Bwd IAT Max        int64  \n",
      " 31  Bwd IAT Min        int64  \n",
      " 32  Fwd PSH Flags      int8   \n",
      " 33  Bwd PSH Flags      int8   \n",
      " 34  Fwd URG Flags      int8   \n",
      " 35  Bwd URG Flags      int8   \n",
      " 36  Fwd Header Len     int32  \n",
      " 37  Bwd Header Len     int32  \n",
      " 38  Fwd Pkts/s         float64\n",
      " 39  Bwd Pkts/s         float64\n",
      " 40  Pkt Len Min        int16  \n",
      " 41  Pkt Len Max        int32  \n",
      " 42  Pkt Len Mean       float64\n",
      " 43  Pkt Len Std        float64\n",
      " 44  Pkt Len Var        float64\n",
      " 45  FIN Flag Cnt       int8   \n",
      " 46  SYN Flag Cnt       int8   \n",
      " 47  RST Flag Cnt       int8   \n",
      " 48  PSH Flag Cnt       int8   \n",
      " 49  ACK Flag Cnt       int8   \n",
      " 50  URG Flag Cnt       int8   \n",
      " 51  CWE Flag Count     int8   \n",
      " 52  ECE Flag Cnt       int8   \n",
      " 53  Down/Up Ratio      int64  \n",
      " 54  Pkt Size Avg       float32\n",
      " 55  Fwd Seg Size Avg   float32\n",
      " 56  Bwd Seg Size Avg   float32\n",
      " 57  Fwd Byts/b Avg     int8   \n",
      " 58  Fwd Pkts/b Avg     int8   \n",
      " 59  Fwd Blk Rate Avg   int8   \n",
      " 60  Bwd Byts/b Avg     int8   \n",
      " 61  Bwd Pkts/b Avg     int8   \n",
      " 62  Bwd Blk Rate Avg   int8   \n",
      " 63  Subflow Fwd Pkts   int16  \n",
      " 64  Subflow Fwd Byts   int32  \n",
      " 65  Subflow Bwd Pkts   int16  \n",
      " 66  Subflow Bwd Byts   int32  \n",
      " 67  Init Fwd Win Byts  int32  \n",
      " 68  Init Bwd Win Byts  int32  \n",
      " 69  Fwd Act Data Pkts  int16  \n",
      " 70  Fwd Seg Size Min   int8   \n",
      " 71  Active Mean        float64\n",
      " 72  Active Std         float64\n",
      " 73  Active Max         int32  \n",
      " 74  Active Min         int32  \n",
      " 75  Idle Mean          float64\n",
      " 76  Idle Std           float64\n",
      " 77  Idle Max           int64  \n",
      " 78  Idle Min           int64  \n",
      " 79  Label              object \n",
      "dtypes: float32(4), float64(20), int16(8), int32(19), int64(7), int8(20), object(2)\n",
      "memory usage: 1.8+ GB\n"
     ]
    }
   ],
   "source": [
    "ds.info()"
   ]
  },
  {
   "cell_type": "code",
   "execution_count": 6,
   "id": "cfa1c46f",
   "metadata": {
    "ExecuteTime": {
     "end_time": "2021-11-01T09:23:02.537348Z",
     "start_time": "2021-11-01T09:23:02.461066Z"
    }
   },
   "outputs": [
    {
     "data": {
      "text/html": [
       "<div>\n",
       "<style scoped>\n",
       "    .dataframe tbody tr th:only-of-type {\n",
       "        vertical-align: middle;\n",
       "    }\n",
       "\n",
       "    .dataframe tbody tr th {\n",
       "        vertical-align: top;\n",
       "    }\n",
       "\n",
       "    .dataframe thead th {\n",
       "        text-align: right;\n",
       "    }\n",
       "</style>\n",
       "<table border=\"1\" class=\"dataframe\">\n",
       "  <thead>\n",
       "    <tr style=\"text-align: right;\">\n",
       "      <th></th>\n",
       "      <th>Dst Port</th>\n",
       "      <th>Protocol</th>\n",
       "      <th>Timestamp</th>\n",
       "      <th>Flow Duration</th>\n",
       "      <th>Tot Fwd Pkts</th>\n",
       "      <th>Tot Bwd Pkts</th>\n",
       "      <th>TotLen Fwd Pkts</th>\n",
       "      <th>TotLen Bwd Pkts</th>\n",
       "      <th>Fwd Pkt Len Max</th>\n",
       "      <th>Fwd Pkt Len Min</th>\n",
       "      <th>Fwd Pkt Len Mean</th>\n",
       "      <th>Fwd Pkt Len Std</th>\n",
       "      <th>Bwd Pkt Len Max</th>\n",
       "      <th>Bwd Pkt Len Min</th>\n",
       "      <th>Bwd Pkt Len Mean</th>\n",
       "      <th>Bwd Pkt Len Std</th>\n",
       "      <th>Flow Byts/s</th>\n",
       "      <th>Flow Pkts/s</th>\n",
       "      <th>Flow IAT Mean</th>\n",
       "      <th>Flow IAT Std</th>\n",
       "      <th>Flow IAT Max</th>\n",
       "      <th>Flow IAT Min</th>\n",
       "      <th>Fwd IAT Tot</th>\n",
       "      <th>Fwd IAT Mean</th>\n",
       "      <th>Fwd IAT Std</th>\n",
       "      <th>Fwd IAT Max</th>\n",
       "      <th>Fwd IAT Min</th>\n",
       "      <th>Bwd IAT Tot</th>\n",
       "      <th>Bwd IAT Mean</th>\n",
       "      <th>Bwd IAT Std</th>\n",
       "      <th>Bwd IAT Max</th>\n",
       "      <th>Bwd IAT Min</th>\n",
       "      <th>Fwd PSH Flags</th>\n",
       "      <th>Bwd PSH Flags</th>\n",
       "      <th>Fwd URG Flags</th>\n",
       "      <th>Bwd URG Flags</th>\n",
       "      <th>Fwd Header Len</th>\n",
       "      <th>Bwd Header Len</th>\n",
       "      <th>Fwd Pkts/s</th>\n",
       "      <th>Bwd Pkts/s</th>\n",
       "      <th>Pkt Len Min</th>\n",
       "      <th>Pkt Len Max</th>\n",
       "      <th>Pkt Len Mean</th>\n",
       "      <th>Pkt Len Std</th>\n",
       "      <th>Pkt Len Var</th>\n",
       "      <th>FIN Flag Cnt</th>\n",
       "      <th>SYN Flag Cnt</th>\n",
       "      <th>RST Flag Cnt</th>\n",
       "      <th>PSH Flag Cnt</th>\n",
       "      <th>ACK Flag Cnt</th>\n",
       "      <th>URG Flag Cnt</th>\n",
       "      <th>CWE Flag Count</th>\n",
       "      <th>ECE Flag Cnt</th>\n",
       "      <th>Down/Up Ratio</th>\n",
       "      <th>Pkt Size Avg</th>\n",
       "      <th>Fwd Seg Size Avg</th>\n",
       "      <th>Bwd Seg Size Avg</th>\n",
       "      <th>Fwd Byts/b Avg</th>\n",
       "      <th>Fwd Pkts/b Avg</th>\n",
       "      <th>Fwd Blk Rate Avg</th>\n",
       "      <th>Bwd Byts/b Avg</th>\n",
       "      <th>Bwd Pkts/b Avg</th>\n",
       "      <th>Bwd Blk Rate Avg</th>\n",
       "      <th>Subflow Fwd Pkts</th>\n",
       "      <th>Subflow Fwd Byts</th>\n",
       "      <th>Subflow Bwd Pkts</th>\n",
       "      <th>Subflow Bwd Byts</th>\n",
       "      <th>Init Fwd Win Byts</th>\n",
       "      <th>Init Bwd Win Byts</th>\n",
       "      <th>Fwd Act Data Pkts</th>\n",
       "      <th>Fwd Seg Size Min</th>\n",
       "      <th>Active Mean</th>\n",
       "      <th>Active Std</th>\n",
       "      <th>Active Max</th>\n",
       "      <th>Active Min</th>\n",
       "      <th>Idle Mean</th>\n",
       "      <th>Idle Std</th>\n",
       "      <th>Idle Max</th>\n",
       "      <th>Idle Min</th>\n",
       "      <th>Label</th>\n",
       "    </tr>\n",
       "  </thead>\n",
       "  <tbody>\n",
       "    <tr>\n",
       "      <th>0</th>\n",
       "      <td>53</td>\n",
       "      <td>17</td>\n",
       "      <td>22/02/2018 11:18:27</td>\n",
       "      <td>5688205</td>\n",
       "      <td>2</td>\n",
       "      <td>2</td>\n",
       "      <td>82</td>\n",
       "      <td>242</td>\n",
       "      <td>51</td>\n",
       "      <td>31</td>\n",
       "      <td>41.000000</td>\n",
       "      <td>14.142136</td>\n",
       "      <td>147</td>\n",
       "      <td>95</td>\n",
       "      <td>121.000000</td>\n",
       "      <td>36.769553</td>\n",
       "      <td>56.959972</td>\n",
       "      <td>7.032095e-01</td>\n",
       "      <td>1.896068e+06</td>\n",
       "      <td>3.283319e+06</td>\n",
       "      <td>5687318</td>\n",
       "      <td>430</td>\n",
       "      <td>5687748</td>\n",
       "      <td>5.687748e+06</td>\n",
       "      <td>0.000000e+00</td>\n",
       "      <td>5687748</td>\n",
       "      <td>5687748</td>\n",
       "      <td>5687775</td>\n",
       "      <td>5.687775e+06</td>\n",
       "      <td>0.000000e+00</td>\n",
       "      <td>5687775</td>\n",
       "      <td>5687775</td>\n",
       "      <td>0</td>\n",
       "      <td>0</td>\n",
       "      <td>0</td>\n",
       "      <td>0</td>\n",
       "      <td>16</td>\n",
       "      <td>16</td>\n",
       "      <td>0.351605</td>\n",
       "      <td>0.351605</td>\n",
       "      <td>31</td>\n",
       "      <td>147</td>\n",
       "      <td>75.000000</td>\n",
       "      <td>46.561787</td>\n",
       "      <td>2168.000000</td>\n",
       "      <td>0</td>\n",
       "      <td>0</td>\n",
       "      <td>0</td>\n",
       "      <td>0</td>\n",
       "      <td>0</td>\n",
       "      <td>0</td>\n",
       "      <td>0</td>\n",
       "      <td>0</td>\n",
       "      <td>1</td>\n",
       "      <td>93.750000</td>\n",
       "      <td>41.000000</td>\n",
       "      <td>121.000000</td>\n",
       "      <td>0</td>\n",
       "      <td>0</td>\n",
       "      <td>0</td>\n",
       "      <td>0</td>\n",
       "      <td>0</td>\n",
       "      <td>0</td>\n",
       "      <td>2</td>\n",
       "      <td>82</td>\n",
       "      <td>2</td>\n",
       "      <td>242</td>\n",
       "      <td>-1</td>\n",
       "      <td>-1</td>\n",
       "      <td>1</td>\n",
       "      <td>8</td>\n",
       "      <td>430.000000</td>\n",
       "      <td>0.000000</td>\n",
       "      <td>430</td>\n",
       "      <td>430</td>\n",
       "      <td>5.687318e+06</td>\n",
       "      <td>0.000000</td>\n",
       "      <td>5687318</td>\n",
       "      <td>5687318</td>\n",
       "      <td>Benign</td>\n",
       "    </tr>\n",
       "    <tr>\n",
       "      <th>1</th>\n",
       "      <td>80</td>\n",
       "      <td>6</td>\n",
       "      <td>22/02/2018 08:29:33</td>\n",
       "      <td>39398</td>\n",
       "      <td>4</td>\n",
       "      <td>10</td>\n",
       "      <td>249</td>\n",
       "      <td>10515</td>\n",
       "      <td>249</td>\n",
       "      <td>0</td>\n",
       "      <td>62.250000</td>\n",
       "      <td>124.500000</td>\n",
       "      <td>1460</td>\n",
       "      <td>0</td>\n",
       "      <td>1051.500000</td>\n",
       "      <td>662.629652</td>\n",
       "      <td>273211.838164</td>\n",
       "      <td>3.553480e+02</td>\n",
       "      <td>3.030615e+03</td>\n",
       "      <td>7.208370e+03</td>\n",
       "      <td>19311</td>\n",
       "      <td>0</td>\n",
       "      <td>39398</td>\n",
       "      <td>1.313267e+04</td>\n",
       "      <td>1.131369e+04</td>\n",
       "      <td>19983</td>\n",
       "      <td>74</td>\n",
       "      <td>20053</td>\n",
       "      <td>2.228111e+03</td>\n",
       "      <td>6.416130e+03</td>\n",
       "      <td>19326</td>\n",
       "      <td>0</td>\n",
       "      <td>0</td>\n",
       "      <td>0</td>\n",
       "      <td>0</td>\n",
       "      <td>0</td>\n",
       "      <td>92</td>\n",
       "      <td>212</td>\n",
       "      <td>101.527996</td>\n",
       "      <td>253.819991</td>\n",
       "      <td>0</td>\n",
       "      <td>1460</td>\n",
       "      <td>717.600000</td>\n",
       "      <td>724.370643</td>\n",
       "      <td>524712.828571</td>\n",
       "      <td>0</td>\n",
       "      <td>0</td>\n",
       "      <td>0</td>\n",
       "      <td>1</td>\n",
       "      <td>0</td>\n",
       "      <td>0</td>\n",
       "      <td>0</td>\n",
       "      <td>0</td>\n",
       "      <td>2</td>\n",
       "      <td>768.857117</td>\n",
       "      <td>62.250000</td>\n",
       "      <td>1051.500000</td>\n",
       "      <td>0</td>\n",
       "      <td>0</td>\n",
       "      <td>0</td>\n",
       "      <td>0</td>\n",
       "      <td>0</td>\n",
       "      <td>0</td>\n",
       "      <td>4</td>\n",
       "      <td>249</td>\n",
       "      <td>10</td>\n",
       "      <td>10515</td>\n",
       "      <td>8192</td>\n",
       "      <td>237</td>\n",
       "      <td>1</td>\n",
       "      <td>20</td>\n",
       "      <td>0.000000</td>\n",
       "      <td>0.000000</td>\n",
       "      <td>0</td>\n",
       "      <td>0</td>\n",
       "      <td>0.000000e+00</td>\n",
       "      <td>0.000000</td>\n",
       "      <td>0</td>\n",
       "      <td>0</td>\n",
       "      <td>Benign</td>\n",
       "    </tr>\n",
       "    <tr>\n",
       "      <th>2</th>\n",
       "      <td>21</td>\n",
       "      <td>6</td>\n",
       "      <td>14/02/2018 11:26:59</td>\n",
       "      <td>1</td>\n",
       "      <td>1</td>\n",
       "      <td>1</td>\n",
       "      <td>0</td>\n",
       "      <td>0</td>\n",
       "      <td>0</td>\n",
       "      <td>0</td>\n",
       "      <td>0.000000</td>\n",
       "      <td>0.000000</td>\n",
       "      <td>0</td>\n",
       "      <td>0</td>\n",
       "      <td>0.000000</td>\n",
       "      <td>0.000000</td>\n",
       "      <td>0.000000</td>\n",
       "      <td>2.000000e+06</td>\n",
       "      <td>1.000000e+00</td>\n",
       "      <td>0.000000e+00</td>\n",
       "      <td>1</td>\n",
       "      <td>1</td>\n",
       "      <td>0</td>\n",
       "      <td>0.000000e+00</td>\n",
       "      <td>0.000000e+00</td>\n",
       "      <td>0</td>\n",
       "      <td>0</td>\n",
       "      <td>0</td>\n",
       "      <td>0.000000e+00</td>\n",
       "      <td>0.000000e+00</td>\n",
       "      <td>0</td>\n",
       "      <td>0</td>\n",
       "      <td>0</td>\n",
       "      <td>0</td>\n",
       "      <td>0</td>\n",
       "      <td>0</td>\n",
       "      <td>40</td>\n",
       "      <td>20</td>\n",
       "      <td>1000000.000000</td>\n",
       "      <td>1000000.000000</td>\n",
       "      <td>0</td>\n",
       "      <td>0</td>\n",
       "      <td>0.000000</td>\n",
       "      <td>0.000000</td>\n",
       "      <td>0.000000</td>\n",
       "      <td>0</td>\n",
       "      <td>0</td>\n",
       "      <td>0</td>\n",
       "      <td>1</td>\n",
       "      <td>0</td>\n",
       "      <td>0</td>\n",
       "      <td>0</td>\n",
       "      <td>0</td>\n",
       "      <td>1</td>\n",
       "      <td>0.000000</td>\n",
       "      <td>0.000000</td>\n",
       "      <td>0.000000</td>\n",
       "      <td>0</td>\n",
       "      <td>0</td>\n",
       "      <td>0</td>\n",
       "      <td>0</td>\n",
       "      <td>0</td>\n",
       "      <td>0</td>\n",
       "      <td>1</td>\n",
       "      <td>0</td>\n",
       "      <td>1</td>\n",
       "      <td>0</td>\n",
       "      <td>26883</td>\n",
       "      <td>0</td>\n",
       "      <td>0</td>\n",
       "      <td>40</td>\n",
       "      <td>0.000000</td>\n",
       "      <td>0.000000</td>\n",
       "      <td>0</td>\n",
       "      <td>0</td>\n",
       "      <td>0.000000e+00</td>\n",
       "      <td>0.000000</td>\n",
       "      <td>0</td>\n",
       "      <td>0</td>\n",
       "      <td>FTP-BruteForce</td>\n",
       "    </tr>\n",
       "    <tr>\n",
       "      <th>3</th>\n",
       "      <td>443</td>\n",
       "      <td>6</td>\n",
       "      <td>23/02/2018 04:29:24</td>\n",
       "      <td>119935186</td>\n",
       "      <td>14</td>\n",
       "      <td>22</td>\n",
       "      <td>8</td>\n",
       "      <td>4821</td>\n",
       "      <td>1</td>\n",
       "      <td>0</td>\n",
       "      <td>0.571429</td>\n",
       "      <td>0.513553</td>\n",
       "      <td>1225</td>\n",
       "      <td>0</td>\n",
       "      <td>219.136364</td>\n",
       "      <td>418.442383</td>\n",
       "      <td>40.263414</td>\n",
       "      <td>3.001621e-01</td>\n",
       "      <td>3.426720e+06</td>\n",
       "      <td>4.779943e+06</td>\n",
       "      <td>10000767</td>\n",
       "      <td>1</td>\n",
       "      <td>119935186</td>\n",
       "      <td>9.225784e+06</td>\n",
       "      <td>2.753656e+06</td>\n",
       "      <td>10046608</td>\n",
       "      <td>62892</td>\n",
       "      <td>119881652</td>\n",
       "      <td>5.708650e+06</td>\n",
       "      <td>5.063701e+06</td>\n",
       "      <td>10040039</td>\n",
       "      <td>1</td>\n",
       "      <td>0</td>\n",
       "      <td>0</td>\n",
       "      <td>0</td>\n",
       "      <td>0</td>\n",
       "      <td>280</td>\n",
       "      <td>536</td>\n",
       "      <td>0.116730</td>\n",
       "      <td>0.183432</td>\n",
       "      <td>0</td>\n",
       "      <td>1225</td>\n",
       "      <td>130.513514</td>\n",
       "      <td>337.605508</td>\n",
       "      <td>113977.478979</td>\n",
       "      <td>0</td>\n",
       "      <td>0</td>\n",
       "      <td>0</td>\n",
       "      <td>0</td>\n",
       "      <td>1</td>\n",
       "      <td>0</td>\n",
       "      <td>0</td>\n",
       "      <td>0</td>\n",
       "      <td>1</td>\n",
       "      <td>134.138885</td>\n",
       "      <td>0.571429</td>\n",
       "      <td>219.136368</td>\n",
       "      <td>0</td>\n",
       "      <td>0</td>\n",
       "      <td>0</td>\n",
       "      <td>0</td>\n",
       "      <td>0</td>\n",
       "      <td>0</td>\n",
       "      <td>14</td>\n",
       "      <td>8</td>\n",
       "      <td>22</td>\n",
       "      <td>4821</td>\n",
       "      <td>4779</td>\n",
       "      <td>5565</td>\n",
       "      <td>8</td>\n",
       "      <td>20</td>\n",
       "      <td>40998.833333</td>\n",
       "      <td>16079.204457</td>\n",
       "      <td>70664</td>\n",
       "      <td>30272</td>\n",
       "      <td>9.948806e+06</td>\n",
       "      <td>62539.710158</td>\n",
       "      <td>10000767</td>\n",
       "      <td>9771255</td>\n",
       "      <td>Benign</td>\n",
       "    </tr>\n",
       "    <tr>\n",
       "      <th>4</th>\n",
       "      <td>53</td>\n",
       "      <td>17</td>\n",
       "      <td>15/02/2018 11:33:12</td>\n",
       "      <td>1589</td>\n",
       "      <td>1</td>\n",
       "      <td>1</td>\n",
       "      <td>40</td>\n",
       "      <td>134</td>\n",
       "      <td>40</td>\n",
       "      <td>40</td>\n",
       "      <td>40.000000</td>\n",
       "      <td>0.000000</td>\n",
       "      <td>134</td>\n",
       "      <td>134</td>\n",
       "      <td>134.000000</td>\n",
       "      <td>0.000000</td>\n",
       "      <td>109502.831970</td>\n",
       "      <td>1.258653e+03</td>\n",
       "      <td>1.589000e+03</td>\n",
       "      <td>0.000000e+00</td>\n",
       "      <td>1589</td>\n",
       "      <td>1589</td>\n",
       "      <td>0</td>\n",
       "      <td>0.000000e+00</td>\n",
       "      <td>0.000000e+00</td>\n",
       "      <td>0</td>\n",
       "      <td>0</td>\n",
       "      <td>0</td>\n",
       "      <td>0.000000e+00</td>\n",
       "      <td>0.000000e+00</td>\n",
       "      <td>0</td>\n",
       "      <td>0</td>\n",
       "      <td>0</td>\n",
       "      <td>0</td>\n",
       "      <td>0</td>\n",
       "      <td>0</td>\n",
       "      <td>8</td>\n",
       "      <td>8</td>\n",
       "      <td>629.326621</td>\n",
       "      <td>629.326621</td>\n",
       "      <td>40</td>\n",
       "      <td>134</td>\n",
       "      <td>71.333333</td>\n",
       "      <td>54.270925</td>\n",
       "      <td>2945.333333</td>\n",
       "      <td>0</td>\n",
       "      <td>0</td>\n",
       "      <td>0</td>\n",
       "      <td>0</td>\n",
       "      <td>0</td>\n",
       "      <td>0</td>\n",
       "      <td>0</td>\n",
       "      <td>0</td>\n",
       "      <td>1</td>\n",
       "      <td>107.000000</td>\n",
       "      <td>40.000000</td>\n",
       "      <td>134.000000</td>\n",
       "      <td>0</td>\n",
       "      <td>0</td>\n",
       "      <td>0</td>\n",
       "      <td>0</td>\n",
       "      <td>0</td>\n",
       "      <td>0</td>\n",
       "      <td>1</td>\n",
       "      <td>40</td>\n",
       "      <td>1</td>\n",
       "      <td>134</td>\n",
       "      <td>-1</td>\n",
       "      <td>-1</td>\n",
       "      <td>0</td>\n",
       "      <td>8</td>\n",
       "      <td>0.000000</td>\n",
       "      <td>0.000000</td>\n",
       "      <td>0</td>\n",
       "      <td>0</td>\n",
       "      <td>0.000000e+00</td>\n",
       "      <td>0.000000</td>\n",
       "      <td>0</td>\n",
       "      <td>0</td>\n",
       "      <td>Benign</td>\n",
       "    </tr>\n",
       "  </tbody>\n",
       "</table>\n",
       "</div>"
      ],
      "text/plain": [
       "   Dst Port  Protocol            Timestamp  Flow Duration  Tot Fwd Pkts  \\\n",
       "0        53        17  22/02/2018 11:18:27        5688205             2   \n",
       "1        80         6  22/02/2018 08:29:33          39398             4   \n",
       "2        21         6  14/02/2018 11:26:59              1             1   \n",
       "3       443         6  23/02/2018 04:29:24      119935186            14   \n",
       "4        53        17  15/02/2018 11:33:12           1589             1   \n",
       "\n",
       "   Tot Bwd Pkts  TotLen Fwd Pkts  TotLen Bwd Pkts  Fwd Pkt Len Max  \\\n",
       "0             2               82              242               51   \n",
       "1            10              249            10515              249   \n",
       "2             1                0                0                0   \n",
       "3            22                8             4821                1   \n",
       "4             1               40              134               40   \n",
       "\n",
       "   Fwd Pkt Len Min  Fwd Pkt Len Mean  Fwd Pkt Len Std  Bwd Pkt Len Max  \\\n",
       "0               31         41.000000        14.142136              147   \n",
       "1                0         62.250000       124.500000             1460   \n",
       "2                0          0.000000         0.000000                0   \n",
       "3                0          0.571429         0.513553             1225   \n",
       "4               40         40.000000         0.000000              134   \n",
       "\n",
       "   Bwd Pkt Len Min  Bwd Pkt Len Mean  Bwd Pkt Len Std    Flow Byts/s  \\\n",
       "0               95        121.000000        36.769553      56.959972   \n",
       "1                0       1051.500000       662.629652  273211.838164   \n",
       "2                0          0.000000         0.000000       0.000000   \n",
       "3                0        219.136364       418.442383      40.263414   \n",
       "4              134        134.000000         0.000000  109502.831970   \n",
       "\n",
       "    Flow Pkts/s  Flow IAT Mean  Flow IAT Std  Flow IAT Max  Flow IAT Min  \\\n",
       "0  7.032095e-01   1.896068e+06  3.283319e+06       5687318           430   \n",
       "1  3.553480e+02   3.030615e+03  7.208370e+03         19311             0   \n",
       "2  2.000000e+06   1.000000e+00  0.000000e+00             1             1   \n",
       "3  3.001621e-01   3.426720e+06  4.779943e+06      10000767             1   \n",
       "4  1.258653e+03   1.589000e+03  0.000000e+00          1589          1589   \n",
       "\n",
       "   Fwd IAT Tot  Fwd IAT Mean   Fwd IAT Std  Fwd IAT Max  Fwd IAT Min  \\\n",
       "0      5687748  5.687748e+06  0.000000e+00      5687748      5687748   \n",
       "1        39398  1.313267e+04  1.131369e+04        19983           74   \n",
       "2            0  0.000000e+00  0.000000e+00            0            0   \n",
       "3    119935186  9.225784e+06  2.753656e+06     10046608        62892   \n",
       "4            0  0.000000e+00  0.000000e+00            0            0   \n",
       "\n",
       "   Bwd IAT Tot  Bwd IAT Mean   Bwd IAT Std  Bwd IAT Max  Bwd IAT Min  \\\n",
       "0      5687775  5.687775e+06  0.000000e+00      5687775      5687775   \n",
       "1        20053  2.228111e+03  6.416130e+03        19326            0   \n",
       "2            0  0.000000e+00  0.000000e+00            0            0   \n",
       "3    119881652  5.708650e+06  5.063701e+06     10040039            1   \n",
       "4            0  0.000000e+00  0.000000e+00            0            0   \n",
       "\n",
       "   Fwd PSH Flags  Bwd PSH Flags  Fwd URG Flags  Bwd URG Flags  Fwd Header Len  \\\n",
       "0              0              0              0              0              16   \n",
       "1              0              0              0              0              92   \n",
       "2              0              0              0              0              40   \n",
       "3              0              0              0              0             280   \n",
       "4              0              0              0              0               8   \n",
       "\n",
       "   Bwd Header Len      Fwd Pkts/s      Bwd Pkts/s  Pkt Len Min  Pkt Len Max  \\\n",
       "0              16        0.351605        0.351605           31          147   \n",
       "1             212      101.527996      253.819991            0         1460   \n",
       "2              20  1000000.000000  1000000.000000            0            0   \n",
       "3             536        0.116730        0.183432            0         1225   \n",
       "4               8      629.326621      629.326621           40          134   \n",
       "\n",
       "   Pkt Len Mean  Pkt Len Std    Pkt Len Var  FIN Flag Cnt  SYN Flag Cnt  \\\n",
       "0     75.000000    46.561787    2168.000000             0             0   \n",
       "1    717.600000   724.370643  524712.828571             0             0   \n",
       "2      0.000000     0.000000       0.000000             0             0   \n",
       "3    130.513514   337.605508  113977.478979             0             0   \n",
       "4     71.333333    54.270925    2945.333333             0             0   \n",
       "\n",
       "   RST Flag Cnt  PSH Flag Cnt  ACK Flag Cnt  URG Flag Cnt  CWE Flag Count  \\\n",
       "0             0             0             0             0               0   \n",
       "1             0             1             0             0               0   \n",
       "2             0             1             0             0               0   \n",
       "3             0             0             1             0               0   \n",
       "4             0             0             0             0               0   \n",
       "\n",
       "   ECE Flag Cnt  Down/Up Ratio  Pkt Size Avg  Fwd Seg Size Avg  \\\n",
       "0             0              1     93.750000         41.000000   \n",
       "1             0              2    768.857117         62.250000   \n",
       "2             0              1      0.000000          0.000000   \n",
       "3             0              1    134.138885          0.571429   \n",
       "4             0              1    107.000000         40.000000   \n",
       "\n",
       "   Bwd Seg Size Avg  Fwd Byts/b Avg  Fwd Pkts/b Avg  Fwd Blk Rate Avg  \\\n",
       "0        121.000000               0               0                 0   \n",
       "1       1051.500000               0               0                 0   \n",
       "2          0.000000               0               0                 0   \n",
       "3        219.136368               0               0                 0   \n",
       "4        134.000000               0               0                 0   \n",
       "\n",
       "   Bwd Byts/b Avg  Bwd Pkts/b Avg  Bwd Blk Rate Avg  Subflow Fwd Pkts  \\\n",
       "0               0               0                 0                 2   \n",
       "1               0               0                 0                 4   \n",
       "2               0               0                 0                 1   \n",
       "3               0               0                 0                14   \n",
       "4               0               0                 0                 1   \n",
       "\n",
       "   Subflow Fwd Byts  Subflow Bwd Pkts  Subflow Bwd Byts  Init Fwd Win Byts  \\\n",
       "0                82                 2               242                 -1   \n",
       "1               249                10             10515               8192   \n",
       "2                 0                 1                 0              26883   \n",
       "3                 8                22              4821               4779   \n",
       "4                40                 1               134                 -1   \n",
       "\n",
       "   Init Bwd Win Byts  Fwd Act Data Pkts  Fwd Seg Size Min   Active Mean  \\\n",
       "0                 -1                  1                 8    430.000000   \n",
       "1                237                  1                20      0.000000   \n",
       "2                  0                  0                40      0.000000   \n",
       "3               5565                  8                20  40998.833333   \n",
       "4                 -1                  0                 8      0.000000   \n",
       "\n",
       "     Active Std  Active Max  Active Min     Idle Mean      Idle Std  Idle Max  \\\n",
       "0      0.000000         430         430  5.687318e+06      0.000000   5687318   \n",
       "1      0.000000           0           0  0.000000e+00      0.000000         0   \n",
       "2      0.000000           0           0  0.000000e+00      0.000000         0   \n",
       "3  16079.204457       70664       30272  9.948806e+06  62539.710158  10000767   \n",
       "4      0.000000           0           0  0.000000e+00      0.000000         0   \n",
       "\n",
       "   Idle Min           Label  \n",
       "0   5687318          Benign  \n",
       "1         0          Benign  \n",
       "2         0  FTP-BruteForce  \n",
       "3   9771255          Benign  \n",
       "4         0          Benign  "
      ]
     },
     "execution_count": 6,
     "metadata": {},
     "output_type": "execute_result"
    }
   ],
   "source": [
    "ds.head()"
   ]
  },
  {
   "cell_type": "code",
   "execution_count": 7,
   "id": "718c38ec",
   "metadata": {
    "ExecuteTime": {
     "end_time": "2021-11-01T09:23:04.036403Z",
     "start_time": "2021-11-01T09:23:02.542987Z"
    }
   },
   "outputs": [
    {
     "data": {
      "text/plain": [
       "14521"
      ]
     },
     "execution_count": 7,
     "metadata": {},
     "output_type": "execute_result"
    }
   ],
   "source": [
    "# check for NaN values \n",
    "ds.isna().sum().sum()"
   ]
  },
  {
   "cell_type": "code",
   "execution_count": 8,
   "id": "3e64845a",
   "metadata": {
    "ExecuteTime": {
     "end_time": "2021-11-01T09:23:08.359294Z",
     "start_time": "2021-11-01T09:23:04.040607Z"
    }
   },
   "outputs": [
    {
     "data": {
      "text/plain": [
       "0"
      ]
     },
     "execution_count": 8,
     "metadata": {},
     "output_type": "execute_result"
    }
   ],
   "source": [
    "# drop NaN values\n",
    "ds = ds.dropna()\n",
    "\n",
    "# recheck\n",
    "ds.isna().sum().sum()"
   ]
  },
  {
   "cell_type": "code",
   "execution_count": 9,
   "id": "ebf6c882",
   "metadata": {
    "ExecuteTime": {
     "end_time": "2021-11-01T09:23:11.804779Z",
     "start_time": "2021-11-01T09:23:08.361042Z"
    }
   },
   "outputs": [
    {
     "data": {
      "text/plain": [
       "17296"
      ]
     },
     "execution_count": 9,
     "metadata": {},
     "output_type": "execute_result"
    }
   ],
   "source": [
    "# check for values approaching infinity\n",
    "ds = ds.replace([np.inf, -np.inf], np.nan)\n",
    "ds.isna().sum().sum()"
   ]
  },
  {
   "cell_type": "code",
   "execution_count": 10,
   "id": "72aba9b7",
   "metadata": {
    "ExecuteTime": {
     "end_time": "2021-11-01T09:23:16.111689Z",
     "start_time": "2021-11-01T09:23:11.806714Z"
    }
   },
   "outputs": [
    {
     "data": {
      "text/plain": [
       "0"
      ]
     },
     "execution_count": 10,
     "metadata": {},
     "output_type": "execute_result"
    }
   ],
   "source": [
    "# drop those values\n",
    "ds = ds.dropna()\n",
    "\n",
    "# recheck\n",
    "ds.isna().sum().sum()"
   ]
  },
  {
   "cell_type": "code",
   "execution_count": 11,
   "id": "6e1fc853",
   "metadata": {
    "ExecuteTime": {
     "end_time": "2021-11-01T09:23:16.729906Z",
     "start_time": "2021-11-01T09:23:16.114706Z"
    }
   },
   "outputs": [
    {
     "data": {
      "text/plain": [
       "Counter({'Benign': 4097595,\n",
       "         'FTP-BruteForce': 193354,\n",
       "         'SSH-Bruteforce': 187589,\n",
       "         'DDOS attack-HOIC': 686012,\n",
       "         'DoS attacks-GoldenEye': 41508,\n",
       "         'DoS attacks-Slowloris': 10990,\n",
       "         'DDOS attack-LOIC-UDP': 1730,\n",
       "         'Brute Force -Web': 611,\n",
       "         'Brute Force -XSS': 230,\n",
       "         'SQL Injection': 87})"
      ]
     },
     "execution_count": 11,
     "metadata": {},
     "output_type": "execute_result"
    }
   ],
   "source": [
    "Counter(ds.Label)"
   ]
  },
  {
   "cell_type": "code",
   "execution_count": 12,
   "id": "81dfa8f4",
   "metadata": {
    "ExecuteTime": {
     "end_time": "2021-11-01T09:23:18.297925Z",
     "start_time": "2021-11-01T09:23:16.731961Z"
    }
   },
   "outputs": [],
   "source": [
    "# here, we encode labels for binary classification\n",
    "# for multiclass classification,\n",
    "# you can edit the labels with the desired class number\n",
    "\n",
    "label_dict = {\n",
    "    'Benign': 0,\n",
    "    'DDOS attack-HOIC': 1,\n",
    "    'FTP-BruteForce': 1,\n",
    "    'DoS attacks-GoldenEye': 1,\n",
    "    'SSH-Bruteforce': 1,\n",
    "    'DoS attacks-Slowloris': 1,\n",
    "    'Brute Force -XSS': 1,\n",
    "    'SQL Injection': 1,\n",
    "    'DDOS attack-LOIC-UDP': 1,\n",
    "    'Brute Force -Web': 1\n",
    "}\n",
    "ds['Label'] = [label_dict[item] for item in ds['Label']]"
   ]
  },
  {
   "cell_type": "code",
   "execution_count": 13,
   "id": "a3cdad0f",
   "metadata": {
    "ExecuteTime": {
     "end_time": "2021-11-01T09:23:18.803273Z",
     "start_time": "2021-11-01T09:23:18.299969Z"
    }
   },
   "outputs": [
    {
     "name": "stderr",
     "output_type": "stream",
     "text": [
      "/opt/anaconda3/envs/py_36/lib/python3.6/site-packages/seaborn/_decorators.py:43: FutureWarning: Pass the following variable as a keyword arg: x. From version 0.12, the only valid positional argument will be `data`, and passing other arguments without an explicit keyword will result in an error or misinterpretation.\n",
      "  FutureWarning\n"
     ]
    },
    {
     "data": {
      "text/plain": [
       "<AxesSubplot:xlabel='Label', ylabel='count'>"
      ]
     },
     "execution_count": 13,
     "metadata": {},
     "output_type": "execute_result"
    },
    {
     "data": {
      "image/png": "[encoded data removed]",
      "text/plain": [
       "<Figure size 432x288 with 1 Axes>"
      ]
     },
     "metadata": {
      "needs_background": "light"
     },
     "output_type": "display_data"
    }
   ],
   "source": [
    "sns.countplot(ds.Label)"
   ]
  },
  {
   "cell_type": "markdown",
   "id": "569f832a",
   "metadata": {},
   "source": [
    "# Model building"
   ]
  },
  {
   "cell_type": "code",
   "execution_count": 14,
   "id": "8c282669",
   "metadata": {
    "ExecuteTime": {
     "end_time": "2021-11-01T09:23:22.590560Z",
     "start_time": "2021-11-01T09:23:18.805662Z"
    }
   },
   "outputs": [
    {
     "name": "stderr",
     "output_type": "stream",
     "text": [
      "/opt/anaconda3/envs/py_36/lib/python3.6/site-packages/seaborn/_decorators.py:43: FutureWarning: Pass the following variable as a keyword arg: x. From version 0.12, the only valid positional argument will be `data`, and passing other arguments without an explicit keyword will result in an error or misinterpretation.\n",
      "  FutureWarning\n"
     ]
    },
    {
     "data": {
      "text/plain": [
       "<AxesSubplot:xlabel='Label', ylabel='count'>"
      ]
     },
     "execution_count": 14,
     "metadata": {},
     "output_type": "execute_result"
    },
    {
     "data": {
      "image/png": "[encoded data removed]",
      "text/plain": [
       "<Figure size 432x288 with 1 Axes>"
      ]
     },
     "metadata": {
      "needs_background": "light"
     },
     "output_type": "display_data"
    }
   ],
   "source": [
    "ds = ds.sample(frac=0.2, replace=True, random_state=42).reset_index(drop=True)\n",
    "\n",
    "y = ds.Label\n",
    "X = ds.drop([\"Label\", \"Timestamp\"], axis=1)\n",
    "\n",
    "# Here, we randomly select 20% of the data set and undersample it\n",
    "# **omit the first line of this cell and the line below if you want to run on the entire data set**\n",
    "\n",
    "X, y = RandomUnderSampler().fit_resample(X, y)\n",
    "\n",
    "sns.countplot(y)"
   ]
  },
  {
   "cell_type": "code",
   "execution_count": 15,
   "id": "7017e924",
   "metadata": {
    "ExecuteTime": {
     "end_time": "2021-11-01T09:23:22.596056Z",
     "start_time": "2021-11-01T09:23:22.592415Z"
    }
   },
   "outputs": [],
   "source": [
    "def append_avgs(dict):\n",
    "    avgs = []\n",
    "    stds = []\n",
    "    for i in dict:\n",
    "        avg = np.average(dict[i])\n",
    "        std = np.std(dict[i])\n",
    "        avgs.append(avg)\n",
    "        stds.append(std)\n",
    "    df = pd.DataFrame(dict)\n",
    "    df.loc[5] = avgs\n",
    "    df.loc[6] = stds\n",
    "    return df"
   ]
  },
  {
   "cell_type": "code",
   "execution_count": 16,
   "id": "5d883a4a",
   "metadata": {
    "ExecuteTime": {
     "end_time": "2021-11-01T09:23:23.387938Z",
     "start_time": "2021-11-01T09:23:22.597673Z"
    }
   },
   "outputs": [],
   "source": [
    "# define column selector for feature scaling\n",
    "numerical_columns_selector = make_column_selector(dtype_exclude=object)\n",
    "numerical_columns = numerical_columns_selector(X)\n",
    "\n",
    "#categorical_columns_selector = make_column_selector(dtype_include=object)\n",
    "#categorical_columns = categorical_columns_selector(X)\n",
    "\n",
    "\n",
    "#define scaler\n",
    "sc = StandardScaler()\n",
    "\n",
    "# Scale numerical features\n",
    "X_sc = pd.DataFrame(sc.fit_transform(X[numerical_columns]), columns = numerical_columns)"
   ]
  },
  {
   "cell_type": "code",
   "execution_count": 17,
   "id": "fb77825a",
   "metadata": {
    "ExecuteTime": {
     "end_time": "2021-11-01T09:23:23.392917Z",
     "start_time": "2021-11-01T09:23:23.389881Z"
    }
   },
   "outputs": [],
   "source": [
    "model = ExtraTreesClassifier(n_estimators=100, random_state=42)\n",
    "cv = StratifiedKFold(n_splits=5, shuffle=True, random_state=42)"
   ]
  },
  {
   "cell_type": "markdown",
   "id": "681c111e",
   "metadata": {},
   "source": [
    "## Assosiacition rules"
   ]
  },
  {
   "cell_type": "markdown",
   "id": "eb4dcad9",
   "metadata": {},
   "source": [
    "### Feature selection"
   ]
  },
  {
   "cell_type": "markdown",
   "id": "9fe38891",
   "metadata": {},
   "source": [
    "We will use [SelectFromModel](https://scikit-learn.org/stable/modules/generated/sklearn.feature_selection.SelectFromModel.html#sklearn.feature_selection.SelectFromModel) to select the number of features. Other feature selection methods are available in [scikit-learn](https://scikit-learn.org/stable/modules/feature_selection.html)."
   ]
  },
  {
   "cell_type": "code",
   "execution_count": 18,
   "id": "5e2ab71c",
   "metadata": {
    "ExecuteTime": {
     "end_time": "2021-11-01T09:23:51.974151Z",
     "start_time": "2021-11-01T09:23:23.395029Z"
    }
   },
   "outputs": [],
   "source": [
    "clf = model.fit(X,y)"
   ]
  },
  {
   "cell_type": "code",
   "execution_count": 19,
   "id": "3e32140b",
   "metadata": {
    "ExecuteTime": {
     "end_time": "2021-11-01T09:23:52.021125Z",
     "start_time": "2021-11-01T09:23:51.976651Z"
    }
   },
   "outputs": [],
   "source": [
    "# define Feature selector\n",
    "fs = SelectFromModel(estimator = clf, prefit=True)\n",
    "\n",
    "# keep selected features\n",
    "new_cols = list(compress(numerical_columns, fs.get_support()))\n",
    "\n",
    "# build the DF\n",
    "X_new = pd.DataFrame(X[new_cols], columns = new_cols)"
   ]
  },
  {
   "cell_type": "code",
   "execution_count": 20,
   "id": "0c90f194",
   "metadata": {
    "ExecuteTime": {
     "end_time": "2021-11-01T09:23:52.069629Z",
     "start_time": "2021-11-01T09:23:52.023059Z"
    }
   },
   "outputs": [],
   "source": [
    "# add the label column to the DF\n",
    "X_new['Label'] = y\n",
    "\n",
    "X_new.loc[X_new['Label'] == 0, ['Label']] = 'Benign'\n",
    "X_new.loc[X_new['Label'] == 1, ['Label']] = 'Attack'"
   ]
  },
  {
   "cell_type": "code",
   "execution_count": 21,
   "id": "56cf3b0f",
   "metadata": {
    "ExecuteTime": {
     "end_time": "2021-11-01T09:23:52.109586Z",
     "start_time": "2021-11-01T09:23:52.071479Z"
    }
   },
   "outputs": [
    {
     "name": "stdout",
     "output_type": "stream",
     "text": [
      "<class 'pandas.core.frame.DataFrame'>\n",
      "RangeIndex: 446724 entries, 0 to 446723\n",
      "Data columns (total 14 columns):\n",
      " #   Column             Non-Null Count   Dtype  \n",
      "---  ------             --------------   -----  \n",
      " 0   Dst Port           446724 non-null  int32  \n",
      " 1   Protocol           446724 non-null  int8   \n",
      " 2   Bwd Pkt Len Max    446724 non-null  int16  \n",
      " 3   Bwd Pkt Len Std    446724 non-null  float64\n",
      " 4   Flow Pkts/s        446724 non-null  float64\n",
      " 5   Fwd Pkts/s         446724 non-null  float64\n",
      " 6   Bwd Pkts/s         446724 non-null  float64\n",
      " 7   PSH Flag Cnt       446724 non-null  int8   \n",
      " 8   ACK Flag Cnt       446724 non-null  int8   \n",
      " 9   URG Flag Cnt       446724 non-null  int8   \n",
      " 10  Init Fwd Win Byts  446724 non-null  int32  \n",
      " 11  Init Bwd Win Byts  446724 non-null  int32  \n",
      " 12  Fwd Seg Size Min   446724 non-null  int8   \n",
      " 13  Label              446724 non-null  object \n",
      "dtypes: float64(4), int16(1), int32(3), int8(5), object(1)\n",
      "memory usage: 25.1+ MB\n"
     ]
    }
   ],
   "source": [
    "X_new.info()"
   ]
  },
  {
   "cell_type": "code",
   "execution_count": 22,
   "id": "e882dbf5",
   "metadata": {
    "ExecuteTime": {
     "end_time": "2021-11-01T09:23:52.128540Z",
     "start_time": "2021-11-01T09:23:52.115017Z"
    }
   },
   "outputs": [],
   "source": [
    "# for the analysis' illustration, we will drop more columns from the data set\n",
    "X_new = X_new.drop(columns = [\"Protocol\", \"PSH Flag Cnt\",\"Flow Pkts/s\",\n",
    "                              \"Init Fwd Win Byts\",\"Flow Pkts/s\"\n",
    "                             ], axis = 1) "
   ]
  },
  {
   "cell_type": "code",
   "execution_count": 23,
   "id": "b861b905",
   "metadata": {
    "ExecuteTime": {
     "end_time": "2021-11-01T09:23:53.675964Z",
     "start_time": "2021-11-01T09:23:52.131834Z"
    }
   },
   "outputs": [
    {
     "data": {
      "image/png": "[encoded data removed]",
      "text/plain": [
       "<Figure size 720x720 with 9 Axes>"
      ]
     },
     "metadata": {
      "needs_background": "light"
     },
     "output_type": "display_data"
    }
   ],
   "source": [
    "# Checking the data distribution in the second group with histograms\n",
    "X_new.hist(bins = 50,figsize = (10,10))\n",
    "plt.show()"
   ]
  },
  {
   "cell_type": "code",
   "execution_count": 24,
   "id": "dd2eecce",
   "metadata": {
    "ExecuteTime": {
     "end_time": "2021-11-01T09:23:53.942838Z",
     "start_time": "2021-11-01T09:23:53.678198Z"
    }
   },
   "outputs": [],
   "source": [
    "DST = pd.cut(X_new['Dst Port'], bins=[-1,20000,40000,60000],\n",
    "                  labels=[\"[0, 20000]\",\"[20000, 40000]\",\"[40000, 60000]\"])\n",
    "\n",
    "BWDMAX = pd.cut(X_new['Bwd Pkt Len Max'],bins=[-1, 250, 500,750,1000, 5000],\n",
    "                  labels=[\"[0, 250]\",\"[250, 500]\" ,\"[500, 750]\",\"[750, 1000]\", \"[1000, 5000]\"])\n",
    "\n",
    "BWDSTD = pd.cut(X_new['Bwd Pkt Len Std'],bins=[-1, 250, 500,750, 1000, 1500,2500],\n",
    "                  labels=[\"[0, 250]\",\"[250, 500]\" ,\"[500, 750]\",\"[750, 1000]\", \"[1000, 1500]\", \"[1500, 2000]\"])\n",
    "\n",
    "FWDPKS = pd.cut(X_new['Fwd Pkts/s'],bins=[0,1e6,2e6,3e6,4e6],\n",
    "                  labels=[\"[0, 1]\",\"[1, 2]\",\"[2, 3]\",\"[3, 4.5]\"])\n",
    "\n",
    "\n",
    "BWDPKS = pd.cut(X_new['Bwd Pkts/s'],bins=[0,0.5e6,1e6,1.5e6, 2.5e6],\n",
    "                  labels=[\"[0.0, 0.5]\",\"[0.5, 1.0]\",\"[1.0, 1.5]\",\"[1.5, 2]\"])\n",
    "\n",
    "\n",
    "ACKFLGCNT = X_new['ACK Flag Cnt'].apply(str)\n",
    "\n",
    "URGFLGCNT = X_new['URG Flag Cnt'].apply(str)\n",
    "\n",
    "\n",
    "INIT = pd.cut(X_new['Init Bwd Win Byts'],bins=[-2, 20000,40000,60000,80000],\n",
    "                  labels=[\"[-1, 20000]\",\"[20000, 40000]\",\"[40000, 60000]\",\"[60000, 80000]\"])\n",
    "\n",
    "FWDSEG = pd.cut(X_new['Fwd Seg Size Min'],bins=[-1,10,20,30,40, 50],\n",
    "                  labels=[\"[0, 10]\",\"[10, 20]\",\"[20, 30]\",\"[30, 40]\", \"[40, 50]\"])"
   ]
  },
  {
   "cell_type": "code",
   "execution_count": 25,
   "id": "90f12218",
   "metadata": {
    "ExecuteTime": {
     "end_time": "2021-11-01T09:23:53.991023Z",
     "start_time": "2021-11-01T09:23:53.945415Z"
    }
   },
   "outputs": [],
   "source": [
    "cols  = [\n",
    "    DST, BWDMAX, BWDSTD, FWDPKS, BWDPKS, ACKFLGCNT, URGFLGCNT, INIT, FWDSEG, X_new.Label.astype('category')\n",
    "]\n",
    "\n",
    "cats = pd.concat(cols,axis=1)\n",
    "\n"
   ]
  },
  {
   "cell_type": "code",
   "execution_count": 26,
   "id": "56540e72",
   "metadata": {
    "ExecuteTime": {
     "end_time": "2021-11-01T09:23:54.010034Z",
     "start_time": "2021-11-01T09:23:53.992964Z"
    }
   },
   "outputs": [
    {
     "data": {
      "text/html": [
       "<div>\n",
       "<style scoped>\n",
       "    .dataframe tbody tr th:only-of-type {\n",
       "        vertical-align: middle;\n",
       "    }\n",
       "\n",
       "    .dataframe tbody tr th {\n",
       "        vertical-align: top;\n",
       "    }\n",
       "\n",
       "    .dataframe thead th {\n",
       "        text-align: right;\n",
       "    }\n",
       "</style>\n",
       "<table border=\"1\" class=\"dataframe\">\n",
       "  <thead>\n",
       "    <tr style=\"text-align: right;\">\n",
       "      <th></th>\n",
       "      <th>Dst Port</th>\n",
       "      <th>Bwd Pkt Len Max</th>\n",
       "      <th>Bwd Pkt Len Std</th>\n",
       "      <th>Fwd Pkts/s</th>\n",
       "      <th>Bwd Pkts/s</th>\n",
       "      <th>ACK Flag Cnt</th>\n",
       "      <th>URG Flag Cnt</th>\n",
       "      <th>Init Bwd Win Byts</th>\n",
       "      <th>Fwd Seg Size Min</th>\n",
       "      <th>Label</th>\n",
       "    </tr>\n",
       "  </thead>\n",
       "  <tbody>\n",
       "    <tr>\n",
       "      <th>0</th>\n",
       "      <td>[40000, 60000]</td>\n",
       "      <td>[0, 250]</td>\n",
       "      <td>[0, 250]</td>\n",
       "      <td>[0, 1]</td>\n",
       "      <td>[0.0, 0.5]</td>\n",
       "      <td>0</td>\n",
       "      <td>0</td>\n",
       "      <td>[20000, 40000]</td>\n",
       "      <td>[10, 20]</td>\n",
       "      <td>Benign</td>\n",
       "    </tr>\n",
       "    <tr>\n",
       "      <th>1</th>\n",
       "      <td>[0, 20000]</td>\n",
       "      <td>[0, 250]</td>\n",
       "      <td>[0, 250]</td>\n",
       "      <td>[0, 1]</td>\n",
       "      <td>[0.0, 0.5]</td>\n",
       "      <td>0</td>\n",
       "      <td>0</td>\n",
       "      <td>[-1, 20000]</td>\n",
       "      <td>[0, 10]</td>\n",
       "      <td>Benign</td>\n",
       "    </tr>\n",
       "    <tr>\n",
       "      <th>2</th>\n",
       "      <td>[40000, 60000]</td>\n",
       "      <td>[0, 250]</td>\n",
       "      <td>[0, 250]</td>\n",
       "      <td>[0, 1]</td>\n",
       "      <td>[0.0, 0.5]</td>\n",
       "      <td>1</td>\n",
       "      <td>1</td>\n",
       "      <td>[-1, 20000]</td>\n",
       "      <td>[10, 20]</td>\n",
       "      <td>Benign</td>\n",
       "    </tr>\n",
       "    <tr>\n",
       "      <th>3</th>\n",
       "      <td>[0, 20000]</td>\n",
       "      <td>[0, 250]</td>\n",
       "      <td>[0, 250]</td>\n",
       "      <td>[0, 1]</td>\n",
       "      <td>NaN</td>\n",
       "      <td>1</td>\n",
       "      <td>0</td>\n",
       "      <td>[-1, 20000]</td>\n",
       "      <td>[10, 20]</td>\n",
       "      <td>Benign</td>\n",
       "    </tr>\n",
       "    <tr>\n",
       "      <th>4</th>\n",
       "      <td>[0, 20000]</td>\n",
       "      <td>[1000, 5000]</td>\n",
       "      <td>[500, 750]</td>\n",
       "      <td>[0, 1]</td>\n",
       "      <td>[0.0, 0.5]</td>\n",
       "      <td>0</td>\n",
       "      <td>0</td>\n",
       "      <td>[-1, 20000]</td>\n",
       "      <td>[10, 20]</td>\n",
       "      <td>Benign</td>\n",
       "    </tr>\n",
       "  </tbody>\n",
       "</table>\n",
       "</div>"
      ],
      "text/plain": [
       "         Dst Port Bwd Pkt Len Max Bwd Pkt Len Std Fwd Pkts/s  Bwd Pkts/s  \\\n",
       "0  [40000, 60000]        [0, 250]        [0, 250]     [0, 1]  [0.0, 0.5]   \n",
       "1      [0, 20000]        [0, 250]        [0, 250]     [0, 1]  [0.0, 0.5]   \n",
       "2  [40000, 60000]        [0, 250]        [0, 250]     [0, 1]  [0.0, 0.5]   \n",
       "3      [0, 20000]        [0, 250]        [0, 250]     [0, 1]         NaN   \n",
       "4      [0, 20000]    [1000, 5000]      [500, 750]     [0, 1]  [0.0, 0.5]   \n",
       "\n",
       "  ACK Flag Cnt URG Flag Cnt Init Bwd Win Byts Fwd Seg Size Min   Label  \n",
       "0            0            0    [20000, 40000]         [10, 20]  Benign  \n",
       "1            0            0       [-1, 20000]          [0, 10]  Benign  \n",
       "2            1            1       [-1, 20000]         [10, 20]  Benign  \n",
       "3            1            0       [-1, 20000]         [10, 20]  Benign  \n",
       "4            0            0       [-1, 20000]         [10, 20]  Benign  "
      ]
     },
     "execution_count": 26,
     "metadata": {},
     "output_type": "execute_result"
    }
   ],
   "source": [
    "cats.head()"
   ]
  },
  {
   "cell_type": "code",
   "execution_count": 27,
   "id": "a2c221e4",
   "metadata": {
    "ExecuteTime": {
     "end_time": "2021-11-01T09:23:54.108101Z",
     "start_time": "2021-11-01T09:23:54.012146Z"
    }
   },
   "outputs": [
    {
     "data": {
      "text/plain": [
       "0"
      ]
     },
     "execution_count": 27,
     "metadata": {},
     "output_type": "execute_result"
    }
   ],
   "source": [
    "# drop those values\n",
    "cats = cats.dropna()\n",
    "\n",
    "# recheck\n",
    "cats.isna().sum().sum()"
   ]
  },
  {
   "cell_type": "markdown",
   "id": "35679a13",
   "metadata": {},
   "source": [
    "### Analysis"
   ]
  },
  {
   "cell_type": "markdown",
   "id": "7a0ca42f",
   "metadata": {},
   "source": [
    "We apply the association rules to the features selected at the previous step."
   ]
  },
  {
   "cell_type": "markdown",
   "id": "839dd32e",
   "metadata": {},
   "source": [
    "We will use [Efficient Apriori](https://pypi.org/project/efficient-apriori/) to generate association rules."
   ]
  },
  {
   "cell_type": "code",
   "execution_count": 28,
   "id": "8dd1e0c3",
   "metadata": {
    "ExecuteTime": {
     "end_time": "2021-11-01T09:23:54.117896Z",
     "start_time": "2021-11-01T09:23:54.109798Z"
    }
   },
   "outputs": [],
   "source": [
    "# import efficient_apriori for for association analysis\n",
    "# install it with\n",
    "# !pip install efficient-apriori\n",
    "\n",
    "from efficient_apriori import apriori"
   ]
  },
  {
   "cell_type": "code",
   "execution_count": 29,
   "id": "17f993ad",
   "metadata": {
    "ExecuteTime": {
     "end_time": "2021-11-01T09:23:54.533297Z",
     "start_time": "2021-11-01T09:23:54.119118Z"
    }
   },
   "outputs": [
    {
     "data": {
      "text/html": [
       "<div>\n",
       "<style scoped>\n",
       "    .dataframe tbody tr th:only-of-type {\n",
       "        vertical-align: middle;\n",
       "    }\n",
       "\n",
       "    .dataframe tbody tr th {\n",
       "        vertical-align: top;\n",
       "    }\n",
       "\n",
       "    .dataframe thead th {\n",
       "        text-align: right;\n",
       "    }\n",
       "</style>\n",
       "<table border=\"1\" class=\"dataframe\">\n",
       "  <thead>\n",
       "    <tr style=\"text-align: right;\">\n",
       "      <th></th>\n",
       "      <th>Item</th>\n",
       "      <th>Count</th>\n",
       "      <th>Percentage</th>\n",
       "    </tr>\n",
       "  </thead>\n",
       "  <tbody>\n",
       "    <tr>\n",
       "      <th>14</th>\n",
       "      <td>[1500, 2000]</td>\n",
       "      <td>1</td>\n",
       "      <td>3.547118e-07</td>\n",
       "    </tr>\n",
       "    <tr>\n",
       "      <th>19</th>\n",
       "      <td>[40, 50]</td>\n",
       "      <td>2</td>\n",
       "      <td>7.094236e-07</td>\n",
       "    </tr>\n",
       "    <tr>\n",
       "      <th>11</th>\n",
       "      <td>[1.5, 2]</td>\n",
       "      <td>59</td>\n",
       "      <td>2.092800e-05</td>\n",
       "    </tr>\n",
       "    <tr>\n",
       "      <th>15</th>\n",
       "      <td>[20, 30]</td>\n",
       "      <td>173</td>\n",
       "      <td>6.136514e-05</td>\n",
       "    </tr>\n",
       "    <tr>\n",
       "      <th>10</th>\n",
       "      <td>[0.5, 1.0]</td>\n",
       "      <td>12762</td>\n",
       "      <td>4.526832e-03</td>\n",
       "    </tr>\n",
       "    <tr>\n",
       "      <th>16</th>\n",
       "      <td>[20000, 40000]</td>\n",
       "      <td>15206</td>\n",
       "      <td>5.393748e-03</td>\n",
       "    </tr>\n",
       "    <tr>\n",
       "      <th>21</th>\n",
       "      <td>[500, 750]</td>\n",
       "      <td>20455</td>\n",
       "      <td>7.255630e-03</td>\n",
       "    </tr>\n",
       "    <tr>\n",
       "      <th>20</th>\n",
       "      <td>[40000, 60000]</td>\n",
       "      <td>26789</td>\n",
       "      <td>9.502375e-03</td>\n",
       "    </tr>\n",
       "    <tr>\n",
       "      <th>22</th>\n",
       "      <td>[60000, 80000]</td>\n",
       "      <td>27107</td>\n",
       "      <td>9.615173e-03</td>\n",
       "    </tr>\n",
       "    <tr>\n",
       "      <th>13</th>\n",
       "      <td>[1000, 5000]</td>\n",
       "      <td>43479</td>\n",
       "      <td>1.542251e-02</td>\n",
       "    </tr>\n",
       "    <tr>\n",
       "      <th>23</th>\n",
       "      <td>[750, 1000]</td>\n",
       "      <td>57304</td>\n",
       "      <td>2.032641e-02</td>\n",
       "    </tr>\n",
       "    <tr>\n",
       "      <th>5</th>\n",
       "      <td>[0, 10]</td>\n",
       "      <td>60402</td>\n",
       "      <td>2.142530e-02</td>\n",
       "    </tr>\n",
       "    <tr>\n",
       "      <th>1</th>\n",
       "      <td>1</td>\n",
       "      <td>63973</td>\n",
       "      <td>2.269198e-02</td>\n",
       "    </tr>\n",
       "    <tr>\n",
       "      <th>18</th>\n",
       "      <td>[30, 40]</td>\n",
       "      <td>83441</td>\n",
       "      <td>2.959751e-02</td>\n",
       "    </tr>\n",
       "    <tr>\n",
       "      <th>17</th>\n",
       "      <td>[250, 500]</td>\n",
       "      <td>108016</td>\n",
       "      <td>3.831455e-02</td>\n",
       "    </tr>\n",
       "    <tr>\n",
       "      <th>2</th>\n",
       "      <td>Attack</td>\n",
       "      <td>115628</td>\n",
       "      <td>4.101462e-02</td>\n",
       "    </tr>\n",
       "    <tr>\n",
       "      <th>12</th>\n",
       "      <td>[10, 20]</td>\n",
       "      <td>137901</td>\n",
       "      <td>4.891511e-02</td>\n",
       "    </tr>\n",
       "    <tr>\n",
       "      <th>3</th>\n",
       "      <td>Benign</td>\n",
       "      <td>166291</td>\n",
       "      <td>5.898538e-02</td>\n",
       "    </tr>\n",
       "    <tr>\n",
       "      <th>4</th>\n",
       "      <td>[-1, 20000]</td>\n",
       "      <td>239240</td>\n",
       "      <td>8.486125e-02</td>\n",
       "    </tr>\n",
       "    <tr>\n",
       "      <th>7</th>\n",
       "      <td>[0, 20000]</td>\n",
       "      <td>255496</td>\n",
       "      <td>9.062745e-02</td>\n",
       "    </tr>\n",
       "    <tr>\n",
       "      <th>9</th>\n",
       "      <td>[0.0, 0.5]</td>\n",
       "      <td>269098</td>\n",
       "      <td>9.545224e-02</td>\n",
       "    </tr>\n",
       "    <tr>\n",
       "      <th>6</th>\n",
       "      <td>[0, 1]</td>\n",
       "      <td>281919</td>\n",
       "      <td>1.000000e-01</td>\n",
       "    </tr>\n",
       "    <tr>\n",
       "      <th>8</th>\n",
       "      <td>[0, 250]</td>\n",
       "      <td>334583</td>\n",
       "      <td>1.186805e-01</td>\n",
       "    </tr>\n",
       "    <tr>\n",
       "      <th>0</th>\n",
       "      <td>0</td>\n",
       "      <td>499865</td>\n",
       "      <td>1.773080e-01</td>\n",
       "    </tr>\n",
       "  </tbody>\n",
       "</table>\n",
       "</div>"
      ],
      "text/plain": [
       "              Item   Count    Percentage\n",
       "14    [1500, 2000]       1  3.547118e-07\n",
       "19        [40, 50]       2  7.094236e-07\n",
       "11        [1.5, 2]      59  2.092800e-05\n",
       "15        [20, 30]     173  6.136514e-05\n",
       "10      [0.5, 1.0]   12762  4.526832e-03\n",
       "16  [20000, 40000]   15206  5.393748e-03\n",
       "21      [500, 750]   20455  7.255630e-03\n",
       "20  [40000, 60000]   26789  9.502375e-03\n",
       "22  [60000, 80000]   27107  9.615173e-03\n",
       "13    [1000, 5000]   43479  1.542251e-02\n",
       "23     [750, 1000]   57304  2.032641e-02\n",
       "5          [0, 10]   60402  2.142530e-02\n",
       "1                1   63973  2.269198e-02\n",
       "18        [30, 40]   83441  2.959751e-02\n",
       "17      [250, 500]  108016  3.831455e-02\n",
       "2           Attack  115628  4.101462e-02\n",
       "12        [10, 20]  137901  4.891511e-02\n",
       "3           Benign  166291  5.898538e-02\n",
       "4      [-1, 20000]  239240  8.486125e-02\n",
       "7       [0, 20000]  255496  9.062745e-02\n",
       "9       [0.0, 0.5]  269098  9.545224e-02\n",
       "6           [0, 1]  281919  1.000000e-01\n",
       "8         [0, 250]  334583  1.186805e-01\n",
       "0                0  499865  1.773080e-01"
      ]
     },
     "execution_count": 29,
     "metadata": {},
     "output_type": "execute_result"
    }
   ],
   "source": [
    "# Put all elements into a single list\n",
    "txns=cats.values.reshape(-1).tolist()\n",
    "\n",
    "# Create a dataframe using this single list and add a column for count\n",
    "df_list=pd.DataFrame(txns)\n",
    "df_list['Count']=1\n",
    "\n",
    "# Group by items and rename columns\n",
    "df_list=df_list.groupby(by=[0], as_index=False).count().sort_values(by=['Count'], ascending=True) # count\n",
    "df_list['Percentage'] = (df_list['Count'] / df_list['Count'].sum()) # percentage\n",
    "df_list=df_list.rename(columns={0 : 'Item'})\n",
    "\n",
    "# Show dataframe\n",
    "df_list"
   ]
  },
  {
   "cell_type": "code",
   "execution_count": 30,
   "id": "57746ebd",
   "metadata": {
    "ExecuteTime": {
     "end_time": "2021-11-01T09:23:56.587796Z",
     "start_time": "2021-11-01T09:23:54.535202Z"
    }
   },
   "outputs": [
    {
     "data": {
      "image/png": "[encoded data removed]",
      "text/plain": [
       "<Figure size 4800x6000 with 1 Axes>"
      ]
     },
     "metadata": {
      "needs_background": "light"
     },
     "output_type": "display_data"
    }
   ],
   "source": [
    "# Draw a horizontal bar chart\n",
    "plt.figure(figsize=(16,20), dpi=300)\n",
    "plt.ylabel('Item Name')\n",
    "plt.xlabel('Count')\n",
    "plt.barh(df_list['Item'], width=df_list['Count'], color='black', height=0.8)\n",
    "plt.margins(0.01)   \n",
    "plt.show()"
   ]
  },
  {
   "cell_type": "code",
   "execution_count": 31,
   "id": "0fde7b05",
   "metadata": {
    "ExecuteTime": {
     "end_time": "2021-11-01T09:24:13.501071Z",
     "start_time": "2021-11-01T09:23:56.589517Z"
    }
   },
   "outputs": [],
   "source": [
    "# Create a list of lists from a dataframe\n",
    "txns2=cats.stack().groupby(level=0).apply(list).tolist()"
   ]
  },
  {
   "cell_type": "code",
   "execution_count": 32,
   "id": "2f082344",
   "metadata": {
    "ExecuteTime": {
     "end_time": "2021-11-01T09:25:19.573904Z",
     "start_time": "2021-11-01T09:24:13.502487Z"
    }
   },
   "outputs": [
    {
     "name": "stdout",
     "output_type": "stream",
     "text": [
      "Generating itemsets.\n",
      " Counting itemsets of length 1.\n",
      "  Found 24 candidate itemsets of length 1.\n",
      "  Found 20 large itemsets of length 1.\n",
      " Counting itemsets of length 2.\n",
      "  Found 190 candidate itemsets of length 2.\n",
      "  Found 126 large itemsets of length 2.\n",
      " Counting itemsets of length 3.\n",
      "  Found 406 candidate itemsets of length 3.\n",
      "  Found 390 large itemsets of length 3.\n",
      " Counting itemsets of length 4.\n",
      "  Found 700 candidate itemsets of length 4.\n",
      "  Found 700 large itemsets of length 4.\n",
      " Counting itemsets of length 5.\n",
      "  Found 781 candidate itemsets of length 5.\n",
      "  Found 781 large itemsets of length 5.\n",
      " Counting itemsets of length 6.\n",
      "  Found 551 candidate itemsets of length 6.\n",
      "  Found 551 large itemsets of length 6.\n",
      " Counting itemsets of length 7.\n",
      "  Found 239 candidate itemsets of length 7.\n",
      "  Found 239 large itemsets of length 7.\n",
      " Counting itemsets of length 8.\n",
      "  Found 58 candidate itemsets of length 8.\n",
      "  Found 58 large itemsets of length 8.\n",
      "Itemset generation terminated.\n",
      "\n",
      "Generating rules from itemsets.\n",
      " Generating rules of size 2.\n",
      " Generating rules of size 3.\n",
      " Generating rules of size 4.\n",
      " Generating rules of size 5.\n",
      " Generating rules of size 6.\n",
      " Generating rules of size 7.\n",
      " Generating rules of size 8.\n",
      "Rule generation terminated.\n",
      "\n"
     ]
    }
   ],
   "source": [
    "itemsets, rules = apriori(txns2, min_support=0.03, min_confidence=0.2, verbosity=1)"
   ]
  },
  {
   "cell_type": "code",
   "execution_count": 33,
   "id": "00e362f1",
   "metadata": {
    "ExecuteTime": {
     "end_time": "2021-11-01T09:25:19.614125Z",
     "start_time": "2021-11-01T09:25:19.576093Z"
    }
   },
   "outputs": [],
   "source": [
    "# we filter the rules that have at least 5 elements on the left hand side\n",
    "# and one element (the class) on the right hand side\n",
    "rules_rhs = filter(lambda rule: len(rule.lhs) >= 5 and len(rule.rhs) == 1, rules)\n",
    "\n",
    "# create lists to append rules for the benign and attack classes\n",
    "benign_rules, attack_rules = list(), list()\n",
    "for rule in sorted(rules_rhs, key=lambda rule: rule.lift):\n",
    "    k = rule.rhs[0]  \n",
    "    if k == \"Attack\":\n",
    "        attack_rules.append((rule.lhs, \"-->\" ,rule.rhs))\n",
    "    elif k == \"Benign\":\n",
    "        benign_rules.append((rule.lhs, \"-->\" ,rule.rhs))"
   ]
  },
  {
   "cell_type": "code",
   "execution_count": 34,
   "id": "b8a72284",
   "metadata": {
    "ExecuteTime": {
     "end_time": "2021-11-01T09:25:19.626324Z",
     "start_time": "2021-11-01T09:25:19.616559Z"
    }
   },
   "outputs": [
    {
     "data": {
      "text/plain": [
       "[(('0', '[-1, 20000]', '[0, 1]', '[0, 250]', '[0.0, 0.5]'),\n",
       "  '-->',\n",
       "  ('Attack',)),\n",
       " (('0', '[0, 1]', '[0, 20000]', '[0, 250]', '[0.0, 0.5]'), '-->', ('Attack',)),\n",
       " (('0', '[-1, 20000]', '[0, 20000]', '[0, 250]', '[0.0, 0.5]'),\n",
       "  '-->',\n",
       "  ('Attack',))]"
      ]
     },
     "execution_count": 34,
     "metadata": {},
     "output_type": "execute_result"
    }
   ],
   "source": [
    "attack_rules[:3]"
   ]
  },
  {
   "cell_type": "code",
   "execution_count": 35,
   "id": "ee799512",
   "metadata": {
    "ExecuteTime": {
     "end_time": "2021-11-01T09:25:19.634427Z",
     "start_time": "2021-11-01T09:25:19.628677Z"
    }
   },
   "outputs": [
    {
     "data": {
      "text/plain": [
       "[(('[-1, 20000]', '[0, 1]', '[0, 20000]', '[0.0, 0.5]', '[250, 500]'),\n",
       "  '-->',\n",
       "  ('Benign',)),\n",
       " (('0', '[-1, 20000]', '[0, 1]', '[0, 20000]', '[250, 500]'),\n",
       "  '-->',\n",
       "  ('Benign',)),\n",
       " (('0', '[-1, 20000]', '[0, 20000]', '[0.0, 0.5]', '[250, 500]'),\n",
       "  '-->',\n",
       "  ('Benign',))]"
      ]
     },
     "execution_count": 35,
     "metadata": {},
     "output_type": "execute_result"
    }
   ],
   "source": [
    "benign_rules[:3]"
   ]
  },
  {
   "cell_type": "markdown",
   "id": "a3f58ba3",
   "metadata": {},
   "source": [
    "## Predictive Model"
   ]
  },
  {
   "cell_type": "markdown",
   "id": "eb30d909",
   "metadata": {},
   "source": [
    "We build the predictive model on the entire data set, without feature selection."
   ]
  },
  {
   "cell_type": "code",
   "execution_count": 36,
   "id": "697fe0a6",
   "metadata": {
    "ExecuteTime": {
     "end_time": "2021-11-01T09:25:19.655896Z",
     "start_time": "2021-11-01T09:25:19.636730Z"
    }
   },
   "outputs": [
    {
     "data": {
      "text/html": [
       "<style>#sk-d488d70b-c7c2-47ad-9fcd-94d3660763f5 {color: black;background-color: white;}#sk-d488d70b-c7c2-47ad-9fcd-94d3660763f5 pre{padding: 0;}#sk-d488d70b-c7c2-47ad-9fcd-94d3660763f5 div.sk-toggleable {background-color: white;}#sk-d488d70b-c7c2-47ad-9fcd-94d3660763f5 label.sk-toggleable__label {cursor: pointer;display: block;width: 100%;margin-bottom: 0;padding: 0.2em 0.3em;box-sizing: border-box;text-align: center;}#sk-d488d70b-c7c2-47ad-9fcd-94d3660763f5 div.sk-toggleable__content {max-height: 0;max-width: 0;overflow: hidden;text-align: left;background-color: #f0f8ff;}#sk-d488d70b-c7c2-47ad-9fcd-94d3660763f5 div.sk-toggleable__content pre {margin: 0.2em;color: black;border-radius: 0.25em;background-color: #f0f8ff;}#sk-d488d70b-c7c2-47ad-9fcd-94d3660763f5 input.sk-toggleable__control:checked~div.sk-toggleable__content {max-height: 200px;max-width: 100%;overflow: auto;}#sk-d488d70b-c7c2-47ad-9fcd-94d3660763f5 div.sk-estimator input.sk-toggleable__control:checked~label.sk-toggleable__label {background-color: #d4ebff;}#sk-d488d70b-c7c2-47ad-9fcd-94d3660763f5 div.sk-label input.sk-toggleable__control:checked~label.sk-toggleable__label {background-color: #d4ebff;}#sk-d488d70b-c7c2-47ad-9fcd-94d3660763f5 input.sk-hidden--visually {border: 0;clip: rect(1px 1px 1px 1px);clip: rect(1px, 1px, 1px, 1px);height: 1px;margin: -1px;overflow: hidden;padding: 0;position: absolute;width: 1px;}#sk-d488d70b-c7c2-47ad-9fcd-94d3660763f5 div.sk-estimator {font-family: monospace;background-color: #f0f8ff;margin: 0.25em 0.25em;border: 1px dotted black;border-radius: 0.25em;box-sizing: border-box;}#sk-d488d70b-c7c2-47ad-9fcd-94d3660763f5 div.sk-estimator:hover {background-color: #d4ebff;}#sk-d488d70b-c7c2-47ad-9fcd-94d3660763f5 div.sk-parallel-item::after {content: \"\";width: 100%;border-bottom: 1px solid gray;flex-grow: 1;}#sk-d488d70b-c7c2-47ad-9fcd-94d3660763f5 div.sk-label:hover label.sk-toggleable__label {background-color: #d4ebff;}#sk-d488d70b-c7c2-47ad-9fcd-94d3660763f5 div.sk-serial::before {content: \"\";position: absolute;border-left: 1px solid gray;box-sizing: border-box;top: 2em;bottom: 0;left: 50%;}#sk-d488d70b-c7c2-47ad-9fcd-94d3660763f5 div.sk-serial {display: flex;flex-direction: column;align-items: center;background-color: white;}#sk-d488d70b-c7c2-47ad-9fcd-94d3660763f5 div.sk-item {z-index: 1;}#sk-d488d70b-c7c2-47ad-9fcd-94d3660763f5 div.sk-parallel {display: flex;align-items: stretch;justify-content: center;background-color: white;}#sk-d488d70b-c7c2-47ad-9fcd-94d3660763f5 div.sk-parallel-item {display: flex;flex-direction: column;position: relative;background-color: white;}#sk-d488d70b-c7c2-47ad-9fcd-94d3660763f5 div.sk-parallel-item:first-child::after {align-self: flex-end;width: 50%;}#sk-d488d70b-c7c2-47ad-9fcd-94d3660763f5 div.sk-parallel-item:last-child::after {align-self: flex-start;width: 50%;}#sk-d488d70b-c7c2-47ad-9fcd-94d3660763f5 div.sk-parallel-item:only-child::after {width: 0;}#sk-d488d70b-c7c2-47ad-9fcd-94d3660763f5 div.sk-dashed-wrapped {border: 1px dashed gray;margin: 0.2em;box-sizing: border-box;padding-bottom: 0.1em;background-color: white;position: relative;}#sk-d488d70b-c7c2-47ad-9fcd-94d3660763f5 div.sk-label label {font-family: monospace;font-weight: bold;background-color: white;display: inline-block;line-height: 1.2em;}#sk-d488d70b-c7c2-47ad-9fcd-94d3660763f5 div.sk-label-container {position: relative;z-index: 2;text-align: center;}#sk-d488d70b-c7c2-47ad-9fcd-94d3660763f5 div.sk-container {display: inline-block;position: relative;}</style><div id=\"sk-d488d70b-c7c2-47ad-9fcd-94d3660763f5\" class\"sk-top-container\"><div class=\"sk-container\"><div class=\"sk-item sk-dashed-wrapped\"><div class=\"sk-label-container\"><div class=\"sk-label sk-toggleable\"><input class=\"sk-toggleable__control sk-hidden--visually\" id=\"ea335f62-efb2-41cc-b9ce-6b48cbd2f729\" type=\"checkbox\" ><label class=\"sk-toggleable__label\" for=\"ea335f62-efb2-41cc-b9ce-6b48cbd2f729\">Pipeline</label><div class=\"sk-toggleable__content\"><pre>Pipeline(steps=[('standardscaler', StandardScaler()),\n",
       "                ('xgbclassifier',\n",
       "                 XGBClassifier(base_score=None, booster=None,\n",
       "                               colsample_bylevel=None, colsample_bynode=None,\n",
       "                               colsample_bytree=None, eval_metric='logloss',\n",
       "                               gamma=None, gpu_id=None, importance_type='gain',\n",
       "                               interaction_constraints=None, learning_rate=None,\n",
       "                               max_delta_step=None, max_depth=None,\n",
       "                               min_child_weight=None, missing=nan,\n",
       "                               monotone_constraints=None, n_estimators=100,\n",
       "                               n_jobs=None, num_parallel_tree=None,\n",
       "                               random_state=None, reg_alpha=None,\n",
       "                               reg_lambda=None, scale_pos_weight=None,\n",
       "                               subsample=None, tree_method=None,\n",
       "                               use_label_encoder=False,\n",
       "                               validate_parameters=None, verbosity=None))])</pre></div></div></div><div class=\"sk-serial\"><div class=\"sk-item\"><div class=\"sk-estimator sk-toggleable\"><input class=\"sk-toggleable__control sk-hidden--visually\" id=\"d87e024a-99b9-4921-860e-f29817c44a37\" type=\"checkbox\" ><label class=\"sk-toggleable__label\" for=\"d87e024a-99b9-4921-860e-f29817c44a37\">StandardScaler</label><div class=\"sk-toggleable__content\"><pre>StandardScaler()</pre></div></div></div><div class=\"sk-item\"><div class=\"sk-estimator sk-toggleable\"><input class=\"sk-toggleable__control sk-hidden--visually\" id=\"65bc78a7-99c1-4366-8639-513a7fabd122\" type=\"checkbox\" ><label class=\"sk-toggleable__label\" for=\"65bc78a7-99c1-4366-8639-513a7fabd122\">XGBClassifier</label><div class=\"sk-toggleable__content\"><pre>XGBClassifier(base_score=None, booster=None, colsample_bylevel=None,\n",
       "              colsample_bynode=None, colsample_bytree=None,\n",
       "              eval_metric='logloss', gamma=None, gpu_id=None,\n",
       "              importance_type='gain', interaction_constraints=None,\n",
       "              learning_rate=None, max_delta_step=None, max_depth=None,\n",
       "              min_child_weight=None, missing=nan, monotone_constraints=None,\n",
       "              n_estimators=100, n_jobs=None, num_parallel_tree=None,\n",
       "              random_state=None, reg_alpha=None, reg_lambda=None,\n",
       "              scale_pos_weight=None, subsample=None, tree_method=None,\n",
       "              use_label_encoder=False, validate_parameters=None,\n",
       "              verbosity=None)</pre></div></div></div></div></div></div></div>"
      ],
      "text/plain": [
       "Pipeline(steps=[('standardscaler', StandardScaler()),\n",
       "                ('xgbclassifier',\n",
       "                 XGBClassifier(base_score=None, booster=None,\n",
       "                               colsample_bylevel=None, colsample_bynode=None,\n",
       "                               colsample_bytree=None, eval_metric='logloss',\n",
       "                               gamma=None, gpu_id=None, importance_type='gain',\n",
       "                               interaction_constraints=None, learning_rate=None,\n",
       "                               max_delta_step=None, max_depth=None,\n",
       "                               min_child_weight=None, missing=nan,\n",
       "                               monotone_constraints=None, n_estimators=100,\n",
       "                               n_jobs=None, num_parallel_tree=None,\n",
       "                               random_state=None, reg_alpha=None,\n",
       "                               reg_lambda=None, scale_pos_weight=None,\n",
       "                               subsample=None, tree_method=None,\n",
       "                               use_label_encoder=False,\n",
       "                               validate_parameters=None, verbosity=None))])"
      ]
     },
     "execution_count": 36,
     "metadata": {},
     "output_type": "execute_result"
    }
   ],
   "source": [
    "xgb = XGBClassifier(use_label_encoder=False, eval_metric='logloss')\n",
    "\n",
    "pipeline_xgb = make_pipeline(StandardScaler(), xgb)\n",
    "\n",
    "scoring = {'f1': 'f1_macro', 'precision': 'precision_macro', 'accuracy': 'accuracy',\n",
    "           'recall': 'recall_macro', 'roc_auc': 'roc_auc'}\n",
    "\n",
    "pipeline_xgb"
   ]
  },
  {
   "cell_type": "code",
   "execution_count": 37,
   "id": "5e2bc344",
   "metadata": {
    "ExecuteTime": {
     "end_time": "2021-11-01T09:27:37.797157Z",
     "start_time": "2021-11-01T09:25:19.658143Z"
    }
   },
   "outputs": [],
   "source": [
    "pm_results = cross_validate(pipeline_xgb, X, y, cv=cv, scoring=scoring)"
   ]
  },
  {
   "cell_type": "code",
   "execution_count": 38,
   "id": "aee3ddf4",
   "metadata": {
    "ExecuteTime": {
     "end_time": "2021-11-01T09:27:37.824799Z",
     "start_time": "2021-11-01T09:27:37.799713Z"
    }
   },
   "outputs": [
    {
     "data": {
      "text/html": [
       "<div>\n",
       "<style scoped>\n",
       "    .dataframe tbody tr th:only-of-type {\n",
       "        vertical-align: middle;\n",
       "    }\n",
       "\n",
       "    .dataframe tbody tr th {\n",
       "        vertical-align: top;\n",
       "    }\n",
       "\n",
       "    .dataframe thead th {\n",
       "        text-align: right;\n",
       "    }\n",
       "</style>\n",
       "<table border=\"1\" class=\"dataframe\">\n",
       "  <thead>\n",
       "    <tr style=\"text-align: right;\">\n",
       "      <th></th>\n",
       "      <th>fit_time</th>\n",
       "      <th>score_time</th>\n",
       "      <th>test_f1</th>\n",
       "      <th>test_precision</th>\n",
       "      <th>test_accuracy</th>\n",
       "      <th>test_recall</th>\n",
       "      <th>test_roc_auc</th>\n",
       "    </tr>\n",
       "  </thead>\n",
       "  <tbody>\n",
       "    <tr>\n",
       "      <th>0</th>\n",
       "      <td>24.707968</td>\n",
       "      <td>0.400978</td>\n",
       "      <td>0.999944</td>\n",
       "      <td>0.999944</td>\n",
       "      <td>0.999944</td>\n",
       "      <td>0.999944</td>\n",
       "      <td>1.000000</td>\n",
       "    </tr>\n",
       "    <tr>\n",
       "      <th>1</th>\n",
       "      <td>26.079097</td>\n",
       "      <td>0.374879</td>\n",
       "      <td>0.999899</td>\n",
       "      <td>0.999899</td>\n",
       "      <td>0.999899</td>\n",
       "      <td>0.999899</td>\n",
       "      <td>0.999981</td>\n",
       "    </tr>\n",
       "    <tr>\n",
       "      <th>2</th>\n",
       "      <td>26.189501</td>\n",
       "      <td>0.379088</td>\n",
       "      <td>0.999944</td>\n",
       "      <td>0.999944</td>\n",
       "      <td>0.999944</td>\n",
       "      <td>0.999944</td>\n",
       "      <td>1.000000</td>\n",
       "    </tr>\n",
       "    <tr>\n",
       "      <th>3</th>\n",
       "      <td>29.419180</td>\n",
       "      <td>0.445254</td>\n",
       "      <td>0.999899</td>\n",
       "      <td>0.999899</td>\n",
       "      <td>0.999899</td>\n",
       "      <td>0.999899</td>\n",
       "      <td>1.000000</td>\n",
       "    </tr>\n",
       "    <tr>\n",
       "      <th>4</th>\n",
       "      <td>29.455176</td>\n",
       "      <td>0.498405</td>\n",
       "      <td>0.999933</td>\n",
       "      <td>0.999933</td>\n",
       "      <td>0.999933</td>\n",
       "      <td>0.999933</td>\n",
       "      <td>0.999998</td>\n",
       "    </tr>\n",
       "    <tr>\n",
       "      <th>5</th>\n",
       "      <td>27.170185</td>\n",
       "      <td>0.419721</td>\n",
       "      <td>0.999924</td>\n",
       "      <td>0.999924</td>\n",
       "      <td>0.999924</td>\n",
       "      <td>0.999924</td>\n",
       "      <td>0.999996</td>\n",
       "    </tr>\n",
       "    <tr>\n",
       "      <th>6</th>\n",
       "      <td>1.923221</td>\n",
       "      <td>0.046597</td>\n",
       "      <td>0.000021</td>\n",
       "      <td>0.000021</td>\n",
       "      <td>0.000021</td>\n",
       "      <td>0.000021</td>\n",
       "      <td>0.000007</td>\n",
       "    </tr>\n",
       "  </tbody>\n",
       "</table>\n",
       "</div>"
      ],
      "text/plain": [
       "    fit_time  score_time   test_f1  test_precision  test_accuracy  \\\n",
       "0  24.707968    0.400978  0.999944        0.999944       0.999944   \n",
       "1  26.079097    0.374879  0.999899        0.999899       0.999899   \n",
       "2  26.189501    0.379088  0.999944        0.999944       0.999944   \n",
       "3  29.419180    0.445254  0.999899        0.999899       0.999899   \n",
       "4  29.455176    0.498405  0.999933        0.999933       0.999933   \n",
       "5  27.170185    0.419721  0.999924        0.999924       0.999924   \n",
       "6   1.923221    0.046597  0.000021        0.000021       0.000021   \n",
       "\n",
       "   test_recall  test_roc_auc  \n",
       "0     0.999944      1.000000  \n",
       "1     0.999899      0.999981  \n",
       "2     0.999944      1.000000  \n",
       "3     0.999899      1.000000  \n",
       "4     0.999933      0.999998  \n",
       "5     0.999924      0.999996  \n",
       "6     0.000021      0.000007  "
      ]
     },
     "execution_count": 38,
     "metadata": {},
     "output_type": "execute_result"
    }
   ],
   "source": [
    "# rows 5 & 6 are the averages and standard deviations of each column\n",
    "append_avgs(pm_results)"
   ]
  },
  {
   "cell_type": "markdown",
   "id": "5d8f5060",
   "metadata": {},
   "source": [
    "## Anomaly Detection"
   ]
  },
  {
   "cell_type": "code",
   "execution_count": 39,
   "id": "e2018fb5",
   "metadata": {
    "ExecuteTime": {
     "end_time": "2021-11-01T09:28:12.170198Z",
     "start_time": "2021-11-01T09:27:37.827903Z"
    }
   },
   "outputs": [
    {
     "name": "stdout",
     "output_type": "stream",
     "text": [
      "The MAE before IF is:  2.238518637906179e-06\n"
     ]
    }
   ],
   "source": [
    "# fit the XGB on the original data set\n",
    "xgb.fit(X,y)\n",
    "\n",
    "mae_before = mean_absolute_error(xgb.predict(X),y)\n",
    "print(\"The MAE before IF is: \", mae_before)"
   ]
  },
  {
   "cell_type": "code",
   "execution_count": 40,
   "id": "3a8c07ec",
   "metadata": {
    "ExecuteTime": {
     "end_time": "2021-11-01T09:28:51.794071Z",
     "start_time": "2021-11-01T09:28:12.172914Z"
    }
   },
   "outputs": [],
   "source": [
    "# define the Isolation Forest\n",
    "iso = IsolationForest(contamination='auto',random_state=42)\n",
    "\n",
    "# fit the data to IF\n",
    "y_pred = iso.fit_predict(X, y)\n",
    "\n",
    "# filter out predictions values = -1 \n",
    "# as they are considered as anomalies\n",
    "mask = y_pred != -1\n",
    "X_if, y_if = X[mask], y[mask]"
   ]
  },
  {
   "cell_type": "code",
   "execution_count": 41,
   "id": "2f4410d8",
   "metadata": {
    "ExecuteTime": {
     "end_time": "2021-11-01T09:29:14.517343Z",
     "start_time": "2021-11-01T09:28:51.795983Z"
    }
   },
   "outputs": [
    {
     "name": "stdout",
     "output_type": "stream",
     "text": [
      "The MAE after IF is:  0.0005641066967523572\n"
     ]
    }
   ],
   "source": [
    "# fit the XGB on the new data set\n",
    "xgb.fit(X_if, y_if)\n",
    "\n",
    "# compute the MAE\n",
    "mae_after = mean_absolute_error(xgb.predict(X),y)\n",
    "print(\"The MAE after IF is: \", mae_after)"
   ]
  },
  {
   "cell_type": "code",
   "execution_count": 42,
   "id": "1b16ab79",
   "metadata": {
    "ExecuteTime": {
     "end_time": "2021-11-01T09:29:14.525001Z",
     "start_time": "2021-11-01T09:29:14.520358Z"
    }
   },
   "outputs": [
    {
     "name": "stdout",
     "output_type": "stream",
     "text": [
      "-0.000561868178114451\n"
     ]
    }
   ],
   "source": [
    "# compute the difference between the MAEs before and after IF\n",
    "\n",
    "print(mae_before - mae_after)"
   ]
  },
  {
   "cell_type": "markdown",
   "id": "6b4d0959",
   "metadata": {},
   "source": [
    "The difference is a negative number, therefore applying the IF increased the MAE (decreased the performance) in this case."
   ]
  },
  {
   "cell_type": "code",
   "execution_count": null,
   "id": "412cd765",
   "metadata": {},
   "outputs": [],
   "source": []
  }
 ],
 "metadata": {
  "kernelspec": {
   "display_name": "Python 3",
   "language": "python",
   "name": "python3"
  },
  "language_info": {
   "codemirror_mode": {
    "name": "ipython",
    "version": 3
   },
   "file_extension": ".py",
   "mimetype": "text/x-python",
   "name": "python",
   "nbconvert_exporter": "python",
   "pygments_lexer": "ipython3",
   "version": "3.6.13"
  },
  "toc": {
   "base_numbering": 1,
   "nav_menu": {},
   "number_sections": true,
   "sideBar": true,
   "skip_h1_title": false,
   "title_cell": "Table of Contents",
   "title_sidebar": "Contents",
   "toc_cell": false,
   "toc_position": {},
   "toc_section_display": true,
   "toc_window_display": false
  }
 },
 "nbformat": 4,
 "nbformat_minor": 5
}
