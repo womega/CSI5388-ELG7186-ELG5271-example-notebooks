{
 "cells": [
  {
   "cell_type": "markdown",
   "metadata": {},
   "source": [
    "# Anomaly Detection in Practice"
   ]
  },
  {
   "cell_type": "code",
   "execution_count": 1,
   "metadata": {},
   "outputs": [],
   "source": [
    "import pandas as pd\n",
    "import numpy as np\n",
    "from collections import Counter\n",
    "from sklearn.model_selection import train_test_split\n",
    "from sklearn.tree import  DecisionTreeClassifier\n",
    "from sklearn.metrics import f1_score, roc_auc_score\n",
    "from sklearn.compose import make_column_selector\n",
    "from sklearn.preprocessing import LabelEncoder, StandardScaler\n",
    "\n",
    "np.random.seed(42)\n",
    "\n",
    "# import the outlier detection toolkit\n",
    "# install it with \n",
    "# ! pip install --upgrade pyod \n",
    "import pyod"
   ]
  },
  {
   "cell_type": "code",
   "execution_count": 2,
   "metadata": {},
   "outputs": [],
   "source": [
    "# load the data set \n",
    "# This is a 10% stratified subsample of the data from the 1999 ACM KDD Cup\n",
    "# For more info, please see https://www.openml.org/d/1113\n",
    "\n",
    "url = 'https://datahub.io/machine-learning/kddcup99/r/kddcup99.csv'\n",
    "\n",
    "kdd = pd.read_csv(url)\n"
   ]
  },
  {
   "cell_type": "code",
   "execution_count": 3,
   "metadata": {},
   "outputs": [
    {
     "name": "stdout",
     "output_type": "stream",
     "text": [
      "Counter({0: 9598, 1: 125})\n"
     ]
    }
   ],
   "source": [
    "ds = kdd[kdd.service == 'smtp'].sample(frac=1).reset_index(drop=True)\n",
    "\n",
    "label_dict = {\n",
    "    'normal': 0,\n",
    "    'neptune': 1,\n",
    "    'satan': 1,\n",
    "    'portsweep': 1,\n",
    "    'ipsweep': 1\n",
    "}\n",
    "ds['label'] = [label_dict[item] for item in ds['label']]\n",
    "\n",
    "X, y = ds.drop('label', axis = 1), ds.label\n",
    "\n",
    "\n",
    "# summarize class distribution\n",
    "counter = Counter(y)\n",
    "print(counter)"
   ]
  },
  {
   "cell_type": "code",
   "execution_count": 4,
   "metadata": {},
   "outputs": [
    {
     "name": "stderr",
     "output_type": "stream",
     "text": [
      "/opt/anaconda3/envs/py_36/lib/python3.6/site-packages/sklearn/utils/validation.py:63: DataConversionWarning: A column-vector y was passed when a 1d array was expected. Please change the shape of y to (n_samples, ), for example using ravel().\n",
      "  return f(*args, **kwargs)\n"
     ]
    }
   ],
   "source": [
    "numerical_columns_selector = make_column_selector(dtype_exclude=object)\n",
    "num_features = numerical_columns_selector(X)\n",
    "\n",
    "categorical_columns_selector = make_column_selector(dtype_include=object)\n",
    "cat_features = categorical_columns_selector(X)\n",
    "\n",
    "\n",
    "\n",
    "for feat in num_features:\n",
    "        scaler = StandardScaler()\n",
    "        X[feat] = scaler.fit_transform(np.array(X[feat]).reshape(-1, 1))\n",
    "for feat in cat_features:\n",
    "        encoder = LabelEncoder()\n",
    "        X[feat] = encoder.fit_transform(np.array(X[feat]).reshape(-1, 1))"
   ]
  },
  {
   "cell_type": "code",
   "execution_count": 5,
   "metadata": {},
   "outputs": [
    {
     "name": "stdout",
     "output_type": "stream",
     "text": [
      "(6514, 41) (6514,)\n",
      "F-1: 0.9583333333333334\n",
      "ROC_AUC: 0.9788503110829907\n"
     ]
    }
   ],
   "source": [
    "# split into train and test sets\n",
    "X_train, X_test, y_train, y_test = train_test_split(X, y, test_size=0.33, random_state=42)\n",
    "\n",
    "# summarize the shape of the training dataset\n",
    "print(X_train.shape, y_train.shape)\n",
    "# fit the model\n",
    "model = DecisionTreeClassifier()\n",
    "model.fit(X_train, y_train)\n",
    "# evaluate the model\n",
    "yhat = model.predict(X_test)\n",
    "# evaluate predictions\n",
    "f1 = f1_score(y_test, yhat)\n",
    "auc = roc_auc_score(y_test, yhat)\n",
    "print('F-1: {}\\nROC_AUC: {}'.format(f1, auc))"
   ]
  },
  {
   "cell_type": "markdown",
   "metadata": {},
   "source": [
    "# Histogram-based Outlier Detection (HBOS)\n",
    "*(from pyod)*"
   ]
  },
  {
   "cell_type": "code",
   "execution_count": 6,
   "metadata": {},
   "outputs": [
    {
     "name": "stdout",
     "output_type": "stream",
     "text": [
      "Removed 5862 outliers, kept 652 inliers\n",
      "F-1: 0.9565217391304348\n",
      "ROC_AUC: 0.9583333333333333\n"
     ]
    }
   ],
   "source": [
    "from pyod.models.hbos import HBOS\n",
    "\n",
    "contamination = 0.1\n",
    "hbos = HBOS(contamination=contamination)\n",
    "\n",
    "# fit the data to HBOS\n",
    "hbos.fit(X_train)\n",
    "\n",
    "y_hat = hbos.predict(X_train)\n",
    "\n",
    "# filter out predictions values = 0\n",
    "# as they are considered as anomalies\n",
    "mask = y_hat != 0\n",
    "\n",
    "out_hbos, in_hbos = Counter(mask)[0],Counter(mask)[1]\n",
    "\n",
    "print('Removed {} outliers, kept {} inliers'.format(out_hbos, in_hbos))\n",
    "\n",
    "X_masked, y_masked = X_train[mask], y_train[mask]\n",
    "\n",
    "model = DecisionTreeClassifier()\n",
    "# fit the model\n",
    "model.fit(X_masked, y_masked)\n",
    "# evaluate the model\n",
    "y_pred = model.predict(X_test)\n",
    "# evaluate predictions\n",
    "f1_hbos = f1_score(y_test, y_pred)\n",
    "auc_hbos = roc_auc_score(y_test, y_pred)\n",
    "print('F-1: {}\\nROC_AUC: {}'.format(f1_hbos, auc_hbos))"
   ]
  },
  {
   "cell_type": "markdown",
   "metadata": {},
   "source": [
    "# Density-Based Spatial Clustering of Applications with Noise(DBSCAN)\n",
    "*(from sklearn)*"
   ]
  },
  {
   "cell_type": "code",
   "execution_count": 7,
   "metadata": {},
   "outputs": [
    {
     "name": "stdout",
     "output_type": "stream",
     "text": [
      "Removed 16 outliers, kept 6498 inliers\n",
      "F-1: 0.9484536082474228\n",
      "ROC_AUC: 0.9786921332911527\n"
     ]
    }
   ],
   "source": [
    "from sklearn.cluster import DBSCAN\n",
    "\n",
    "dbscan = DBSCAN(eps=0.1, min_samples=2, metric='cosine')\n",
    "\n",
    "# fit the data to IF\n",
    "y_hat = dbscan.fit_predict(X_train, y_train)\n",
    "\n",
    "# filter out predictions values = -1 \n",
    "# as they are considered as anomalies\n",
    "mask = y_hat != -1\n",
    "\n",
    "out_dbscan, in_dbscan = Counter(mask)[0],Counter(mask)[1]\n",
    "\n",
    "print('Removed {} outliers, kept {} inliers'.format(out_dbscan, in_dbscan))\n",
    "\n",
    "X_masked, y_masked = X_train[mask], y_train[mask]\n",
    "\n",
    "model = DecisionTreeClassifier()\n",
    "# fit the model\n",
    "model.fit(X_masked, y_masked)\n",
    "# evaluate the model\n",
    "y_pred = model.predict(X_test)\n",
    "# evaluate predictions\n",
    "f1_dbscan = f1_score(y_test, y_pred)\n",
    "auc_dbscan = roc_auc_score(y_test, y_pred)\n",
    "print('F-1: {}\\nROC_AUC: {}'.format(f1_dbscan, auc_dbscan))\n"
   ]
  },
  {
   "cell_type": "markdown",
   "metadata": {},
   "source": [
    "# One-Class Support Vector Machine (OCSVM)\n",
    "*(from scikit-learn)*"
   ]
  },
  {
   "cell_type": "code",
   "execution_count": 8,
   "metadata": {},
   "outputs": [
    {
     "name": "stdout",
     "output_type": "stream",
     "text": [
      "Removed 4476 outliers, kept 2038 inliers\n",
      "F-1: 0.9320388349514563\n",
      "ROC_AUC: 0.9988927554571337\n"
     ]
    }
   ],
   "source": [
    "from sklearn.svm import OneClassSVM as OCSVM\n",
    "\n",
    "ocsvm = OCSVM(gamma='auto', kernel='linear')\n",
    "\n",
    "\n",
    "# fit the data to OCSVM\n",
    "y_hat = ocsvm.fit_predict(X_train, y_train)\n",
    "\n",
    "# filter out predictions values = -1 \n",
    "# as they are considered as anomalies\n",
    "mask = y_hat != -1\n",
    "\n",
    "out_ocsvm, in_ocsvm = Counter(mask)[0],Counter(mask)[1]\n",
    "\n",
    "print('Removed {} outliers, kept {} inliers'.format(out_ocsvm, in_ocsvm))\n",
    "\n",
    "X_masked, y_masked = X_train[mask], y_train[mask]\n",
    "\n",
    "\n",
    "model = DecisionTreeClassifier()\n",
    "# fit the model\n",
    "model.fit(X_masked, y_masked)\n",
    "# evaluate the model\n",
    "y_pred = model.predict(X_test)\n",
    "# evaluate predictions\n",
    "f1_ocsvm = f1_score(y_test, y_pred)\n",
    "auc_ocsvm = roc_auc_score(y_test, y_pred)\n",
    "print('F-1: {}\\nROC_AUC: {}'.format(f1_ocsvm, auc_ocsvm))"
   ]
  },
  {
   "cell_type": "markdown",
   "metadata": {},
   "source": [
    "# IsolationForest Outlier Detector \n",
    "*(from pyod also on scikit-learn)*"
   ]
  },
  {
   "cell_type": "code",
   "execution_count": 9,
   "metadata": {},
   "outputs": [
    {
     "name": "stdout",
     "output_type": "stream",
     "text": [
      "Removed 5862 outliers, kept 652 inliers\n",
      "F-1: 0.9565217391304348\n",
      "ROC_AUC: 0.9583333333333333\n"
     ]
    }
   ],
   "source": [
    "from pyod.models.iforest import IForest\n",
    "\n",
    "random_state = np.random.RandomState(42)\n",
    "contamination = 0.1\n",
    "iso = IForest(contamination=contamination, random_state=random_state)\n",
    "\n",
    "# fit the data to IF\n",
    "iso.fit(X_train)\n",
    "\n",
    "y_hat = iso.predict(X_train)\n",
    "\n",
    "# filter out predictions values = 0\n",
    "# as they are considered as anomalies\n",
    "mask = y_hat != 0\n",
    "\n",
    "out_iso, in_iso = Counter(mask)[0],Counter(mask)[1]\n",
    "\n",
    "print('Removed {} outliers, kept {} inliers'.format(out_iso, in_iso))\n",
    "\n",
    "\n",
    "X_masked, y_masked = X_train[mask], y_train[mask]\n",
    "\n",
    "model = DecisionTreeClassifier()\n",
    "# fit the model\n",
    "model.fit(X_masked, y_masked)\n",
    "# evaluate the model\n",
    "y_pred = model.predict(X_test)\n",
    "# evaluate predictions\n",
    "\n",
    "f1_iso = f1_score(y_test, y_pred)\n",
    "auc_iso = roc_auc_score(y_test, y_pred)\n",
    "print('F-1: {}\\nROC_AUC: {}'.format(f1_iso, auc_iso))"
   ]
  },
  {
   "cell_type": "markdown",
   "metadata": {},
   "source": [
    "# Local Outlier Factor (LOF) \n",
    "*(from pyod also on scikit-learn)*"
   ]
  },
  {
   "cell_type": "code",
   "execution_count": 10,
   "metadata": {},
   "outputs": [
    {
     "name": "stdout",
     "output_type": "stream",
     "text": [
      "Removed 5948 outliers, kept 566 inliers\n",
      "F-1: 0.888888888888889\n",
      "ROC_AUC: 0.9981018664979437\n"
     ]
    }
   ],
   "source": [
    "from pyod.models.lof import LOF\n",
    "\n",
    "contamination = 0.1\n",
    "lof = LOF(n_neighbors=20, algorithm='auto', leaf_size=30, metric='minkowski', contamination = contamination)\n",
    "\n",
    "# fit the data to LOF\n",
    "lof.fit(X_train)\n",
    "\n",
    "y_hat = lof.predict(X_train)\n",
    "\n",
    "# filter out predictions values = 0\n",
    "# as they are considered as anomalies\n",
    "mask = y_hat != 0\n",
    "\n",
    "out_lof, in_lof = Counter(mask)[0],Counter(mask)[1]\n",
    "\n",
    "print('Removed {} outliers, kept {} inliers'.format(out_lof, in_lof))\n",
    "\n",
    "\n",
    "X_masked, y_masked = X_train[mask], y_train[mask]\n",
    "\n",
    "model = DecisionTreeClassifier()\n",
    "# fit the model\n",
    "model.fit(X_masked, y_masked)\n",
    "# evaluate the model\n",
    "y_pred = model.predict(X_test)\n",
    "# evaluate predictions\n",
    "f1_lof = f1_score(y_test, y_pred)\n",
    "auc_lof = roc_auc_score(y_test, y_pred)\n",
    "print('F-1: {}\\nROC_AUC: {}'.format(f1_lof, auc_lof))"
   ]
  },
  {
   "cell_type": "markdown",
   "metadata": {},
   "source": [
    "# Clustering Based Local Outlier Factor (CBLOF) \n",
    "*(from pyod)*"
   ]
  },
  {
   "cell_type": "code",
   "execution_count": 11,
   "metadata": {},
   "outputs": [
    {
     "name": "stdout",
     "output_type": "stream",
     "text": [
      "Removed 5862 outliers, kept 652 inliers\n",
      "F-1: 0.9565217391304348\n",
      "ROC_AUC: 0.9583333333333333\n"
     ]
    }
   ],
   "source": [
    "from pyod.models.cblof import CBLOF\n",
    "\n",
    "random_state = np.random.RandomState(42)\n",
    "contamination = 0.1\n",
    "cblof = CBLOF(contamination=contamination, check_estimator=False, random_state=random_state)\n",
    "\n",
    "# fit the data to CBLOF\n",
    "cblof.fit(X_train)\n",
    "\n",
    "y_hat = cblof.predict(X_train)\n",
    "\n",
    "# filter out predictions values = 0\n",
    "# as they are considered as anomalies\n",
    "mask = y_hat != 0\n",
    "\n",
    "out_cblof, in_cblof = Counter(mask)[0],Counter(mask)[1]\n",
    "\n",
    "print('Removed {} outliers, kept {} inliers'.format(out_cblof, in_cblof))\n",
    "\n",
    "\n",
    "X_masked, y_masked = X_train[mask], y_train[mask]\n",
    "\n",
    "model = DecisionTreeClassifier()\n",
    "# fit the model\n",
    "model.fit(X_masked, y_masked)\n",
    "# evaluate the model\n",
    "y_pred = model.predict(X_test)\n",
    "# evaluate predictions\n",
    "f1_cblof = f1_score(y_test, y_pred)\n",
    "auc_cblof = roc_auc_score(y_test, y_pred)\n",
    "print('F-1: {}\\nROC_AUC: {}'.format(f1_cblof, auc_cblof))"
   ]
  },
  {
   "cell_type": "markdown",
   "metadata": {},
   "source": [
    "# ABOD\n",
    "*(from pyod)*"
   ]
  },
  {
   "cell_type": "code",
   "execution_count": 12,
   "metadata": {},
   "outputs": [
    {
     "name": "stdout",
     "output_type": "stream",
     "text": [
      "Removed 5828 outliers, kept 686 inliers\n",
      "F-1: 0.9896907216494846\n",
      "ROC_AUC: 0.999841822208162\n"
     ]
    }
   ],
   "source": [
    "from pyod.models.abod import ABOD\n",
    "\n",
    "contamination = 0.1\n",
    "abod = ABOD(contamination=contamination)\n",
    "\n",
    "# fit the data to ABOD\n",
    "abod.fit(X_train)\n",
    "\n",
    "y_hat = abod.predict(X_train)\n",
    "\n",
    "# filter out predictions values = 0\n",
    "# as they are considered as anomalies\n",
    "mask = y_hat != 0\n",
    "\n",
    "out_abod, in_abod = Counter(mask)[0],Counter(mask)[1]\n",
    "\n",
    "print('Removed {} outliers, kept {} inliers'.format(out_abod, in_abod))\n",
    "\n",
    "\n",
    "X_masked, y_masked = X_train[mask], y_train[mask]\n",
    "\n",
    "model = DecisionTreeClassifier()\n",
    "# fit the model\n",
    "model.fit(X_masked, y_masked)\n",
    "# evaluate the model\n",
    "y_pred = model.predict(X_test)\n",
    "# evaluate predictions\n",
    "f1_abod = f1_score(y_test, y_pred)\n",
    "auc_abod = roc_auc_score(y_test, y_pred)\n",
    "print('F-1: {}\\nROC_AUC: {}'.format(f1_abod, auc_abod))"
   ]
  },
  {
   "cell_type": "markdown",
   "metadata": {},
   "source": [
    "# Feaure Bagging \n",
    "*(from pyod)*"
   ]
  },
  {
   "cell_type": "code",
   "execution_count": 13,
   "metadata": {},
   "outputs": [
    {
     "name": "stdout",
     "output_type": "stream",
     "text": [
      "Removed 5950 outliers, kept 564 inliers\n",
      "F-1: 0.888888888888889\n",
      "ROC_AUC: 0.9981018664979437\n"
     ]
    }
   ],
   "source": [
    "from pyod.models.feature_bagging import FeatureBagging\n",
    "\n",
    "random_state = np.random.RandomState(42)\n",
    "contamination = 0.1\n",
    "fbd = FeatureBagging(LOF(n_neighbors=20),contamination=contamination,\n",
    "                    check_estimator=False,random_state=random_state)\n",
    "\n",
    "# fit the data to FB\n",
    "fbd.fit(X_train)\n",
    "\n",
    "y_hat = fbd.predict(X_train)\n",
    "\n",
    "# filter out predictions values = 0\n",
    "# as they are considered as anomalies\n",
    "mask = y_hat != 0\n",
    "\n",
    "out_fb, in_fb = Counter(mask)[0],Counter(mask)[1]\n",
    "\n",
    "print('Removed {} outliers, kept {} inliers'.format(out_fb, in_fb))\n",
    "\n",
    "\n",
    "X_masked, y_masked = X_train[mask], y_train[mask]\n",
    "\n",
    "model = DecisionTreeClassifier()\n",
    "# fit the model\n",
    "model.fit(X_masked, y_masked)\n",
    "# evaluate the model\n",
    "y_pred = model.predict(X_test)\n",
    "# evaluate predictions\n",
    "f1_fb = f1_score(y_test, y_pred)\n",
    "auc_fb = roc_auc_score(y_test, y_pred)\n",
    "print('F-1: {}\\nROC_AUC: {}'.format(f1_fb, auc_fb))"
   ]
  },
  {
   "cell_type": "markdown",
   "metadata": {},
   "source": [
    "# Summarize results"
   ]
  },
  {
   "cell_type": "code",
   "execution_count": 14,
   "metadata": {},
   "outputs": [],
   "source": [
    "cols = ['Detector', 'Outliers', 'Inliers', 'F1', 'ROC_AUC']\n",
    "\n",
    "df = pd.DataFrame(columns=cols)\n",
    "\n",
    "detectors = ['None', 'OCSVM', 'ABOD', 'CBLOF', 'DBSCAN', 'FB', 'IF', 'HBOS', 'LOF']\n",
    "\n",
    "aucs = [auc, auc_ocsvm, auc_abod, auc_cblof, auc_dbscan, auc_fb, auc_iso, auc_hbos, auc_lof]\n",
    "\n",
    "f1s = [f1, f1_ocsvm, f1_abod, f1_cblof, f1_dbscan, f1_fb, f1_iso, f1_hbos, f1_lof]\n",
    "\n",
    "inliers = [np.NaN, in_ocsvm, in_abod, in_cblof, in_dbscan, in_fb, in_iso, in_hbos, in_lof]\n",
    "\n",
    "outliers = [np.NaN, out_ocsvm, out_abod, out_cblof, out_dbscan, out_fb, out_iso, out_hbos, out_lof]\n",
    "\n",
    "df.Detector = detectors\n",
    "df.Outliers = outliers\n",
    "df.Inliers = inliers\n",
    "df.F1 = f1s\n",
    "df.ROC_AUC = aucs\n"
   ]
  },
  {
   "cell_type": "code",
   "execution_count": 15,
   "metadata": {},
   "outputs": [
    {
     "data": {
      "text/html": [
       "<div>\n",
       "<style scoped>\n",
       "    .dataframe tbody tr th:only-of-type {\n",
       "        vertical-align: middle;\n",
       "    }\n",
       "\n",
       "    .dataframe tbody tr th {\n",
       "        vertical-align: top;\n",
       "    }\n",
       "\n",
       "    .dataframe thead th {\n",
       "        text-align: right;\n",
       "    }\n",
       "</style>\n",
       "<table border=\"1\" class=\"dataframe\">\n",
       "  <thead>\n",
       "    <tr style=\"text-align: right;\">\n",
       "      <th></th>\n",
       "      <th>Detector</th>\n",
       "      <th>Outliers</th>\n",
       "      <th>Inliers</th>\n",
       "      <th>F1</th>\n",
       "      <th>ROC_AUC</th>\n",
       "    </tr>\n",
       "  </thead>\n",
       "  <tbody>\n",
       "    <tr>\n",
       "      <th>0</th>\n",
       "      <td>None</td>\n",
       "      <td>NaN</td>\n",
       "      <td>NaN</td>\n",
       "      <td>0.958333</td>\n",
       "      <td>0.978850</td>\n",
       "    </tr>\n",
       "    <tr>\n",
       "      <th>1</th>\n",
       "      <td>OCSVM</td>\n",
       "      <td>4476.0</td>\n",
       "      <td>2038.0</td>\n",
       "      <td>0.932039</td>\n",
       "      <td>0.998893</td>\n",
       "    </tr>\n",
       "    <tr>\n",
       "      <th>2</th>\n",
       "      <td>ABOD</td>\n",
       "      <td>5828.0</td>\n",
       "      <td>686.0</td>\n",
       "      <td>0.989691</td>\n",
       "      <td>0.999842</td>\n",
       "    </tr>\n",
       "    <tr>\n",
       "      <th>3</th>\n",
       "      <td>CBLOF</td>\n",
       "      <td>5862.0</td>\n",
       "      <td>652.0</td>\n",
       "      <td>0.956522</td>\n",
       "      <td>0.958333</td>\n",
       "    </tr>\n",
       "    <tr>\n",
       "      <th>4</th>\n",
       "      <td>DBSCAN</td>\n",
       "      <td>16.0</td>\n",
       "      <td>6498.0</td>\n",
       "      <td>0.948454</td>\n",
       "      <td>0.978692</td>\n",
       "    </tr>\n",
       "    <tr>\n",
       "      <th>5</th>\n",
       "      <td>FB</td>\n",
       "      <td>5950.0</td>\n",
       "      <td>564.0</td>\n",
       "      <td>0.888889</td>\n",
       "      <td>0.998102</td>\n",
       "    </tr>\n",
       "    <tr>\n",
       "      <th>6</th>\n",
       "      <td>IF</td>\n",
       "      <td>5862.0</td>\n",
       "      <td>652.0</td>\n",
       "      <td>0.956522</td>\n",
       "      <td>0.958333</td>\n",
       "    </tr>\n",
       "    <tr>\n",
       "      <th>7</th>\n",
       "      <td>HBOS</td>\n",
       "      <td>5862.0</td>\n",
       "      <td>652.0</td>\n",
       "      <td>0.956522</td>\n",
       "      <td>0.958333</td>\n",
       "    </tr>\n",
       "    <tr>\n",
       "      <th>8</th>\n",
       "      <td>LOF</td>\n",
       "      <td>5948.0</td>\n",
       "      <td>566.0</td>\n",
       "      <td>0.888889</td>\n",
       "      <td>0.998102</td>\n",
       "    </tr>\n",
       "  </tbody>\n",
       "</table>\n",
       "</div>"
      ],
      "text/plain": [
       "  Detector  Outliers  Inliers        F1   ROC_AUC\n",
       "0     None       NaN      NaN  0.958333  0.978850\n",
       "1    OCSVM    4476.0   2038.0  0.932039  0.998893\n",
       "2     ABOD    5828.0    686.0  0.989691  0.999842\n",
       "3    CBLOF    5862.0    652.0  0.956522  0.958333\n",
       "4   DBSCAN      16.0   6498.0  0.948454  0.978692\n",
       "5       FB    5950.0    564.0  0.888889  0.998102\n",
       "6       IF    5862.0    652.0  0.956522  0.958333\n",
       "7     HBOS    5862.0    652.0  0.956522  0.958333\n",
       "8      LOF    5948.0    566.0  0.888889  0.998102"
      ]
     },
     "execution_count": 15,
     "metadata": {},
     "output_type": "execute_result"
    }
   ],
   "source": [
    "df"
   ]
  },
  {
   "cell_type": "code",
   "execution_count": null,
   "metadata": {},
   "outputs": [],
   "source": []
  }
 ],
 "metadata": {
  "interpreter": {
   "hash": "db458622ca08d8b91a8cba06818a45d46a8eaf2221b27a9be390a863a9501f34"
  },
  "kernelspec": {
   "display_name": "Python 3.6.13 64-bit ('py_36': conda)",
   "language": "python",
   "name": "python3"
  },
  "language_info": {
   "codemirror_mode": {
    "name": "ipython",
    "version": 3
   },
   "file_extension": ".py",
   "mimetype": "text/x-python",
   "name": "python",
   "nbconvert_exporter": "python",
   "pygments_lexer": "ipython3",
   "version": "3.6.13"
  },
  "orig_nbformat": 4
 },
 "nbformat": 4,
 "nbformat_minor": 2
}
