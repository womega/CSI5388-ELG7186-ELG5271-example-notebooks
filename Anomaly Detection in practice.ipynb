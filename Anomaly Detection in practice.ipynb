{
 "cells": [
  {
   "cell_type": "markdown",
   "metadata": {},
   "source": [
    "# Anomaly Detection in Practice"
   ]
  },
  {
   "cell_type": "code",
   "execution_count": 1,
   "metadata": {},
   "outputs": [],
   "source": [
    "# Generate and plot a synthetic imbalanced classification dataset\n",
    "from collections import Counter\n",
    "from sklearn.datasets import make_classification\n",
    "from matplotlib import pyplot\n",
    "from numpy import where\n",
    "from sklearn.model_selection import train_test_split\n",
    "from sklearn.linear_model import LogisticRegression\n",
    "from sklearn.metrics import mean_absolute_error\n",
    "import pandas as pd\n",
    "import numpy as np\n",
    "\n",
    "np.random.seed(42)\n",
    "\n",
    "# import the outlier detection toolkit\n",
    "# install it with \n",
    "# ! pip install --upgrade pyod \n",
    "import pyod\n"
   ]
  },
  {
   "cell_type": "code",
   "execution_count": 2,
   "metadata": {},
   "outputs": [
    {
     "name": "stdout",
     "output_type": "stream",
     "text": [
      "Counter({0: 7500, 1: 2500})\n"
     ]
    },
    {
     "data": {
      "image/png": "[encoded data removed]",
      "text/plain": [
       "<Figure size 432x288 with 1 Axes>"
      ]
     },
     "metadata": {
      "needs_background": "light"
     },
     "output_type": "display_data"
    }
   ],
   "source": [
    "# create an imbalaced toy dataset with 10000 samples and 10 features\n",
    "# class 0: 7500 samples, class 1: 2500 samples \n",
    "X, y = make_classification(n_samples=10000, weights=[0.75], n_features = 10,\n",
    "                           flip_y=0, random_state=42)\n",
    "\n",
    "# summarize class distribution\n",
    "counter = Counter(y)\n",
    "print(counter)\n",
    "# scatter plot of examples by class label\n",
    "for label, _ in counter.items():\n",
    "\trow_ix = where(y == label)[0]\n",
    "\tpyplot.scatter(X[row_ix, 0], X[row_ix, 1], label=str(label))\n",
    "pyplot.legend()\n",
    "pyplot.show()"
   ]
  },
  {
   "cell_type": "code",
   "execution_count": 3,
   "metadata": {},
   "outputs": [
    {
     "name": "stdout",
     "output_type": "stream",
     "text": [
      "(6700, 10) (6700,)\n",
      "MAE: 0.094\n"
     ]
    }
   ],
   "source": [
    "# split into train and test sets\n",
    "X_train, X_test, y_train, y_test = train_test_split(X, y, test_size=0.33, random_state=42)\n",
    "\n",
    "# summarize the shape of the training dataset\n",
    "print(X_train.shape, y_train.shape)\n",
    "# fit the model\n",
    "model = LogisticRegression()\n",
    "model.fit(X_train, y_train)\n",
    "# evaluate the model\n",
    "yhat = model.predict(X_test)\n",
    "# evaluate predictions\n",
    "mae = mean_absolute_error(y_test, yhat)\n",
    "print('MAE: %.3f' % mae)"
   ]
  },
  {
   "cell_type": "markdown",
   "metadata": {},
   "source": [
    "# Histogram-based Outlier Detection (HBOS)\n",
    "*(from pyod)*"
   ]
  },
  {
   "cell_type": "code",
   "execution_count": 4,
   "metadata": {},
   "outputs": [
    {
     "name": "stdout",
     "output_type": "stream",
     "text": [
      "Removed 6030 outliers, kept 670 inliers\n",
      "MAE HBOS: 0.11303030303030304\n"
     ]
    }
   ],
   "source": [
    "from pyod.models.hbos import HBOS\n",
    "\n",
    "contamination = 0.1\n",
    "hbos = HBOS(contamination=contamination)\n",
    "\n",
    "# fit the data to HBOS\n",
    "hbos.fit(X_train)\n",
    "\n",
    "y_hat = hbos.predict(X_train)\n",
    "\n",
    "# filter out predictions values = 0\n",
    "# as they are considered as anomalies\n",
    "mask = y_hat != 0\n",
    "\n",
    "out_hbos, in_hbos = Counter(mask)[0],Counter(mask)[1]\n",
    "\n",
    "print('Removed {} outliers, kept {} inliers'.format(out_hbos, in_hbos))\n",
    "\n",
    "X_masked, y_masked = X_train[mask, :], y_train[mask]\n",
    "\n",
    "model = LogisticRegression()\n",
    "# fit the model\n",
    "model.fit(X_masked, y_masked)\n",
    "# evaluate the model\n",
    "y_pred = model.predict(X_test)\n",
    "# evaluate predictions\n",
    "mae_hbos = mean_absolute_error(y_test, y_pred)\n",
    "\n",
    "print('MAE HBOS: {}'.format(mae_hbos))"
   ]
  },
  {
   "cell_type": "markdown",
   "metadata": {},
   "source": [
    "# Density-Based Spatial Clustering of Applications with Noise(DBSCAN)\n",
    "*(from sklearn)*"
   ]
  },
  {
   "cell_type": "code",
   "execution_count": 5,
   "metadata": {},
   "outputs": [
    {
     "name": "stdout",
     "output_type": "stream",
     "text": [
      "Removed 397 outliers, kept 6303 inliers\n",
      "MAE DBSCAN: 0.09181818181818181\n"
     ]
    }
   ],
   "source": [
    "from sklearn.cluster import DBSCAN\n",
    "\n",
    "dbscan = DBSCAN(eps=0.1, min_samples=2, metric='cosine')\n",
    "\n",
    "# fit the data to IF\n",
    "y_hat = dbscan.fit_predict(X_train, y_train)\n",
    "\n",
    "# filter out predictions values = -1 \n",
    "# as they are considered as anomalies\n",
    "mask = y_hat != -1\n",
    "\n",
    "out_dbscan, in_dbscan = Counter(mask)[0],Counter(mask)[1]\n",
    "\n",
    "print('Removed {} outliers, kept {} inliers'.format(out_dbscan, in_dbscan))\n",
    "\n",
    "X_masked, y_masked = X_train[mask], y_train[mask]\n",
    "\n",
    "model = LogisticRegression()\n",
    "# fit the model\n",
    "model.fit(X_masked, y_masked)\n",
    "# evaluate the model\n",
    "y_pred = model.predict(X_test)\n",
    "# evaluate predictions\n",
    "mae_dbscan = mean_absolute_error(y_test, y_pred)\n",
    "\n",
    "print('MAE DBSCAN: {}'.format(mae_dbscan))\n"
   ]
  },
  {
   "cell_type": "markdown",
   "metadata": {},
   "source": [
    "# One-Class Support Vector Machine (OCSVM)\n",
    "*(from scikit-learn)*"
   ]
  },
  {
   "cell_type": "code",
   "execution_count": 6,
   "metadata": {},
   "outputs": [
    {
     "name": "stdout",
     "output_type": "stream",
     "text": [
      "Removed 3352 outliers, kept 3348 inliers\n",
      "MAE OCSVM: 0.08878787878787879\n"
     ]
    }
   ],
   "source": [
    "from sklearn.svm import OneClassSVM as OCSVM\n",
    "\n",
    "ocsvm = OCSVM(gamma='auto', kernel='rbf')\n",
    "\n",
    "\n",
    "# fit the data to OCSVM\n",
    "y_hat = ocsvm.fit_predict(X_train, y_train)\n",
    "\n",
    "# filter out predictions values = -1 \n",
    "# as they are considered as anomalies\n",
    "mask = y_hat != -1\n",
    "\n",
    "out_ocsvm, in_ocsvm = Counter(mask)[0],Counter(mask)[1]\n",
    "\n",
    "print('Removed {} outliers, kept {} inliers'.format(out_ocsvm, in_ocsvm))\n",
    "\n",
    "X_masked, y_masked = X_train[mask], y_train[mask]\n",
    "\n",
    "\n",
    "model = LogisticRegression()\n",
    "# fit the model\n",
    "model.fit(X_masked, y_masked)\n",
    "# evaluate the model\n",
    "y_pred = model.predict(X_test)\n",
    "# evaluate predictions\n",
    "mae_ocsvm = mean_absolute_error(y_test, y_pred)\n",
    "\n",
    "print('MAE OCSVM: {}'.format(mae_ocsvm))\n",
    "\n"
   ]
  },
  {
   "cell_type": "markdown",
   "metadata": {},
   "source": [
    "# IsolationForest Outlier Detector \n",
    "*(from pyod also on scikit-learn)*"
   ]
  },
  {
   "cell_type": "code",
   "execution_count": 7,
   "metadata": {},
   "outputs": [
    {
     "name": "stdout",
     "output_type": "stream",
     "text": [
      "Removed 6030 outliers, kept 670 inliers\n",
      "MAE iForest: 0.10363636363636364\n"
     ]
    }
   ],
   "source": [
    "from pyod.models.iforest import IForest\n",
    "\n",
    "random_state = np.random.RandomState(42)\n",
    "contamination = 0.1\n",
    "iso = IForest(contamination=contamination, random_state=random_state)\n",
    "\n",
    "# fit the data to IF\n",
    "iso.fit(X_train)\n",
    "\n",
    "y_hat = iso.predict(X_train)\n",
    "\n",
    "# filter out predictions values = 0\n",
    "# as they are considered as anomalies\n",
    "mask = y_hat != 0\n",
    "\n",
    "out_iso, in_iso = Counter(mask)[0],Counter(mask)[1]\n",
    "\n",
    "print('Removed {} outliers, kept {} inliers'.format(out_iso, in_iso))\n",
    "\n",
    "\n",
    "X_masked, y_masked = X_train[mask, :], y_train[mask]\n",
    "\n",
    "model = LogisticRegression()\n",
    "# fit the model\n",
    "model.fit(X_masked, y_masked)\n",
    "# evaluate the model\n",
    "y_pred = model.predict(X_test)\n",
    "# evaluate predictions\n",
    "mae_iso = mean_absolute_error(y_test, y_pred)\n",
    "\n",
    "print('MAE iForest: {}'.format(mae_iso))"
   ]
  },
  {
   "cell_type": "markdown",
   "metadata": {},
   "source": [
    "# Local Outlier Factor (LOF) \n",
    "*(from pyod also on scikit-learn)*"
   ]
  },
  {
   "cell_type": "code",
   "execution_count": 8,
   "metadata": {},
   "outputs": [
    {
     "name": "stdout",
     "output_type": "stream",
     "text": [
      "Removed 6105 outliers, kept 595 inliers\n",
      "MAE iForest: 0.10606060606060606\n"
     ]
    }
   ],
   "source": [
    "from pyod.models.lof import LOF\n",
    "\n",
    "contamination = 0.1\n",
    "lof = LOF(n_neighbors=20, algorithm='auto', leaf_size=30, metric='minkowski', contamination = contamination)\n",
    "\n",
    "# fit the data to LOF\n",
    "lof.fit(X_train)\n",
    "\n",
    "y_hat = lof.predict(X_train)\n",
    "\n",
    "# filter out predictions values = 0\n",
    "# as they are considered as anomalies\n",
    "mask = y_hat != 0\n",
    "\n",
    "out_lof, in_lof = Counter(mask)[0],Counter(mask)[1]\n",
    "\n",
    "print('Removed {} outliers, kept {} inliers'.format(out_lof, in_lof))\n",
    "\n",
    "\n",
    "X_masked, y_masked = X_train[mask, :], y_train[mask]\n",
    "\n",
    "model = LogisticRegression()\n",
    "# fit the model\n",
    "model.fit(X_masked, y_masked)\n",
    "# evaluate the model\n",
    "y_pred = model.predict(X_test)\n",
    "# evaluate predictions\n",
    "mae_lof = mean_absolute_error(y_test, y_pred)\n",
    "\n",
    "print('MAE iForest: {}'.format(mae_lof))"
   ]
  },
  {
   "cell_type": "markdown",
   "metadata": {},
   "source": [
    "# Clustering Based Local Outlier Factor (CBLOF) \n",
    "*(from pyod)*"
   ]
  },
  {
   "cell_type": "code",
   "execution_count": 9,
   "metadata": {},
   "outputs": [
    {
     "name": "stdout",
     "output_type": "stream",
     "text": [
      "Removed 6030 outliers, kept 670 inliers\n",
      "MAE CBLOF: 0.1003030303030303\n"
     ]
    }
   ],
   "source": [
    "from pyod.models.cblof import CBLOF\n",
    "\n",
    "random_state = np.random.RandomState(42)\n",
    "contamination = 0.1\n",
    "cblof = CBLOF(contamination=contamination, check_estimator=False, random_state=random_state)\n",
    "\n",
    "# fit the data to CBLOF\n",
    "cblof.fit(X_train)\n",
    "\n",
    "y_hat = cblof.predict(X_train)\n",
    "\n",
    "# filter out predictions values = 0\n",
    "# as they are considered as anomalies\n",
    "mask = y_hat != 0\n",
    "\n",
    "out_cblof, in_cblof = Counter(mask)[0],Counter(mask)[1]\n",
    "\n",
    "print('Removed {} outliers, kept {} inliers'.format(out_cblof, in_cblof))\n",
    "\n",
    "\n",
    "X_masked, y_masked = X_train[mask, :], y_train[mask]\n",
    "\n",
    "model = LogisticRegression()\n",
    "# fit the model\n",
    "model.fit(X_masked, y_masked)\n",
    "# evaluate the model\n",
    "y_pred = model.predict(X_test)\n",
    "# evaluate predictions\n",
    "mae_cblof = mean_absolute_error(y_test, y_pred)\n",
    "\n",
    "print('MAE CBLOF: {}'.format(mae_cblof))"
   ]
  },
  {
   "cell_type": "markdown",
   "metadata": {},
   "source": [
    "# ABOD\n",
    "*(from pyod)*"
   ]
  },
  {
   "cell_type": "code",
   "execution_count": 10,
   "metadata": {},
   "outputs": [
    {
     "name": "stdout",
     "output_type": "stream",
     "text": [
      "Removed 5841 outliers, kept 859 inliers\n",
      "MAE ABOD: 0.10424242424242425\n"
     ]
    }
   ],
   "source": [
    "from pyod.models.abod import ABOD\n",
    "\n",
    "contamination = 0.1\n",
    "abod = ABOD(contamination=contamination)\n",
    "\n",
    "# fit the data to ABOD\n",
    "abod.fit(X_train)\n",
    "\n",
    "y_hat = abod.predict(X_train)\n",
    "\n",
    "# filter out predictions values = 0\n",
    "# as they are considered as anomalies\n",
    "mask = y_hat != 0\n",
    "\n",
    "out_abod, in_abod = Counter(mask)[0],Counter(mask)[1]\n",
    "\n",
    "print('Removed {} outliers, kept {} inliers'.format(out_abod, in_abod))\n",
    "\n",
    "\n",
    "X_masked, y_masked = X_train[mask, :], y_train[mask]\n",
    "\n",
    "model = LogisticRegression()\n",
    "# fit the model\n",
    "model.fit(X_masked, y_masked)\n",
    "# evaluate the model\n",
    "y_pred = model.predict(X_test)\n",
    "# evaluate predictions\n",
    "mae_abod = mean_absolute_error(y_test, y_pred)\n",
    "\n",
    "print('MAE ABOD: {}'.format(mae_abod))"
   ]
  },
  {
   "cell_type": "markdown",
   "metadata": {},
   "source": [
    "# Feaure Bagging \n",
    "*(from pyod)*"
   ]
  },
  {
   "cell_type": "code",
   "execution_count": 11,
   "metadata": {},
   "outputs": [
    {
     "name": "stdout",
     "output_type": "stream",
     "text": [
      "Removed 6122 outliers, kept 578 inliers\n",
      "MAE Feature Bagging: 0.10818181818181818\n"
     ]
    }
   ],
   "source": [
    "from pyod.models.feature_bagging import FeatureBagging\n",
    "\n",
    "random_state = np.random.RandomState(42)\n",
    "contamination = 0.1\n",
    "fbd = FeatureBagging(LOF(n_neighbors=20),contamination=contamination,\n",
    "                    check_estimator=False,random_state=random_state)\n",
    "\n",
    "# fit the data to FB\n",
    "fbd.fit(X_train)\n",
    "\n",
    "y_hat = fbd.predict(X_train)\n",
    "\n",
    "# filter out predictions values = 0\n",
    "# as they are considered as anomalies\n",
    "mask = y_hat != 0\n",
    "\n",
    "out_fb, in_fb = Counter(mask)[0],Counter(mask)[1]\n",
    "\n",
    "print('Removed {} outliers, kept {} inliers'.format(out_fb, in_fb))\n",
    "\n",
    "\n",
    "X_masked, y_masked = X_train[mask, :], y_train[mask]\n",
    "\n",
    "model = LogisticRegression()\n",
    "# fit the model\n",
    "model.fit(X_masked, y_masked)\n",
    "# evaluate the model\n",
    "y_pred = model.predict(X_test)\n",
    "# evaluate predictions\n",
    "mae_fb = mean_absolute_error(y_test, y_pred)\n",
    "\n",
    "print('MAE Feature Bagging: {}'.format(mae_fb))"
   ]
  },
  {
   "cell_type": "markdown",
   "metadata": {},
   "source": [
    "# Summarize results"
   ]
  },
  {
   "cell_type": "code",
   "execution_count": 12,
   "metadata": {},
   "outputs": [],
   "source": [
    "cols = ['Detector', 'Outliers', 'Inliers', 'MAE']\n",
    "\n",
    "df = pd.DataFrame(columns=cols)\n",
    "\n",
    "detectors = ['None', 'OCSVM', 'ABOD', 'CBLOF', 'DBSCAN', 'FB', 'IF', 'HBOS', 'LOF']\n",
    "\n",
    "maes = [mae, mae_ocsvm, mae_abod, mae_cblof, mae_dbscan, mae_fb, mae_iso, mae_hbos, mae_lof]\n",
    "\n",
    "inliers = [np.NaN, in_ocsvm, in_abod, in_cblof, in_dbscan, in_fb, in_iso, in_hbos, in_lof]\n",
    "\n",
    "outliers = [np.NaN, out_ocsvm, out_abod, out_cblof, out_dbscan, out_fb, out_iso, out_hbos, out_lof]\n",
    "\n",
    "df.Detector = detectors\n",
    "df.Outliers = outliers\n",
    "df.Inliers = inliers\n",
    "df.MAE = maes\n"
   ]
  },
  {
   "cell_type": "code",
   "execution_count": 13,
   "metadata": {},
   "outputs": [
    {
     "data": {
      "text/html": [
       "<div>\n",
       "<style scoped>\n",
       "    .dataframe tbody tr th:only-of-type {\n",
       "        vertical-align: middle;\n",
       "    }\n",
       "\n",
       "    .dataframe tbody tr th {\n",
       "        vertical-align: top;\n",
       "    }\n",
       "\n",
       "    .dataframe thead th {\n",
       "        text-align: right;\n",
       "    }\n",
       "</style>\n",
       "<table border=\"1\" class=\"dataframe\">\n",
       "  <thead>\n",
       "    <tr style=\"text-align: right;\">\n",
       "      <th></th>\n",
       "      <th>Detector</th>\n",
       "      <th>Outliers</th>\n",
       "      <th>Inliers</th>\n",
       "      <th>MAE</th>\n",
       "    </tr>\n",
       "  </thead>\n",
       "  <tbody>\n",
       "    <tr>\n",
       "      <th>0</th>\n",
       "      <td>None</td>\n",
       "      <td>NaN</td>\n",
       "      <td>NaN</td>\n",
       "      <td>0.093636</td>\n",
       "    </tr>\n",
       "    <tr>\n",
       "      <th>1</th>\n",
       "      <td>OCSVM</td>\n",
       "      <td>3352.0</td>\n",
       "      <td>3348.0</td>\n",
       "      <td>0.088788</td>\n",
       "    </tr>\n",
       "    <tr>\n",
       "      <th>2</th>\n",
       "      <td>ABOD</td>\n",
       "      <td>5841.0</td>\n",
       "      <td>859.0</td>\n",
       "      <td>0.104242</td>\n",
       "    </tr>\n",
       "    <tr>\n",
       "      <th>3</th>\n",
       "      <td>CBLOF</td>\n",
       "      <td>6030.0</td>\n",
       "      <td>670.0</td>\n",
       "      <td>0.100303</td>\n",
       "    </tr>\n",
       "    <tr>\n",
       "      <th>4</th>\n",
       "      <td>DBSCAN</td>\n",
       "      <td>397.0</td>\n",
       "      <td>6303.0</td>\n",
       "      <td>0.091818</td>\n",
       "    </tr>\n",
       "    <tr>\n",
       "      <th>5</th>\n",
       "      <td>FB</td>\n",
       "      <td>6122.0</td>\n",
       "      <td>578.0</td>\n",
       "      <td>0.108182</td>\n",
       "    </tr>\n",
       "    <tr>\n",
       "      <th>6</th>\n",
       "      <td>IF</td>\n",
       "      <td>6030.0</td>\n",
       "      <td>670.0</td>\n",
       "      <td>0.103636</td>\n",
       "    </tr>\n",
       "    <tr>\n",
       "      <th>7</th>\n",
       "      <td>HBOS</td>\n",
       "      <td>6030.0</td>\n",
       "      <td>670.0</td>\n",
       "      <td>0.113030</td>\n",
       "    </tr>\n",
       "    <tr>\n",
       "      <th>8</th>\n",
       "      <td>LOF</td>\n",
       "      <td>6105.0</td>\n",
       "      <td>595.0</td>\n",
       "      <td>0.106061</td>\n",
       "    </tr>\n",
       "  </tbody>\n",
       "</table>\n",
       "</div>"
      ],
      "text/plain": [
       "  Detector  Outliers  Inliers       MAE\n",
       "0     None       NaN      NaN  0.093636\n",
       "1    OCSVM    3352.0   3348.0  0.088788\n",
       "2     ABOD    5841.0    859.0  0.104242\n",
       "3    CBLOF    6030.0    670.0  0.100303\n",
       "4   DBSCAN     397.0   6303.0  0.091818\n",
       "5       FB    6122.0    578.0  0.108182\n",
       "6       IF    6030.0    670.0  0.103636\n",
       "7     HBOS    6030.0    670.0  0.113030\n",
       "8      LOF    6105.0    595.0  0.106061"
      ]
     },
     "execution_count": 13,
     "metadata": {},
     "output_type": "execute_result"
    }
   ],
   "source": [
    "df"
   ]
  },
  {
   "cell_type": "code",
   "execution_count": null,
   "metadata": {},
   "outputs": [],
   "source": []
  }
 ],
 "metadata": {
  "interpreter": {
   "hash": "db458622ca08d8b91a8cba06818a45d46a8eaf2221b27a9be390a863a9501f34"
  },
  "kernelspec": {
   "display_name": "Python 3.6.13 64-bit ('py_36': conda)",
   "language": "python",
   "name": "python3"
  },
  "language_info": {
   "codemirror_mode": {
    "name": "ipython",
    "version": 3
   },
   "file_extension": ".py",
   "mimetype": "text/x-python",
   "name": "python",
   "nbconvert_exporter": "python",
   "pygments_lexer": "ipython3",
   "version": "3.6.13"
  },
  "orig_nbformat": 4
 },
 "nbformat": 4,
 "nbformat_minor": 2
}
